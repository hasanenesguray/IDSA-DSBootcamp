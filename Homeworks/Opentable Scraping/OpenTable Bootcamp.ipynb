{
 "cells": [
  {
   "cell_type": "code",
   "execution_count": 1,
   "id": "18b8f7ce",
   "metadata": {},
   "outputs": [
    {
     "name": "stdout",
     "output_type": "stream",
     "text": [
      "Requirement already satisfied: selenium in /Users/hasanenesguray/opt/anaconda3/lib/python3.9/site-packages (4.6.0)\n",
      "Requirement already satisfied: trio-websocket~=0.9 in /Users/hasanenesguray/opt/anaconda3/lib/python3.9/site-packages (from selenium) (0.9.2)\n",
      "Requirement already satisfied: urllib3[socks]~=1.26 in /Users/hasanenesguray/opt/anaconda3/lib/python3.9/site-packages (from selenium) (1.26.11)\n",
      "Requirement already satisfied: trio~=0.17 in /Users/hasanenesguray/opt/anaconda3/lib/python3.9/site-packages (from selenium) (0.22.0)\n",
      "Requirement already satisfied: certifi>=2021.10.8 in /Users/hasanenesguray/opt/anaconda3/lib/python3.9/site-packages (from selenium) (2022.6.15)\n",
      "Requirement already satisfied: exceptiongroup>=1.0.0rc9 in /Users/hasanenesguray/opt/anaconda3/lib/python3.9/site-packages (from trio~=0.17->selenium) (1.0.1)\n",
      "Requirement already satisfied: async-generator>=1.9 in /Users/hasanenesguray/opt/anaconda3/lib/python3.9/site-packages (from trio~=0.17->selenium) (1.10)\n",
      "Requirement already satisfied: sortedcontainers in /Users/hasanenesguray/opt/anaconda3/lib/python3.9/site-packages (from trio~=0.17->selenium) (2.4.0)\n",
      "Requirement already satisfied: attrs>=19.2.0 in /Users/hasanenesguray/opt/anaconda3/lib/python3.9/site-packages (from trio~=0.17->selenium) (22.1.0)\n",
      "Requirement already satisfied: idna in /Users/hasanenesguray/opt/anaconda3/lib/python3.9/site-packages (from trio~=0.17->selenium) (3.3)\n",
      "Requirement already satisfied: outcome in /Users/hasanenesguray/opt/anaconda3/lib/python3.9/site-packages (from trio~=0.17->selenium) (1.2.0)\n",
      "Requirement already satisfied: sniffio in /Users/hasanenesguray/opt/anaconda3/lib/python3.9/site-packages (from trio~=0.17->selenium) (1.2.0)\n",
      "Requirement already satisfied: wsproto>=0.14 in /Users/hasanenesguray/opt/anaconda3/lib/python3.9/site-packages (from trio-websocket~=0.9->selenium) (1.2.0)\n",
      "Requirement already satisfied: PySocks!=1.5.7,<2.0,>=1.5.6 in /Users/hasanenesguray/opt/anaconda3/lib/python3.9/site-packages (from urllib3[socks]~=1.26->selenium) (1.7.1)\n",
      "Requirement already satisfied: h11<1,>=0.9.0 in /Users/hasanenesguray/opt/anaconda3/lib/python3.9/site-packages (from wsproto>=0.14->trio-websocket~=0.9->selenium) (0.12.0)\n",
      "Note: you may need to restart the kernel to use updated packages.\n"
     ]
    }
   ],
   "source": [
    "pip install selenium"
   ]
  },
  {
   "cell_type": "code",
   "execution_count": 2,
   "id": "362f4cb7",
   "metadata": {},
   "outputs": [
    {
     "name": "stdout",
     "output_type": "stream",
     "text": [
      "Requirement already satisfied: webdriver-manager in /Users/hasanenesguray/opt/anaconda3/lib/python3.9/site-packages (3.8.4)\n",
      "Requirement already satisfied: tqdm in /Users/hasanenesguray/opt/anaconda3/lib/python3.9/site-packages (from webdriver-manager) (4.64.0)\n",
      "Requirement already satisfied: requests in /Users/hasanenesguray/opt/anaconda3/lib/python3.9/site-packages (from webdriver-manager) (2.28.0)\n",
      "Requirement already satisfied: python-dotenv in /Users/hasanenesguray/opt/anaconda3/lib/python3.9/site-packages (from webdriver-manager) (0.21.0)\n",
      "Requirement already satisfied: charset-normalizer~=2.0.0 in /Users/hasanenesguray/opt/anaconda3/lib/python3.9/site-packages (from requests->webdriver-manager) (2.0.12)\n",
      "Requirement already satisfied: idna<4,>=2.5 in /Users/hasanenesguray/opt/anaconda3/lib/python3.9/site-packages (from requests->webdriver-manager) (3.3)\n",
      "Requirement already satisfied: urllib3<1.27,>=1.21.1 in /Users/hasanenesguray/opt/anaconda3/lib/python3.9/site-packages (from requests->webdriver-manager) (1.26.11)\n",
      "Requirement already satisfied: certifi>=2017.4.17 in /Users/hasanenesguray/opt/anaconda3/lib/python3.9/site-packages (from requests->webdriver-manager) (2022.6.15)\n",
      "Note: you may need to restart the kernel to use updated packages.\n"
     ]
    }
   ],
   "source": [
    "pip install webdriver-manager"
   ]
  },
  {
   "cell_type": "code",
   "execution_count": 2,
   "id": "db36a580",
   "metadata": {},
   "outputs": [],
   "source": [
    "from bs4 import BeautifulSoup\n",
    "import requests\n",
    "import time, os"
   ]
  },
  {
   "cell_type": "code",
   "execution_count": 3,
   "id": "6f99ddab",
   "metadata": {},
   "outputs": [],
   "source": [
    "from selenium import webdriver\n",
    "from selenium.webdriver.common.keys import Keys\n",
    "\n",
    "chromedriver = \"/Users/hasanenesguray/Desktop/chromedriver\" # path to the chromedriver executable\n"
   ]
  },
  {
   "cell_type": "code",
   "execution_count": 4,
   "id": "ad06e109",
   "metadata": {},
   "outputs": [
    {
     "name": "stderr",
     "output_type": "stream",
     "text": [
      "/var/folders/_k/_rt6thqx6mj63rxtq_q_l7j00000gn/T/ipykernel_21808/3817914240.py:1: DeprecationWarning: executable_path has been deprecated, please pass in a Service object\n",
      "  driver = webdriver.Chrome(chromedriver)\n"
     ]
    }
   ],
   "source": [
    "driver = webdriver.Chrome(chromedriver)\n",
    "driver.get('http://www.opentable.com/')\n",
    "time.sleep(1)  #pause to be sure page has loaded"
   ]
  },
  {
   "cell_type": "code",
   "execution_count": 6,
   "id": "6082ed34",
   "metadata": {},
   "outputs": [],
   "source": [
    "click_4people = driver.find_element(\"xpath\",\"//option[@value='4']\")\n",
    "click_4people.click()\n",
    "time.sleep(1)"
   ]
  },
  {
   "cell_type": "code",
   "execution_count": 7,
   "id": "83734fef",
   "metadata": {},
   "outputs": [],
   "source": [
    "from datetime import datetime, timedelta"
   ]
  },
  {
   "cell_type": "code",
   "execution_count": 8,
   "id": "19285853",
   "metadata": {},
   "outputs": [],
   "source": [
    "import calendar\n",
    "weekDays = (\"Monday\",\"Tuesday\",\"Wednesday\",\"Thursday\",\"Friday\",\"Saturday\",\"Sunday\")\n",
    "resday = datetime.today() + timedelta(days=3)\n",
    "res_date = weekDays[resday.weekday()][0:3] + \", \" + calendar.month_name[resday.month][0:3] + \" \" + str(resday.day) + \", \" + str(resday.year)\n"
   ]
  },
  {
   "cell_type": "code",
   "execution_count": 9,
   "id": "d7460aac",
   "metadata": {},
   "outputs": [],
   "source": [
    "#Expand the calendar\n",
    "date_picker = driver.find_element(\"xpath\",\"//div[@class='zgAtBiHslksiJOeO0qHP']\")\n",
    "date_picker.click()\n",
    "time.sleep(1)"
   ]
  },
  {
   "cell_type": "code",
   "execution_count": 10,
   "id": "9fa81b77",
   "metadata": {},
   "outputs": [],
   "source": [
    "#Select the date three days from now\n",
    "date_element = driver.find_element(\"xpath\",f\"//div[@aria-label='{str(res_date)}']\")\n",
    "date_element.click()\n",
    "time.sleep(1)"
   ]
  },
  {
   "cell_type": "code",
   "execution_count": 11,
   "id": "8fbc76b3",
   "metadata": {},
   "outputs": [],
   "source": [
    "click_830pm = driver.find_element(\"xpath\",\"//option[@value='2000-02-01T20:30:00']\")\n",
    "click_830pm.click()\n",
    "time.sleep(1)"
   ]
  },
  {
   "cell_type": "code",
   "execution_count": 12,
   "id": "edb246fe",
   "metadata": {},
   "outputs": [],
   "source": [
    "search_button = driver.find_element(\"xpath\",\"//button[@class='oj_Zftq0Z_Ts7usxdiLc WkATSvkvJnLhgjlINRzg n0GonOKcEH4mc03kM4Jz pREW2ZkuYncjapZLLnc3']\")\n",
    "search_button.click()\n",
    "time.sleep(1)"
   ]
  },
  {
   "cell_type": "code",
   "execution_count": 13,
   "id": "1d26180c",
   "metadata": {},
   "outputs": [],
   "source": [
    "soup = BeautifulSoup(driver.page_source)\n",
    "res_number = [int(i) for i in soup.find('h3',class_='sTB4fcAqXQyHAMaWP996 BoZ_Hzg4GGZ1XXDaNyct').text.split() if i.isdigit()][0]"
   ]
  },
  {
   "cell_type": "code",
   "execution_count": 14,
   "id": "56cbc30f",
   "metadata": {},
   "outputs": [],
   "source": [
    "restaurant_links = list()\n",
    "next_page = driver.find_element(\"xpath\",\"//div[@data-test='pagination-next']\")\n",
    "for i in range(res_number//50+1):\n",
    "    driver.execute_script(\n",
    "    \"window.scrollTo(0,document.documentElement.scrollHeight/11);\")\n",
    "    time.sleep(2)\n",
    "    driver.execute_script(\n",
    "    \"window.scrollTo(document.documentElement.scrollHeight/11,document.documentElement.scrollHeight*2/11);\")\n",
    "    time.sleep(2)\n",
    "    driver.execute_script(\n",
    "    \"window.scrollTo(document.documentElement.scrollHeight*2/11,document.documentElement.scrollHeight*3/11);\")\n",
    "    time.sleep(2)\n",
    "    driver.execute_script(\n",
    "    \"window.scrollTo(document.documentElement.scrollHeight*3/11,document.documentElement.scrollHeight*4/11);\")\n",
    "    time.sleep(2)\n",
    "    driver.execute_script(\n",
    "    \"window.scrollTo(document.documentElement.scrollHeight*4/11,document.documentElement.scrollHeight*5/11);\")\n",
    "    time.sleep(2)\n",
    "    driver.execute_script(\n",
    "    \"window.scrollTo(document.documentElement.scrollHeight*5/11,document.documentElement.scrollHeight*6/11);\")\n",
    "    time.sleep(2)\n",
    "    driver.execute_script(\n",
    "    \"window.scrollTo(document.documentElement.scrollHeight*6/11,document.documentElement.scrollHeight*7/11);\")\n",
    "    time.sleep(2)\n",
    "    driver.execute_script(\n",
    "    \"window.scrollTo(document.documentElement.scrollHeight*7/11,document.documentElement.scrollHeight*8/11);\")\n",
    "    time.sleep(2)\n",
    "    driver.execute_script(\n",
    "    \"window.scrollTo(document.documentElement.scrollHeight*8/11,document.documentElement.scrollHeight*9/11);\")\n",
    "    time.sleep(2)\n",
    "    driver.execute_script(\n",
    "    \"window.scrollTo(document.documentElement.scrollHeight*9/11,document.documentElement.scrollHeight*10/11);\")\n",
    "    time.sleep(2)\n",
    "    driver.execute_script(\n",
    "    \"window.scrollTo(document.documentElement.scrollHeight*10/11,document.documentElement.scrollHeight);\")\n",
    "    time.sleep(2)\n",
    "    soup = BeautifulSoup(driver.page_source)\n",
    "    for link in soup.find_all('a', class_='CZSRtRus5QKZeZX0z27m'):\n",
    "        restaurant_links.append(link['href'])\n",
    "    try:\n",
    "        next_page.click()\n",
    "    except:\n",
    "        pass\n",
    "    time.sleep(2)\n",
    "    "
   ]
  },
  {
   "cell_type": "code",
   "execution_count": 15,
   "id": "386b2c90",
   "metadata": {},
   "outputs": [
    {
     "data": {
      "text/plain": [
       "153"
      ]
     },
     "execution_count": 15,
     "metadata": {},
     "output_type": "execute_result"
    }
   ],
   "source": [
    "len(restaurant_links)"
   ]
  },
  {
   "cell_type": "code",
   "execution_count": 16,
   "id": "7d536c55",
   "metadata": {},
   "outputs": [
    {
     "name": "stdout",
     "output_type": "stream",
     "text": [
      "https://www.opentable.com/r/nobu-istanbul?corrid=4bfa7e9b-6b4f-41cf-a8bd-5275688208f5&avt=eyJ2IjoyLCJtIjoxLCJwIjowLCJzIjowLCJuIjowfQ&p=4&sd=2022-11-18T20%3A30%3A00\n",
      "https://www.opentable.com/r/safran-restaurant-istanbul?corrid=4bfa7e9b-6b4f-41cf-a8bd-5275688208f5&avt=eyJ2IjoyLCJtIjoxLCJwIjowLCJzIjowLCJuIjowfQ&p=4&sd=2022-11-18T20%3A30%3A00\n",
      "https://www.opentable.com/r/peninsula-teras-restaurant-istanbul?corrid=4bfa7e9b-6b4f-41cf-a8bd-5275688208f5&avt=eyJ2IjoyLCJtIjoxLCJwIjowLCJzIjowLCJuIjowfQ&p=4&sd=2022-11-18T20%3A30%3A00\n",
      "https://www.opentable.com/restaurant/profile/188958?corrid=4bfa7e9b-6b4f-41cf-a8bd-5275688208f5&avt=eyJ2IjoyLCJtIjoxLCJwIjowLCJzIjowLCJuIjowfQ&p=4&sd=2022-11-18T20%3A30%3A00\n",
      "https://www.opentable.com/r/ist-too-istanbul?corrid=4bfa7e9b-6b4f-41cf-a8bd-5275688208f5&avt=eyJ2IjoyLCJtIjoxLCJwIjowLCJzIjowLCJuIjowfQ&p=4&sd=2022-11-18T20%3A30%3A00\n",
      "https://www.opentable.com/r/city-lights-bar-istanbul?corrid=4bfa7e9b-6b4f-41cf-a8bd-5275688208f5&avt=eyJ2IjoyLCJtIjoxLCJwIjowLCJzIjowLCJuIjowfQ&p=4&sd=2022-11-18T20%3A30%3A00\n",
      "https://www.opentable.com/r/shang-palace-istanbul?corrid=4bfa7e9b-6b4f-41cf-a8bd-5275688208f5&avt=eyJ2IjoyLCJtIjoxLCJwIjowLCJzIjowLCJuIjowfQ&p=4&sd=2022-11-18T20%3A30%3A00\n",
      "https://www.opentable.com/r/atolye-restaurant-sisli?corrid=4bfa7e9b-6b4f-41cf-a8bd-5275688208f5&avt=eyJ2IjoyLCJtIjoxLCJwIjowLCJzIjowLCJuIjowfQ&p=4&sd=2022-11-18T20%3A30%3A00\n",
      "https://www.opentable.com/r/yali-besiktas-istanbul?corrid=4bfa7e9b-6b4f-41cf-a8bd-5275688208f5&avt=eyJ2IjoyLCJtIjoxLCJwIjowLCJzIjowLCJuIjowfQ&p=4&sd=2022-11-18T20%3A30%3A00\n",
      "https://www.opentable.com/r/cok-cok-thai-classic-thai-istanbul?corrid=4bfa7e9b-6b4f-41cf-a8bd-5275688208f5&avt=eyJ2IjoyLCJtIjoxLCJwIjowLCJzIjowLCJuIjowfQ&p=4&sd=2022-11-18T20%3A30%3A00\n",
      "https://www.opentable.com/r/kafi-istanbul?corrid=4bfa7e9b-6b4f-41cf-a8bd-5275688208f5&avt=eyJ2IjoyLCJtIjoxLCJwIjowLCJzIjowLCJuIjowfQ&p=4&sd=2022-11-18T20%3A30%3A00\n",
      "https://www.opentable.com/r/alancha-istanbul?corrid=4bfa7e9b-6b4f-41cf-a8bd-5275688208f5&avt=eyJ2IjoyLCJtIjoxLCJwIjowLCJzIjowLCJuIjowfQ&p=4&sd=2022-11-18T20%3A30%3A00\n",
      "https://www.opentable.com/r/hadi-karakoy-istanbul?corrid=4bfa7e9b-6b4f-41cf-a8bd-5275688208f5&avt=eyJ2IjoyLCJtIjoxLCJwIjowLCJzIjowLCJuIjowfQ&p=4&sd=2022-11-18T20%3A30%3A00\n",
      "https://www.opentable.com/restaurant/profile/189195?corrid=4bfa7e9b-6b4f-41cf-a8bd-5275688208f5&avt=eyJ2IjoyLCJtIjoxLCJwIjowLCJzIjowLCJuIjowfQ&p=4&sd=2022-11-18T20%3A30%3A00\n",
      "https://www.opentable.com/r/yalan-dunya-istanbul?corrid=4bfa7e9b-6b4f-41cf-a8bd-5275688208f5&avt=eyJ2IjoyLCJtIjoxLCJwIjowLCJzIjowLCJuIjowfQ&p=4&sd=2022-11-18T20%3A30%3A00\n",
      "https://www.opentable.com/r/jazz-ve-burger-istanbul?corrid=4bfa7e9b-6b4f-41cf-a8bd-5275688208f5&avt=eyJ2IjoyLCJtIjoxLCJwIjowLCJzIjowLCJuIjowfQ&p=4&sd=2022-11-18T20%3A30%3A00\n",
      "https://www.opentable.com/r/dubb-indian-bosphorus-restaurant-and-bar-istanbul?corrid=4bfa7e9b-6b4f-41cf-a8bd-5275688208f5&avt=eyJ2IjoyLCJtIjoxLCJwIjowLCJzIjowLCJuIjowfQ&p=4&sd=2022-11-18T20%3A30%3A00\n",
      "https://www.opentable.com/r/matbah-ottoman-palace-cuisine-istanbul?corrid=4bfa7e9b-6b4f-41cf-a8bd-5275688208f5&avt=eyJ2IjoyLCJtIjoxLCJwIjowLCJzIjowLCJuIjowfQ&p=4&sd=2022-11-18T20%3A30%3A00\n",
      "https://www.opentable.com/restaurant/profile/178647?corrid=4bfa7e9b-6b4f-41cf-a8bd-5275688208f5&avt=eyJ2IjoyLCJtIjoxLCJwIjowLCJzIjowLCJuIjowfQ&p=4&sd=2022-11-18T20%3A30%3A00\n",
      "https://www.opentable.com/r/limoncello-istanbul?corrid=4bfa7e9b-6b4f-41cf-a8bd-5275688208f5&avt=eyJ2IjoyLCJtIjoxLCJwIjowLCJzIjowLCJuIjowfQ&p=4&sd=2022-11-18T20%3A30%3A00\n",
      "https://www.opentable.com/r/garden-mezze-restoran-istanbul?corrid=4bfa7e9b-6b4f-41cf-a8bd-5275688208f5&avt=eyJ2IjoyLCJtIjoxLCJwIjowLCJzIjowLCJuIjowfQ&p=4&sd=2022-11-18T20%3A30%3A00\n",
      "https://www.opentable.com/restaurant/profile/178029?corrid=4bfa7e9b-6b4f-41cf-a8bd-5275688208f5&avt=eyJ2IjoyLCJtIjoxLCJwIjowLCJzIjowLCJuIjowfQ&p=4&sd=2022-11-18T20%3A30%3A00\n",
      "https://www.opentable.com/r/cafe-bunka-sushi-and-japanese-restaurant-istanbul?corrid=4bfa7e9b-6b4f-41cf-a8bd-5275688208f5&avt=eyJ2IjoyLCJtIjoxLCJwIjowLCJzIjowLCJuIjowfQ&p=4&sd=2022-11-18T20%3A30%3A00\n",
      "https://www.opentable.com/r/juno-istanbul?corrid=4bfa7e9b-6b4f-41cf-a8bd-5275688208f5&avt=eyJ2IjoyLCJtIjoxLCJwIjowLCJzIjowLCJuIjowfQ&p=4&sd=2022-11-18T20%3A30%3A00\n",
      "https://www.opentable.com/restaurant/profile/189171?corrid=4bfa7e9b-6b4f-41cf-a8bd-5275688208f5&avt=eyJ2IjoyLCJtIjoxLCJwIjowLCJzIjowLCJuIjowfQ&p=4&sd=2022-11-18T20%3A30%3A00\n",
      "https://www.opentable.com/r/nars-brasserie-istanbul?corrid=4bfa7e9b-6b4f-41cf-a8bd-5275688208f5&avt=eyJ2IjoyLCJtIjoxLCJwIjowLCJzIjowLCJuIjowfQ&p=4&sd=2022-11-18T20%3A30%3A00\n",
      "https://www.opentable.com/r/panoramic-restaurant-istanbul?corrid=4bfa7e9b-6b4f-41cf-a8bd-5275688208f5&avt=eyJ2IjoyLCJtIjoxLCJwIjowLCJzIjowLCJuIjowfQ&p=4&sd=2022-11-18T20%3A30%3A00\n",
      "https://www.opentable.com/r/faros-restaurant-taksim-istanbul?corrid=4bfa7e9b-6b4f-41cf-a8bd-5275688208f5&avt=eyJ2IjoyLCJtIjoxLCJwIjowLCJzIjowLCJuIjowfQ&p=4&sd=2022-11-18T20%3A30%3A00\n",
      "https://www.opentable.com/r/tebek-korea-restaurant-istanbul?corrid=4bfa7e9b-6b4f-41cf-a8bd-5275688208f5&avt=eyJ2IjoyLCJtIjoxLCJwIjowLCJzIjowLCJuIjowfQ&p=4&sd=2022-11-18T20%3A30%3A00\n",
      "https://www.opentable.com/restaurant/profile/179481?corrid=4bfa7e9b-6b4f-41cf-a8bd-5275688208f5&avt=eyJ2IjoyLCJtIjoxLCJwIjowLCJzIjowLCJuIjowfQ&p=4&sd=2022-11-18T20%3A30%3A00\n",
      "https://www.opentable.com/r/f-and-b-culture-istanbul?corrid=4bfa7e9b-6b4f-41cf-a8bd-5275688208f5&avt=eyJ2IjoyLCJtIjoxLCJwIjowLCJzIjowLCJuIjowfQ&p=4&sd=2022-11-18T20%3A30%3A00\n",
      "https://www.opentable.com/restaurant/profile/177969?corrid=4bfa7e9b-6b4f-41cf-a8bd-5275688208f5&avt=eyJ2IjoyLCJtIjoxLCJwIjowLCJzIjowLCJuIjowfQ&p=4&sd=2022-11-18T20%3A30%3A00\n",
      "https://www.opentable.com/r/swiss-restaurant-istanbul?corrid=4bfa7e9b-6b4f-41cf-a8bd-5275688208f5&avt=eyJ2IjoyLCJtIjoxLCJwIjowLCJzIjowLCJuIjowfQ&p=4&sd=2022-11-18T20%3A30%3A00\n",
      "https://www.opentable.com/restaurant/profile/185664?corrid=4bfa7e9b-6b4f-41cf-a8bd-5275688208f5&avt=eyJ2IjoyLCJtIjoxLCJwIjowLCJzIjowLCJuIjowfQ&p=4&sd=2022-11-18T20%3A30%3A00\n",
      "https://www.opentable.com/r/galata-kitchen-istanbul?corrid=4bfa7e9b-6b4f-41cf-a8bd-5275688208f5&avt=eyJ2IjoyLCJtIjoxLCJwIjowLCJzIjowLCJuIjowfQ&p=4&sd=2022-11-18T20%3A30%3A00\n",
      "https://www.opentable.com/restaurant/profile/190644?corrid=4bfa7e9b-6b4f-41cf-a8bd-5275688208f5&avt=eyJ2IjoyLCJtIjoxLCJwIjowLCJzIjowLCJuIjowfQ&p=4&sd=2022-11-18T20%3A30%3A00\n",
      "https://www.opentable.com/restaurant/profile/177909?corrid=4bfa7e9b-6b4f-41cf-a8bd-5275688208f5&avt=eyJ2IjoyLCJtIjoxLCJwIjowLCJzIjowLCJuIjowfQ&p=4&sd=2022-11-18T20%3A30%3A00\n",
      "https://www.opentable.com/r/vezenan-2-restaurant-istanbul?corrid=4bfa7e9b-6b4f-41cf-a8bd-5275688208f5&avt=eyJ2IjoyLCJtIjoxLCJwIjowLCJzIjowLCJuIjowfQ&p=4&sd=2022-11-18T20%3A30%3A00\n",
      "https://www.opentable.com/r/mykonos-by-kamos-istanbul-2?corrid=4bfa7e9b-6b4f-41cf-a8bd-5275688208f5&avt=eyJ2IjoyLCJtIjoxLCJwIjowLCJzIjowLCJuIjowfQ&p=4&sd=2022-11-18T20%3A30%3A00\n",
      "https://www.opentable.com/r/social-pub-and-kitchen-istanbul?corrid=4bfa7e9b-6b4f-41cf-a8bd-5275688208f5&avt=eyJ2IjoyLCJtIjoxLCJwIjowLCJzIjowLCJuIjowfQ&p=4&sd=2022-11-18T20%3A30%3A00\n",
      "https://www.opentable.com/r/galatalife-cafe-restaurant-istanbul?corrid=4bfa7e9b-6b4f-41cf-a8bd-5275688208f5&avt=eyJ2IjoyLCJtIjoxLCJwIjowLCJzIjowLCJuIjowfQ&p=4&sd=2022-11-18T20%3A30%3A00\n",
      "https://www.opentable.com/restaurant/profile/189858?corrid=4bfa7e9b-6b4f-41cf-a8bd-5275688208f5&avt=eyJ2IjoyLCJtIjoxLCJwIjowLCJzIjowLCJuIjowfQ&p=4&sd=2022-11-18T20%3A30%3A00\n",
      "https://www.opentable.com/r/ceres-beyoglu?corrid=4bfa7e9b-6b4f-41cf-a8bd-5275688208f5&avt=eyJ2IjoyLCJtIjoxLCJwIjowLCJzIjowLCJuIjowfQ&p=4&sd=2022-11-18T20%3A30%3A00\n",
      "https://www.opentable.com/restaurant/profile/189717?corrid=4bfa7e9b-6b4f-41cf-a8bd-5275688208f5&avt=eyJ2IjoyLCJtIjoxLCJwIjowLCJzIjowLCJuIjowfQ&p=4&sd=2022-11-18T20%3A30%3A00\n",
      "https://www.opentable.com/r/karakoy-gumruk-istanbul?corrid=4bfa7e9b-6b4f-41cf-a8bd-5275688208f5&avt=eyJ2IjoyLCJtIjoxLCJwIjowLCJzIjowLCJuIjowfQ&p=4&sd=2022-11-18T20%3A30%3A00\n",
      "https://www.opentable.com/r/hamdi-restaurant-istanbul?corrid=4bfa7e9b-6b4f-41cf-a8bd-5275688208f5&avt=eyJ2IjoyLCJtIjoxLCJwIjowLCJzIjowLCJuIjowfQ&p=4&sd=2022-11-18T20%3A30%3A00\n",
      "https://www.opentable.com/r/pepos-galata-istanbul?corrid=4bfa7e9b-6b4f-41cf-a8bd-5275688208f5&avt=eyJ2IjoyLCJtIjoxLCJwIjowLCJzIjowLCJuIjowfQ&p=4&sd=2022-11-18T20%3A30%3A00\n"
     ]
    },
    {
     "name": "stdout",
     "output_type": "stream",
     "text": [
      "https://www.opentable.com/r/hamdi-restaurant-pera-istanbul?corrid=4bfa7e9b-6b4f-41cf-a8bd-5275688208f5&avt=eyJ2IjoyLCJtIjoxLCJwIjowLCJzIjowLCJuIjowfQ&p=4&sd=2022-11-18T20%3A30%3A00\n",
      "https://www.opentable.com/r/nobu-istanbul?corrid=4bfa7e9b-6b4f-41cf-a8bd-5275688208f5&avt=eyJ2IjoyLCJtIjoxLCJwIjowLCJzIjowLCJuIjowfQ&p=4&sd=2022-11-18T20%3A30%3A00\n",
      "https://www.opentable.com/r/safran-restaurant-istanbul?corrid=4bfa7e9b-6b4f-41cf-a8bd-5275688208f5&avt=eyJ2IjoyLCJtIjoxLCJwIjowLCJzIjowLCJuIjowfQ&p=4&sd=2022-11-18T20%3A30%3A00\n",
      "https://www.opentable.com/r/peninsula-teras-restaurant-istanbul?corrid=4bfa7e9b-6b4f-41cf-a8bd-5275688208f5&avt=eyJ2IjoyLCJtIjoxLCJwIjowLCJzIjowLCJuIjowfQ&p=4&sd=2022-11-18T20%3A30%3A00\n",
      "https://www.opentable.com/restaurant/profile/188958?corrid=4bfa7e9b-6b4f-41cf-a8bd-5275688208f5&avt=eyJ2IjoyLCJtIjoxLCJwIjowLCJzIjowLCJuIjowfQ&p=4&sd=2022-11-18T20%3A30%3A00\n",
      "https://www.opentable.com/r/kebapci-etiler-istanbul?corrid=4bfa7e9b-6b4f-41cf-a8bd-5275688208f5&avt=eyJ2IjoyLCJtIjoxLCJwIjowLCJzIjowLCJuIjowfQ&p=4&sd=2022-11-18T20%3A30%3A00\n",
      "https://www.opentable.com/r/ist-too-istanbul?corrid=4bfa7e9b-6b4f-41cf-a8bd-5275688208f5&avt=eyJ2IjoyLCJtIjoxLCJwIjowLCJzIjowLCJuIjowfQ&p=4&sd=2022-11-18T20%3A30%3A00\n",
      "https://www.opentable.com/r/city-lights-bar-istanbul?corrid=4bfa7e9b-6b4f-41cf-a8bd-5275688208f5&avt=eyJ2IjoyLCJtIjoxLCJwIjowLCJzIjowLCJuIjowfQ&p=4&sd=2022-11-18T20%3A30%3A00\n",
      "https://www.opentable.com/r/shang-palace-istanbul?corrid=4bfa7e9b-6b4f-41cf-a8bd-5275688208f5&avt=eyJ2IjoyLCJtIjoxLCJwIjowLCJzIjowLCJuIjowfQ&p=4&sd=2022-11-18T20%3A30%3A00\n",
      "https://www.opentable.com/r/atolye-restaurant-sisli?corrid=4bfa7e9b-6b4f-41cf-a8bd-5275688208f5&avt=eyJ2IjoyLCJtIjoxLCJwIjowLCJzIjowLCJuIjowfQ&p=4&sd=2022-11-18T20%3A30%3A00\n",
      "https://www.opentable.com/r/yali-besiktas-istanbul?corrid=4bfa7e9b-6b4f-41cf-a8bd-5275688208f5&avt=eyJ2IjoyLCJtIjoxLCJwIjowLCJzIjowLCJuIjowfQ&p=4&sd=2022-11-18T20%3A30%3A00\n",
      "https://www.opentable.com/r/fine-dine-istanbul?corrid=4bfa7e9b-6b4f-41cf-a8bd-5275688208f5&avt=eyJ2IjoyLCJtIjoxLCJwIjowLCJzIjowLCJuIjowfQ&p=4&sd=2022-11-18T20%3A30%3A00\n",
      "https://www.opentable.com/r/cok-cok-thai-classic-thai-istanbul?corrid=4bfa7e9b-6b4f-41cf-a8bd-5275688208f5&avt=eyJ2IjoyLCJtIjoxLCJwIjowLCJzIjowLCJuIjowfQ&p=4&sd=2022-11-18T20%3A30%3A00\n",
      "https://www.opentable.com/r/kafi-istanbul?corrid=4bfa7e9b-6b4f-41cf-a8bd-5275688208f5&avt=eyJ2IjoyLCJtIjoxLCJwIjowLCJzIjowLCJuIjowfQ&p=4&sd=2022-11-18T20%3A30%3A00\n",
      "https://www.opentable.com/r/alancha-istanbul?corrid=4bfa7e9b-6b4f-41cf-a8bd-5275688208f5&avt=eyJ2IjoyLCJtIjoxLCJwIjowLCJzIjowLCJuIjowfQ&p=4&sd=2022-11-18T20%3A30%3A00\n",
      "https://www.opentable.com/r/hadi-karakoy-istanbul?corrid=4bfa7e9b-6b4f-41cf-a8bd-5275688208f5&avt=eyJ2IjoyLCJtIjoxLCJwIjowLCJzIjowLCJuIjowfQ&p=4&sd=2022-11-18T20%3A30%3A00\n",
      "https://www.opentable.com/restaurant/profile/189195?corrid=4bfa7e9b-6b4f-41cf-a8bd-5275688208f5&avt=eyJ2IjoyLCJtIjoxLCJwIjowLCJzIjowLCJuIjowfQ&p=4&sd=2022-11-18T20%3A30%3A00\n",
      "https://www.opentable.com/r/yalan-dunya-istanbul?corrid=4bfa7e9b-6b4f-41cf-a8bd-5275688208f5&avt=eyJ2IjoyLCJtIjoxLCJwIjowLCJzIjowLCJuIjowfQ&p=4&sd=2022-11-18T20%3A30%3A00\n",
      "https://www.opentable.com/r/jazz-ve-burger-istanbul?corrid=4bfa7e9b-6b4f-41cf-a8bd-5275688208f5&avt=eyJ2IjoyLCJtIjoxLCJwIjowLCJzIjowLCJuIjowfQ&p=4&sd=2022-11-18T20%3A30%3A00\n",
      "https://www.opentable.com/r/dubb-indian-bosphorus-restaurant-and-bar-istanbul?corrid=4bfa7e9b-6b4f-41cf-a8bd-5275688208f5&avt=eyJ2IjoyLCJtIjoxLCJwIjowLCJzIjowLCJuIjowfQ&p=4&sd=2022-11-18T20%3A30%3A00\n",
      "https://www.opentable.com/r/matbah-ottoman-palace-cuisine-istanbul?corrid=4bfa7e9b-6b4f-41cf-a8bd-5275688208f5&avt=eyJ2IjoyLCJtIjoxLCJwIjowLCJzIjowLCJuIjowfQ&p=4&sd=2022-11-18T20%3A30%3A00\n",
      "https://www.opentable.com/restaurant/profile/178647?corrid=4bfa7e9b-6b4f-41cf-a8bd-5275688208f5&avt=eyJ2IjoyLCJtIjoxLCJwIjowLCJzIjowLCJuIjowfQ&p=4&sd=2022-11-18T20%3A30%3A00\n",
      "https://www.opentable.com/r/limoncello-istanbul?corrid=4bfa7e9b-6b4f-41cf-a8bd-5275688208f5&avt=eyJ2IjoyLCJtIjoxLCJwIjowLCJzIjowLCJuIjowfQ&p=4&sd=2022-11-18T20%3A30%3A00\n",
      "https://www.opentable.com/r/garden-mezze-restoran-istanbul?corrid=4bfa7e9b-6b4f-41cf-a8bd-5275688208f5&avt=eyJ2IjoyLCJtIjoxLCJwIjowLCJzIjowLCJuIjowfQ&p=4&sd=2022-11-18T20%3A30%3A00\n",
      "https://www.opentable.com/restaurant/profile/178029?corrid=4bfa7e9b-6b4f-41cf-a8bd-5275688208f5&avt=eyJ2IjoyLCJtIjoxLCJwIjowLCJzIjowLCJuIjowfQ&p=4&sd=2022-11-18T20%3A30%3A00\n",
      "https://www.opentable.com/r/cafe-bunka-sushi-and-japanese-restaurant-istanbul?corrid=4bfa7e9b-6b4f-41cf-a8bd-5275688208f5&avt=eyJ2IjoyLCJtIjoxLCJwIjowLCJzIjowLCJuIjowfQ&p=4&sd=2022-11-18T20%3A30%3A00\n",
      "https://www.opentable.com/r/juno-istanbul?corrid=4bfa7e9b-6b4f-41cf-a8bd-5275688208f5&avt=eyJ2IjoyLCJtIjoxLCJwIjowLCJzIjowLCJuIjowfQ&p=4&sd=2022-11-18T20%3A30%3A00\n",
      "https://www.opentable.com/restaurant/profile/189171?corrid=4bfa7e9b-6b4f-41cf-a8bd-5275688208f5&avt=eyJ2IjoyLCJtIjoxLCJwIjowLCJzIjowLCJuIjowfQ&p=4&sd=2022-11-18T20%3A30%3A00\n",
      "https://www.opentable.com/r/nars-brasserie-istanbul?corrid=4bfa7e9b-6b4f-41cf-a8bd-5275688208f5&avt=eyJ2IjoyLCJtIjoxLCJwIjowLCJzIjowLCJuIjowfQ&p=4&sd=2022-11-18T20%3A30%3A00\n",
      "https://www.opentable.com/r/panoramic-restaurant-istanbul?corrid=4bfa7e9b-6b4f-41cf-a8bd-5275688208f5&avt=eyJ2IjoyLCJtIjoxLCJwIjowLCJzIjowLCJuIjowfQ&p=4&sd=2022-11-18T20%3A30%3A00\n",
      "https://www.opentable.com/r/faros-restaurant-taksim-istanbul?corrid=4bfa7e9b-6b4f-41cf-a8bd-5275688208f5&avt=eyJ2IjoyLCJtIjoxLCJwIjowLCJzIjowLCJuIjowfQ&p=4&sd=2022-11-18T20%3A30%3A00\n",
      "https://www.opentable.com/r/tebek-korea-restaurant-istanbul?corrid=4bfa7e9b-6b4f-41cf-a8bd-5275688208f5&avt=eyJ2IjoyLCJtIjoxLCJwIjowLCJzIjowLCJuIjowfQ&p=4&sd=2022-11-18T20%3A30%3A00\n",
      "https://www.opentable.com/restaurant/profile/179481?corrid=4bfa7e9b-6b4f-41cf-a8bd-5275688208f5&avt=eyJ2IjoyLCJtIjoxLCJwIjowLCJzIjowLCJuIjowfQ&p=4&sd=2022-11-18T20%3A30%3A00\n",
      "https://www.opentable.com/r/f-and-b-culture-istanbul?corrid=4bfa7e9b-6b4f-41cf-a8bd-5275688208f5&avt=eyJ2IjoyLCJtIjoxLCJwIjowLCJzIjowLCJuIjowfQ&p=4&sd=2022-11-18T20%3A30%3A00\n",
      "https://www.opentable.com/restaurant/profile/177969?corrid=4bfa7e9b-6b4f-41cf-a8bd-5275688208f5&avt=eyJ2IjoyLCJtIjoxLCJwIjowLCJzIjowLCJuIjowfQ&p=4&sd=2022-11-18T20%3A30%3A00\n",
      "https://www.opentable.com/r/swiss-restaurant-istanbul?corrid=4bfa7e9b-6b4f-41cf-a8bd-5275688208f5&avt=eyJ2IjoyLCJtIjoxLCJwIjowLCJzIjowLCJuIjowfQ&p=4&sd=2022-11-18T20%3A30%3A00\n",
      "https://www.opentable.com/restaurant/profile/185664?corrid=4bfa7e9b-6b4f-41cf-a8bd-5275688208f5&avt=eyJ2IjoyLCJtIjoxLCJwIjowLCJzIjowLCJuIjowfQ&p=4&sd=2022-11-18T20%3A30%3A00\n",
      "https://www.opentable.com/r/galata-kitchen-istanbul?corrid=4bfa7e9b-6b4f-41cf-a8bd-5275688208f5&avt=eyJ2IjoyLCJtIjoxLCJwIjowLCJzIjowLCJuIjowfQ&p=4&sd=2022-11-18T20%3A30%3A00\n",
      "https://www.opentable.com/restaurant/profile/190644?corrid=4bfa7e9b-6b4f-41cf-a8bd-5275688208f5&avt=eyJ2IjoyLCJtIjoxLCJwIjowLCJzIjowLCJuIjowfQ&p=4&sd=2022-11-18T20%3A30%3A00\n",
      "https://www.opentable.com/restaurant/profile/177909?corrid=4bfa7e9b-6b4f-41cf-a8bd-5275688208f5&avt=eyJ2IjoyLCJtIjoxLCJwIjowLCJzIjowLCJuIjowfQ&p=4&sd=2022-11-18T20%3A30%3A00\n",
      "https://www.opentable.com/r/vezenan-2-restaurant-istanbul?corrid=4bfa7e9b-6b4f-41cf-a8bd-5275688208f5&avt=eyJ2IjoyLCJtIjoxLCJwIjowLCJzIjowLCJuIjowfQ&p=4&sd=2022-11-18T20%3A30%3A00\n",
      "https://www.opentable.com/r/mykonos-by-kamos-istanbul-2?corrid=4bfa7e9b-6b4f-41cf-a8bd-5275688208f5&avt=eyJ2IjoyLCJtIjoxLCJwIjowLCJzIjowLCJuIjowfQ&p=4&sd=2022-11-18T20%3A30%3A00\n",
      "https://www.opentable.com/r/social-pub-and-kitchen-istanbul?corrid=4bfa7e9b-6b4f-41cf-a8bd-5275688208f5&avt=eyJ2IjoyLCJtIjoxLCJwIjowLCJzIjowLCJuIjowfQ&p=4&sd=2022-11-18T20%3A30%3A00\n",
      "https://www.opentable.com/r/galatalife-cafe-restaurant-istanbul?corrid=4bfa7e9b-6b4f-41cf-a8bd-5275688208f5&avt=eyJ2IjoyLCJtIjoxLCJwIjowLCJzIjowLCJuIjowfQ&p=4&sd=2022-11-18T20%3A30%3A00\n",
      "https://www.opentable.com/restaurant/profile/189858?corrid=4bfa7e9b-6b4f-41cf-a8bd-5275688208f5&avt=eyJ2IjoyLCJtIjoxLCJwIjowLCJzIjowLCJuIjowfQ&p=4&sd=2022-11-18T20%3A30%3A00\n",
      "https://www.opentable.com/r/ceres-beyoglu?corrid=4bfa7e9b-6b4f-41cf-a8bd-5275688208f5&avt=eyJ2IjoyLCJtIjoxLCJwIjowLCJzIjowLCJuIjowfQ&p=4&sd=2022-11-18T20%3A30%3A00\n",
      "https://www.opentable.com/restaurant/profile/189717?corrid=4bfa7e9b-6b4f-41cf-a8bd-5275688208f5&avt=eyJ2IjoyLCJtIjoxLCJwIjowLCJzIjowLCJuIjowfQ&p=4&sd=2022-11-18T20%3A30%3A00\n"
     ]
    },
    {
     "name": "stdout",
     "output_type": "stream",
     "text": [
      "https://www.opentable.com/r/karakoy-gumruk-istanbul?corrid=4bfa7e9b-6b4f-41cf-a8bd-5275688208f5&avt=eyJ2IjoyLCJtIjoxLCJwIjowLCJzIjowLCJuIjowfQ&p=4&sd=2022-11-18T20%3A30%3A00\n",
      "https://www.opentable.com/r/hamdi-restaurant-istanbul?corrid=4bfa7e9b-6b4f-41cf-a8bd-5275688208f5&avt=eyJ2IjoyLCJtIjoxLCJwIjowLCJzIjowLCJuIjowfQ&p=4&sd=2022-11-18T20%3A30%3A00\n",
      "https://www.opentable.com/r/pepos-galata-istanbul?corrid=4bfa7e9b-6b4f-41cf-a8bd-5275688208f5&avt=eyJ2IjoyLCJtIjoxLCJwIjowLCJzIjowLCJuIjowfQ&p=4&sd=2022-11-18T20%3A30%3A00\n",
      "https://www.opentable.com/r/hamdi-restaurant-pera-istanbul?corrid=4bfa7e9b-6b4f-41cf-a8bd-5275688208f5&avt=eyJ2IjoyLCJtIjoxLCJwIjowLCJzIjowLCJuIjowfQ&p=4&sd=2022-11-18T20%3A30%3A00\n",
      "https://www.opentable.com/r/del-mare-restaurant-istanbul?corrid=4bfa7e9b-6b4f-41cf-a8bd-5275688208f5&avt=eyJ2IjoyLCJtIjoxLCJwIjowLCJzIjowLCJuIjowfQ&p=4&sd=2022-11-18T20%3A30%3A00\n",
      "https://www.opentable.com/r/kaen-sushi-istanbul?corrid=4bfa7e9b-6b4f-41cf-a8bd-5275688208f5&avt=eyJ2IjoyLCJtIjoxLCJwIjowLCJzIjowLCJuIjowfQ&p=4&sd=2022-11-18T20%3A30%3A00\n",
      "https://www.opentable.com/r/nezih-kebap-yuvalama-istanbul?corrid=4bfa7e9b-6b4f-41cf-a8bd-5275688208f5&avt=eyJ2IjoyLCJtIjoxLCJwIjowLCJzIjowLCJuIjowfQ&p=4&sd=2022-11-18T20%3A30%3A00\n",
      "https://www.opentable.com/restaurant/profile/267435?corrid=4bfa7e9b-6b4f-41cf-a8bd-5275688208f5&avt=eyJ2IjoyLCJtIjoxLCJwIjowLCJzIjowLCJuIjowfQ&p=4&sd=2022-11-18T20%3A30%3A00\n",
      "https://www.opentable.com/r/scarlet-istanbul?corrid=4bfa7e9b-6b4f-41cf-a8bd-5275688208f5&avt=eyJ2IjoyLCJtIjoxLCJwIjowLCJzIjowLCJuIjowfQ&p=4&sd=2022-11-18T20%3A30%3A00\n",
      "https://www.opentable.com/r/the-doctor-steakhouse-istanbul?corrid=4bfa7e9b-6b4f-41cf-a8bd-5275688208f5&avt=eyJ2IjoyLCJtIjoxLCJwIjowLCJzIjowLCJuIjowfQ&p=4&sd=2022-11-18T20%3A30%3A00\n",
      "https://www.opentable.com/r/lotus-coffee-and-resto-istanbul?corrid=4bfa7e9b-6b4f-41cf-a8bd-5275688208f5&avt=eyJ2IjoyLCJtIjoxLCJwIjowLCJzIjowLCJuIjowfQ&p=4&sd=2022-11-18T20%3A30%3A00\n",
      "https://www.opentable.com/restaurant/profile/185778?corrid=4bfa7e9b-6b4f-41cf-a8bd-5275688208f5&avt=eyJ2IjoyLCJtIjoxLCJwIjowLCJzIjowLCJuIjowfQ&p=4&sd=2022-11-18T20%3A30%3A00\n",
      "https://www.opentable.com/restaurant/profile/179304?corrid=4bfa7e9b-6b4f-41cf-a8bd-5275688208f5&avt=eyJ2IjoyLCJtIjoxLCJwIjowLCJzIjowLCJuIjowfQ&p=4&sd=2022-11-18T20%3A30%3A00\n",
      "https://www.opentable.com/restaurant/profile/179904?corrid=4bfa7e9b-6b4f-41cf-a8bd-5275688208f5&avt=eyJ2IjoyLCJtIjoxLCJwIjowLCJzIjowLCJuIjowfQ&p=4&sd=2022-11-18T20%3A30%3A00\n",
      "https://www.opentable.com/r/mahiyet-steakhouse-and-burger-istanbul?corrid=4bfa7e9b-6b4f-41cf-a8bd-5275688208f5&avt=eyJ2IjoyLCJtIjoxLCJwIjowLCJzIjowLCJuIjowfQ&p=4&sd=2022-11-18T20%3A30%3A00\n",
      "https://www.opentable.com/r/by-meziyet-istanbul?corrid=4bfa7e9b-6b4f-41cf-a8bd-5275688208f5&avt=eyJ2IjoyLCJtIjoxLCJwIjowLCJzIjowLCJuIjowfQ&p=4&sd=2022-11-18T20%3A30%3A00\n",
      "https://www.opentable.com/restaurant/profile/185733?corrid=4bfa7e9b-6b4f-41cf-a8bd-5275688208f5&avt=eyJ2IjoyLCJtIjoxLCJwIjowLCJzIjowLCJuIjowfQ&p=4&sd=2022-11-18T20%3A30%3A00\n",
      "https://www.opentable.com/restaurant/profile/189420?corrid=4bfa7e9b-6b4f-41cf-a8bd-5275688208f5&avt=eyJ2IjoyLCJtIjoxLCJwIjowLCJzIjowLCJuIjowfQ&p=4&sd=2022-11-18T20%3A30%3A00\n",
      "https://www.opentable.com/restaurant/profile/178224?corrid=4bfa7e9b-6b4f-41cf-a8bd-5275688208f5&avt=eyJ2IjoyLCJtIjoxLCJwIjowLCJzIjowLCJuIjowfQ&p=4&sd=2022-11-18T20%3A30%3A00\n",
      "https://www.opentable.com/r/toro-latin-gastro-bar-istanbul?corrid=4bfa7e9b-6b4f-41cf-a8bd-5275688208f5&avt=eyJ2IjoyLCJtIjoxLCJwIjowLCJzIjowLCJuIjowfQ&p=4&sd=2022-11-18T20%3A30%3A00\n",
      "https://www.opentable.com/restaurant/profile/179457?corrid=4bfa7e9b-6b4f-41cf-a8bd-5275688208f5&avt=eyJ2IjoyLCJtIjoxLCJwIjowLCJzIjowLCJuIjowfQ&p=4&sd=2022-11-18T20%3A30%3A00\n",
      "https://www.opentable.com/r/oishii-wok-and-sushi-istanbul?corrid=4bfa7e9b-6b4f-41cf-a8bd-5275688208f5&avt=eyJ2IjoyLCJtIjoxLCJwIjowLCJzIjowLCJuIjowfQ&p=4&sd=2022-11-18T20%3A30%3A00\n",
      "https://www.opentable.com/restaurant/profile/189396?corrid=4bfa7e9b-6b4f-41cf-a8bd-5275688208f5&avt=eyJ2IjoyLCJtIjoxLCJwIjowLCJzIjowLCJuIjowfQ&p=4&sd=2022-11-18T20%3A30%3A00\n",
      "https://www.opentable.com/restaurant/profile/195216?corrid=4bfa7e9b-6b4f-41cf-a8bd-5275688208f5&avt=eyJ2IjoyLCJtIjoxLCJwIjowLCJzIjowLCJuIjowfQ&p=4&sd=2022-11-18T20%3A30%3A00\n",
      "https://www.opentable.com/restaurant/profile/187197?corrid=4bfa7e9b-6b4f-41cf-a8bd-5275688208f5&avt=eyJ2IjoyLCJtIjoxLCJwIjowLCJzIjowLCJuIjowfQ&p=4&sd=2022-11-18T20%3A30%3A00\n",
      "https://www.opentable.com/r/ouzo-roof-restaurant-istanbul?corrid=4bfa7e9b-6b4f-41cf-a8bd-5275688208f5&avt=eyJ2IjoyLCJtIjoxLCJwIjowLCJzIjowLCJuIjowfQ&p=4&sd=2022-11-18T20%3A30%3A00\n",
      "https://www.opentable.com/restaurant/profile/179292?corrid=4bfa7e9b-6b4f-41cf-a8bd-5275688208f5&avt=eyJ2IjoyLCJtIjoxLCJwIjowLCJzIjowLCJuIjowfQ&p=4&sd=2022-11-18T20%3A30%3A00\n",
      "https://www.opentable.com/restaurant/profile/179376?corrid=4bfa7e9b-6b4f-41cf-a8bd-5275688208f5&avt=eyJ2IjoyLCJtIjoxLCJwIjowLCJzIjowLCJuIjowfQ&p=4&sd=2022-11-18T20%3A30%3A00\n",
      "https://www.opentable.com/r/china-lotus-istanbul?corrid=4bfa7e9b-6b4f-41cf-a8bd-5275688208f5&avt=eyJ2IjoyLCJtIjoxLCJwIjowLCJzIjowLCJuIjowfQ&p=4&sd=2022-11-18T20%3A30%3A00\n",
      "https://www.opentable.com/r/macca-fish-restaurant-istanbul?corrid=4bfa7e9b-6b4f-41cf-a8bd-5275688208f5&avt=eyJ2IjoyLCJtIjoxLCJwIjowLCJzIjowLCJuIjowfQ&p=4&sd=2022-11-18T20%3A30%3A00\n",
      "https://www.opentable.com/r/01-ocakbasi-alper-gultekin-istanbul?corrid=4bfa7e9b-6b4f-41cf-a8bd-5275688208f5&avt=eyJ2IjoyLCJtIjoxLCJwIjowLCJzIjowLCJuIjowfQ&p=4&sd=2022-11-18T20%3A30%3A00\n",
      "https://www.opentable.com/restaurant/profile/177972?corrid=4bfa7e9b-6b4f-41cf-a8bd-5275688208f5&avt=eyJ2IjoyLCJtIjoxLCJwIjowLCJzIjowLCJuIjowfQ&p=4&sd=2022-11-18T20%3A30%3A00\n",
      "https://www.opentable.com/r/hristo-restaurant-istanbul?corrid=4bfa7e9b-6b4f-41cf-a8bd-5275688208f5&avt=eyJ2IjoyLCJtIjoxLCJwIjowLCJzIjowLCJuIjowfQ&p=4&sd=2022-11-18T20%3A30%3A00\n",
      "https://www.opentable.com/r/filiz-restaurant-istanbul?corrid=4bfa7e9b-6b4f-41cf-a8bd-5275688208f5&avt=eyJ2IjoyLCJtIjoxLCJwIjowLCJzIjowLCJuIjowfQ&p=4&sd=2022-11-18T20%3A30%3A00\n",
      "https://www.opentable.com/r/cordon-plus-istanbul?corrid=4bfa7e9b-6b4f-41cf-a8bd-5275688208f5&avt=eyJ2IjoyLCJtIjoxLCJwIjowLCJzIjowLCJuIjowfQ&p=4&sd=2022-11-18T20%3A30%3A00\n",
      "https://www.opentable.com/r/lotus-lounge-istanbul?corrid=4bfa7e9b-6b4f-41cf-a8bd-5275688208f5&avt=eyJ2IjoyLCJtIjoxLCJwIjowLCJzIjowLCJuIjowfQ&p=4&sd=2022-11-18T20%3A30%3A00\n",
      "https://www.opentable.com/restaurant/profile/190419?corrid=4bfa7e9b-6b4f-41cf-a8bd-5275688208f5&avt=eyJ2IjoyLCJtIjoxLCJwIjowLCJzIjowLCJuIjowfQ&p=4&sd=2022-11-18T20%3A30%3A00\n",
      "https://www.opentable.com/restaurant/profile/189417?corrid=4bfa7e9b-6b4f-41cf-a8bd-5275688208f5&avt=eyJ2IjoyLCJtIjoxLCJwIjowLCJzIjowLCJuIjowfQ&p=4&sd=2022-11-18T20%3A30%3A00\n",
      "https://www.opentable.com/restaurant/profile/186276?corrid=4bfa7e9b-6b4f-41cf-a8bd-5275688208f5&avt=eyJ2IjoyLCJtIjoxLCJwIjowLCJzIjowLCJuIjowfQ&p=4&sd=2022-11-18T20%3A30%3A00\n",
      "https://www.opentable.com/restaurant/profile/213759?corrid=4bfa7e9b-6b4f-41cf-a8bd-5275688208f5&avt=eyJ2IjoyLCJtIjoxLCJwIjowLCJzIjowLCJuIjowfQ&p=4&sd=2022-11-18T20%3A30%3A00\n",
      "https://www.opentable.com/r/defne-restaurant-istanbul?corrid=4bfa7e9b-6b4f-41cf-a8bd-5275688208f5&avt=eyJ2IjoyLCJtIjoxLCJwIjowLCJzIjowLCJuIjowfQ&p=4&sd=2022-11-18T20%3A30%3A00\n",
      "https://www.opentable.com/restaurant/profile/185274?corrid=4bfa7e9b-6b4f-41cf-a8bd-5275688208f5&avt=eyJ2IjoyLCJtIjoxLCJwIjowLCJzIjowLCJuIjowfQ&p=4&sd=2022-11-18T20%3A30%3A00\n",
      "https://www.opentable.com/restaurant/profile/189423?corrid=4bfa7e9b-6b4f-41cf-a8bd-5275688208f5&avt=eyJ2IjoyLCJtIjoxLCJwIjowLCJzIjowLCJuIjowfQ&p=4&sd=2022-11-18T20%3A30%3A00\n",
      "https://www.opentable.com/r/akira-back-rauf-orbay-cd-2-1-dl-b?corrid=4bfa7e9b-6b4f-41cf-a8bd-5275688208f5&avt=eyJ2IjoyLCJtIjoxLCJwIjowLCJzIjowLCJuIjowfQ&p=4&sd=2022-11-18T20%3A30%3A00\n",
      "https://www.opentable.com/restaurant/profile/177942?corrid=4bfa7e9b-6b4f-41cf-a8bd-5275688208f5&avt=eyJ2IjoyLCJtIjoxLCJwIjowLCJzIjowLCJuIjowfQ&p=4&sd=2022-11-18T20%3A30%3A00\n",
      "https://www.opentable.com/restaurant/profile/185262?corrid=4bfa7e9b-6b4f-41cf-a8bd-5275688208f5&avt=eyJ2IjoyLCJtIjoxLCJwIjowLCJzIjowLCJuIjowfQ&p=4&sd=2022-11-18T20%3A30%3A00\n",
      "https://www.opentable.com/r/shato-steakhouse-gokturk-istanbul?corrid=4bfa7e9b-6b4f-41cf-a8bd-5275688208f5&avt=eyJ2IjoyLCJtIjoxLCJwIjowLCJzIjowLCJuIjowfQ&p=4&sd=2022-11-18T20%3A30%3A00\n"
     ]
    },
    {
     "name": "stdout",
     "output_type": "stream",
     "text": [
      "https://www.opentable.com/r/calipso-restaurant-istanbul?corrid=4bfa7e9b-6b4f-41cf-a8bd-5275688208f5&avt=eyJ2IjoyLCJtIjoxLCJwIjowLCJzIjowLCJuIjowfQ&p=4&sd=2022-11-18T20%3A30%3A00\n",
      "https://www.opentable.com/r/sahil-restaurant-burgazada-istanbul?corrid=4bfa7e9b-6b4f-41cf-a8bd-5275688208f5&avt=eyJ2IjoyLCJtIjoxLCJwIjowLCJzIjowLCJuIjowfQ&p=4&sd=2022-11-18T20%3A30%3A00\n",
      "https://www.opentable.com/restaurant/profile/185250?corrid=4bfa7e9b-6b4f-41cf-a8bd-5275688208f5&avt=eyJ2IjoyLCJtIjoxLCJwIjowLCJzIjowLCJuIjowfQ&p=4&sd=2022-11-18T20%3A30%3A00\n",
      "https://www.opentable.com/restaurant/profile/185256?corrid=4bfa7e9b-6b4f-41cf-a8bd-5275688208f5&avt=eyJ2IjoyLCJtIjoxLCJwIjowLCJzIjowLCJuIjowfQ&p=4&sd=2022-11-18T20%3A30%3A00\n",
      "https://www.opentable.com/restaurant/profile/178917?corrid=4bfa7e9b-6b4f-41cf-a8bd-5275688208f5&avt=eyJ2IjoyLCJtIjoxLCJwIjowLCJzIjowLCJuIjowfQ&p=4&sd=2022-11-18T20%3A30%3A00\n",
      "https://www.opentable.com/r/secret-garden-restaurant-buyukada-istanbul?corrid=4bfa7e9b-6b4f-41cf-a8bd-5275688208f5&avt=eyJ2IjoyLCJtIjoxLCJwIjowLCJzIjowLCJuIjowfQ&p=4&sd=2022-11-18T20%3A30%3A00\n",
      "https://www.opentable.com/restaurant/profile/177939?corrid=4bfa7e9b-6b4f-41cf-a8bd-5275688208f5&avt=eyJ2IjoyLCJtIjoxLCJwIjowLCJzIjowLCJuIjowfQ&p=4&sd=2022-11-18T20%3A30%3A00\n",
      "https://www.opentable.com/r/green-land-cafe-and-restaurant-istanbul?corrid=4bfa7e9b-6b4f-41cf-a8bd-5275688208f5&avt=eyJ2IjoyLCJtIjoxLCJwIjowLCJzIjowLCJuIjowfQ&p=4&sd=2022-11-18T20%3A30%3A00\n",
      "https://www.opentable.com/restaurant/profile/185238?corrid=4bfa7e9b-6b4f-41cf-a8bd-5275688208f5&avt=eyJ2IjoyLCJtIjoxLCJwIjowLCJzIjowLCJuIjowfQ&p=4&sd=2022-11-18T20%3A30%3A00\n",
      "https://www.opentable.com/restaurant/profile/177930?corrid=4bfa7e9b-6b4f-41cf-a8bd-5275688208f5&avt=eyJ2IjoyLCJtIjoxLCJwIjowLCJzIjowLCJuIjowfQ&p=4&sd=2022-11-18T20%3A30%3A00\n",
      "https://www.opentable.com/r/tuzla-kanat-kebap-restaurant-istanbul?corrid=4bfa7e9b-6b4f-41cf-a8bd-5275688208f5&avt=eyJ2IjoyLCJtIjoxLCJwIjowLCJzIjowLCJuIjowfQ&p=4&sd=2022-11-18T20%3A30%3A00\n",
      "https://www.opentable.com/r/cok-cok-pera-contemporary-thai-istanbul?corrid=4bfa7e9b-6b4f-41cf-a8bd-5275688208f5&avt=eyJ2IjoyLCJtIjoxLCJwIjowLCJzIjowLCJuIjowfQ&p=4&sd=2022-11-18T20%3A30%3A00\n"
     ]
    }
   ],
   "source": [
    "restaurant_name = list()\n",
    "avg_rating = list()\n",
    "review_number = list()\n",
    "avg_price = list()\n",
    "dish_type = list()\n",
    "neighborhood = list()\n",
    "hours_of_operation = list()\n",
    "dining_style = list()\n",
    "dress_code = list()\n",
    "parking_details = list()\n",
    "executive_chef = list()\n",
    "photo_number = list()\n",
    "\n",
    "for link in restaurant_links:\n",
    "    print(link)\n",
    "    driver.get(link)\n",
    "    time.sleep(1)\n",
    "    soup = BeautifulSoup(driver.page_source)\n",
    "    time.sleep(1)\n",
    "    for name in soup.find_all('h1', class_='eM9Li2wbkQvvjxZB11sV LpNRJPWAkIFWmkz7MQXJ'):\n",
    "        restaurant_name.append(name.text)\n",
    "    time.sleep(1)\n",
    "    temp = list()\n",
    "    for rating in soup.find_all('span', class_='QBMm80naGcMZ6qlVk6OI BoZ_Hzg4GGZ1XXDaNyct'):\n",
    "        temp.append(rating.text)\n",
    "    if len(temp) == 0:\n",
    "        avg_rating.append(0)\n",
    "    else:\n",
    "        avg_rating.append(temp[0])\n",
    "    avg_rating\n",
    "    time.sleep(1)\n",
    "    try:\n",
    "        review_number.append([int(i) for i in soup.find_all(\"div\", class_=\"eGVFHwFNmfG0mKcGjSGf BoZ_Hzg4GGZ1XXDaNyct\")[0].find_all(\"span\")[1].text.split() if i.isdigit()][0])\n",
    "    except:\n",
    "        review_number.append(0)\n",
    "    time.sleep(1)\n",
    "    avg_price.append(soup.find_all(\"div\", class_=\"eGVFHwFNmfG0mKcGjSGf BoZ_Hzg4GGZ1XXDaNyct\")[1].find_all(\"span\")[1].text)\n",
    "    time.sleep(1)\n",
    "    dish_type.append(soup.find_all(\"div\", class_=\"eGVFHwFNmfG0mKcGjSGf BoZ_Hzg4GGZ1XXDaNyct\")[2].find_all(\"span\")[1].text)\n",
    "    time.sleep(1)\n",
    "    for neig in soup.find_all('div', class_='ewHk9X7lpnWXq9W10wr5'):\n",
    "        if neig.find('span').text == \"Neighborhood\":\n",
    "            neighborhood.append(neig.find('p').text)\n",
    "            break\n",
    "    time.sleep(1)\n",
    "    for dining in soup.find_all('div', class_='ewHk9X7lpnWXq9W10wr5'):\n",
    "        if dining.find('span').text == \"Dining style\":\n",
    "            dining_style.append(dining.find('p').text)\n",
    "            break\n",
    "    time.sleep(1) \n",
    "    for dress in soup.find_all('div', class_='ewHk9X7lpnWXq9W10wr5'):\n",
    "        if dress.find('span').text == \"Dress code\":\n",
    "            dress_code.append(dress.find('p').text)\n",
    "            break\n",
    "    time.sleep(1) \n",
    "    for parking in soup.find_all('div', class_='ewHk9X7lpnWXq9W10wr5'):\n",
    "        if parking.find('span').text == \"Parking details\":\n",
    "            parking_details.append(parking.find('p').text)\n",
    "            break\n",
    "    time.sleep(1)\n",
    "    photo_number.append(soup.find_all(\"h2\", class_=\"n3VjEYZ90eGAL7bL007A AgAbOKTBfj3J6VxqeFn8\")[0].text)\n",
    "    time.sleep(1)"
   ]
  },
  {
   "cell_type": "code",
   "execution_count": null,
   "id": "16d518ea",
   "metadata": {},
   "outputs": [],
   "source": []
  },
  {
   "cell_type": "code",
   "execution_count": 17,
   "id": "605fb7a8",
   "metadata": {},
   "outputs": [
    {
     "data": {
      "text/plain": [
       "153"
      ]
     },
     "execution_count": 17,
     "metadata": {},
     "output_type": "execute_result"
    }
   ],
   "source": [
    "len(restaurant_name)"
   ]
  },
  {
   "cell_type": "code",
   "execution_count": 18,
   "id": "31125f5f",
   "metadata": {},
   "outputs": [
    {
     "data": {
      "text/plain": [
       "153"
      ]
     },
     "execution_count": 18,
     "metadata": {},
     "output_type": "execute_result"
    }
   ],
   "source": [
    "len(avg_rating)"
   ]
  },
  {
   "cell_type": "code",
   "execution_count": 19,
   "id": "b398fbfc",
   "metadata": {},
   "outputs": [
    {
     "data": {
      "text/plain": [
       "153"
      ]
     },
     "execution_count": 19,
     "metadata": {},
     "output_type": "execute_result"
    }
   ],
   "source": [
    "len(review_number)"
   ]
  },
  {
   "cell_type": "code",
   "execution_count": 20,
   "id": "ceda38c2",
   "metadata": {},
   "outputs": [
    {
     "data": {
      "text/plain": [
       "153"
      ]
     },
     "execution_count": 20,
     "metadata": {},
     "output_type": "execute_result"
    }
   ],
   "source": [
    "len(avg_price)"
   ]
  },
  {
   "cell_type": "code",
   "execution_count": 21,
   "id": "4fe65578",
   "metadata": {},
   "outputs": [
    {
     "data": {
      "text/plain": [
       "153"
      ]
     },
     "execution_count": 21,
     "metadata": {},
     "output_type": "execute_result"
    }
   ],
   "source": [
    "len(dish_type)"
   ]
  },
  {
   "cell_type": "code",
   "execution_count": 22,
   "id": "015da6c0",
   "metadata": {},
   "outputs": [
    {
     "data": {
      "text/plain": [
       "153"
      ]
     },
     "execution_count": 22,
     "metadata": {},
     "output_type": "execute_result"
    }
   ],
   "source": [
    "len(neighborhood)"
   ]
  },
  {
   "cell_type": "code",
   "execution_count": 23,
   "id": "7f97f26c",
   "metadata": {},
   "outputs": [
    {
     "data": {
      "text/plain": [
       "153"
      ]
     },
     "execution_count": 23,
     "metadata": {},
     "output_type": "execute_result"
    }
   ],
   "source": [
    "len(dining_style)"
   ]
  },
  {
   "cell_type": "code",
   "execution_count": 24,
   "id": "b5ddd3f3",
   "metadata": {},
   "outputs": [
    {
     "data": {
      "text/plain": [
       "153"
      ]
     },
     "execution_count": 24,
     "metadata": {},
     "output_type": "execute_result"
    }
   ],
   "source": [
    "len(dress_code)"
   ]
  },
  {
   "cell_type": "code",
   "execution_count": 25,
   "id": "b48d7c72",
   "metadata": {},
   "outputs": [
    {
     "data": {
      "text/plain": [
       "153"
      ]
     },
     "execution_count": 25,
     "metadata": {},
     "output_type": "execute_result"
    }
   ],
   "source": [
    "len(parking_details)"
   ]
  },
  {
   "cell_type": "code",
   "execution_count": 26,
   "id": "4a32061f",
   "metadata": {},
   "outputs": [
    {
     "data": {
      "text/plain": [
       "153"
      ]
     },
     "execution_count": 26,
     "metadata": {},
     "output_type": "execute_result"
    }
   ],
   "source": [
    "len(photo_number)"
   ]
  },
  {
   "cell_type": "code",
   "execution_count": 27,
   "id": "04c59690",
   "metadata": {},
   "outputs": [
    {
     "data": {
      "text/html": [
       "<div>\n",
       "<style scoped>\n",
       "    .dataframe tbody tr th:only-of-type {\n",
       "        vertical-align: middle;\n",
       "    }\n",
       "\n",
       "    .dataframe tbody tr th {\n",
       "        vertical-align: top;\n",
       "    }\n",
       "\n",
       "    .dataframe thead th {\n",
       "        text-align: right;\n",
       "    }\n",
       "</style>\n",
       "<table border=\"1\" class=\"dataframe\">\n",
       "  <thead>\n",
       "    <tr style=\"text-align: right;\">\n",
       "      <th></th>\n",
       "      <th>restaurant_name</th>\n",
       "      <th>avg_rating</th>\n",
       "      <th>review_number</th>\n",
       "      <th>dish_type</th>\n",
       "      <th>neighborhood</th>\n",
       "      <th>hours_of_operation</th>\n",
       "      <th>dining_style</th>\n",
       "      <th>dress_code</th>\n",
       "      <th>parking_details</th>\n",
       "      <th>executive_chef</th>\n",
       "      <th>photo_number</th>\n",
       "    </tr>\n",
       "  </thead>\n",
       "  <tbody>\n",
       "  </tbody>\n",
       "</table>\n",
       "</div>"
      ],
      "text/plain": [
       "Empty DataFrame\n",
       "Columns: [restaurant_name, avg_rating, review_number, dish_type, neighborhood, hours_of_operation, dining_style, dress_code, parking_details, executive_chef, photo_number]\n",
       "Index: []"
      ]
     },
     "execution_count": 27,
     "metadata": {},
     "output_type": "execute_result"
    }
   ],
   "source": [
    "import pandas as pd\n",
    "\n",
    "df = pd.DataFrame(list(zip(restaurant_name,avg_rating,review_number,avg_price,dish_type,neighborhood,\n",
    "                          dining_style,dress_code,parking_details,executive_chef,photo_number)),\n",
    "                  columns=[\"restaurant_name\",\"avg_rating\",\"review_number\",\"avg_price\",\"dish_type\",\"neighborhood\",\n",
    "                          \"dining_style\",\"dress_code\",\"parking_details\",\"executive_chef\",\"photo_number\"])\n",
    "df\n"
   ]
  },
  {
   "cell_type": "code",
   "execution_count": 28,
   "id": "7eadab6b",
   "metadata": {},
   "outputs": [],
   "source": [
    "df.to_csv(\"opentable.csv\")"
   ]
  },
  {
   "cell_type": "code",
   "execution_count": 29,
   "id": "b8254d8b",
   "metadata": {},
   "outputs": [],
   "source": [
    "driver.close()"
   ]
  },
  {
   "cell_type": "code",
   "execution_count": 30,
   "id": "65535805",
   "metadata": {},
   "outputs": [
    {
     "data": {
      "text/plain": [
       "['Smart Casual',\n",
       " 'Formal Attire',\n",
       " 'Business Casual',\n",
       " 'Business Casual',\n",
       " 'Business Casual',\n",
       " 'Smart Casual',\n",
       " 'Business Casual',\n",
       " 'Smart Casual',\n",
       " 'Casual Dress',\n",
       " 'Business Casual',\n",
       " 'Business Casual',\n",
       " 'Business Casual',\n",
       " 'Business Casual',\n",
       " 'Business Casual',\n",
       " 'Business Casual',\n",
       " 'Business Casual',\n",
       " 'Business Casual',\n",
       " 'Business Casual',\n",
       " 'Business Casual',\n",
       " 'Business Casual',\n",
       " 'Business Casual',\n",
       " 'Business Casual',\n",
       " 'Business Casual',\n",
       " 'Business Casual',\n",
       " 'Business Casual',\n",
       " 'Business Casual',\n",
       " 'Business Casual',\n",
       " 'Business Casual',\n",
       " 'Business Casual',\n",
       " 'Business Casual',\n",
       " 'Business Casual',\n",
       " 'Business Casual',\n",
       " 'Business Casual',\n",
       " 'Business Casual',\n",
       " 'Business Casual',\n",
       " 'Business Casual',\n",
       " 'Business Casual',\n",
       " 'Business Casual',\n",
       " 'Business Casual',\n",
       " 'Business Casual',\n",
       " 'Business Casual',\n",
       " 'Business Casual',\n",
       " 'Business Casual',\n",
       " 'Business Casual',\n",
       " 'Business Casual',\n",
       " 'Business Casual',\n",
       " 'Business Casual',\n",
       " 'Business Casual',\n",
       " 'Smart Casual',\n",
       " 'Formal Attire',\n",
       " 'Business Casual',\n",
       " 'Business Casual',\n",
       " 'Smart Casual',\n",
       " 'Business Casual',\n",
       " 'Smart Casual',\n",
       " 'Business Casual',\n",
       " 'Smart Casual',\n",
       " 'Casual Dress',\n",
       " 'Business Casual',\n",
       " 'Business Casual',\n",
       " 'Business Casual',\n",
       " 'Business Casual',\n",
       " 'Business Casual',\n",
       " 'Business Casual',\n",
       " 'Business Casual',\n",
       " 'Business Casual',\n",
       " 'Business Casual',\n",
       " 'Business Casual',\n",
       " 'Business Casual',\n",
       " 'Business Casual',\n",
       " 'Business Casual',\n",
       " 'Business Casual',\n",
       " 'Business Casual',\n",
       " 'Business Casual',\n",
       " 'Business Casual',\n",
       " 'Business Casual',\n",
       " 'Business Casual',\n",
       " 'Business Casual',\n",
       " 'Business Casual',\n",
       " 'Business Casual',\n",
       " 'Business Casual',\n",
       " 'Business Casual',\n",
       " 'Business Casual',\n",
       " 'Business Casual',\n",
       " 'Business Casual',\n",
       " 'Business Casual',\n",
       " 'Business Casual',\n",
       " 'Business Casual',\n",
       " 'Business Casual',\n",
       " 'Business Casual',\n",
       " 'Business Casual',\n",
       " 'Business Casual',\n",
       " 'Business Casual',\n",
       " 'Business Casual',\n",
       " 'Business Casual',\n",
       " 'Business Casual',\n",
       " 'Business Casual',\n",
       " 'Business Casual',\n",
       " 'Business Casual',\n",
       " 'Business Casual',\n",
       " 'Business Casual',\n",
       " 'Business Casual',\n",
       " 'Business Casual',\n",
       " 'Business Casual',\n",
       " 'Business Casual',\n",
       " 'Business Casual',\n",
       " 'Business Casual',\n",
       " 'Business Casual',\n",
       " 'Business Casual',\n",
       " 'Business Casual',\n",
       " 'Business Casual',\n",
       " 'Business Casual',\n",
       " 'Business Casual',\n",
       " 'Business Casual',\n",
       " 'Business Casual',\n",
       " 'Business Casual',\n",
       " 'Business Casual',\n",
       " 'Business Casual',\n",
       " 'Business Casual',\n",
       " 'Business Casual',\n",
       " 'Business Casual',\n",
       " 'Business Casual',\n",
       " 'Business Casual',\n",
       " 'Business Casual',\n",
       " 'Business Casual',\n",
       " 'Business Casual',\n",
       " 'Business Casual',\n",
       " 'Business Casual',\n",
       " 'Business Casual',\n",
       " 'Business Casual',\n",
       " 'Business Casual',\n",
       " 'Business Casual',\n",
       " 'Business Casual',\n",
       " 'Business Casual',\n",
       " 'Business Casual',\n",
       " 'Business Casual',\n",
       " 'Business Casual',\n",
       " 'Business Casual',\n",
       " 'Business Casual',\n",
       " 'Business Casual',\n",
       " 'Business Casual',\n",
       " 'Business Casual',\n",
       " 'Business Casual',\n",
       " 'Business Casual',\n",
       " 'Business Casual',\n",
       " 'Business Casual',\n",
       " 'Business Casual',\n",
       " 'Business Casual',\n",
       " 'Business Casual',\n",
       " 'Business Casual',\n",
       " 'Business Casual',\n",
       " 'Business Casual',\n",
       " 'Business Casual']"
      ]
     },
     "execution_count": 30,
     "metadata": {},
     "output_type": "execute_result"
    }
   ],
   "source": []
  },
  {
   "cell_type": "code",
   "execution_count": null,
   "id": "ccb29106",
   "metadata": {},
   "outputs": [],
   "source": []
  }
 ],
 "metadata": {
  "kernelspec": {
   "display_name": "Python 3 (ipykernel)",
   "language": "python",
   "name": "python3"
  },
  "language_info": {
   "codemirror_mode": {
    "name": "ipython",
    "version": 3
   },
   "file_extension": ".py",
   "mimetype": "text/x-python",
   "name": "python",
   "nbconvert_exporter": "python",
   "pygments_lexer": "ipython3",
   "version": "3.9.12"
  }
 },
 "nbformat": 4,
 "nbformat_minor": 5
}
