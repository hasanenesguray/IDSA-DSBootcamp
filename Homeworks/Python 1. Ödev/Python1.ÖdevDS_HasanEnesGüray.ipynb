{
 "cells": [
  {
   "cell_type": "code",
   "execution_count": 9,
   "id": "5e8bbe34",
   "metadata": {},
   "outputs": [],
   "source": [
    "def phone_number_generator(count):\n",
    "    max_count = 3*3*3*10000\n",
    "    if count > max_count:\n",
    "        print(\"Please enter a count value, which is less than \", str(max_count),\".\")\n",
    "    elif count < 0:\n",
    "        print(\"Please enter a positive count value.\")\n",
    "    elif type(count) != int:\n",
    "        print(\"Please enter an integer as the count value.\")\n",
    "    else:\n",
    "        second_part = 111\n",
    "        third_part = 0\n",
    "        for number in range(count):\n",
    "            #First Part\n",
    "            phone_number = \"555-\"\n",
    "            #Second Part\n",
    "            phone_number += str(second_part)\n",
    "            #Third Part\n",
    "            phone_number += \"-0000\"\n",
    "            phone_number = phone_number[:12-len(str(third_part))] + str(third_part)\n",
    "            if third_part == 9999:\n",
    "                third_part = 0\n",
    "                if str(second_part)[-2:] == \"33\":\n",
    "                    second_part += 78\n",
    "                elif str(second_part)[-1] == \"3\":\n",
    "                    second_part += 8\n",
    "                else:\n",
    "                    second_part += 1\n",
    "            else:\n",
    "                third_part += 1\n",
    "            print(phone_number)"
   ]
  },
  {
   "cell_type": "code",
   "execution_count": 12,
   "id": "c96afada",
   "metadata": {},
   "outputs": [
    {
     "name": "stdout",
     "output_type": "stream",
     "text": [
      "555-111-0000\n",
      "555-111-0001\n",
      "555-111-0002\n"
     ]
    }
   ],
   "source": [
    "phone_number_generator(3)"
   ]
  },
  {
   "cell_type": "code",
   "execution_count": 20,
   "id": "f87bf8f7",
   "metadata": {},
   "outputs": [
    {
     "data": {
      "text/plain": [
       "'1'"
      ]
     },
     "execution_count": 20,
     "metadata": {},
     "output_type": "execute_result"
    }
   ],
   "source": [
    "\"555-114-0001\"[-1]"
   ]
  },
  {
   "cell_type": "code",
   "execution_count": null,
   "id": "8742e3c3",
   "metadata": {},
   "outputs": [],
   "source": [
    "\n"
   ]
  },
  {
   "cell_type": "code",
   "execution_count": null,
   "id": "3a75b16e",
   "metadata": {},
   "outputs": [],
   "source": []
  },
  {
   "cell_type": "code",
   "execution_count": null,
   "id": "f9f6fd36",
   "metadata": {},
   "outputs": [],
   "source": []
  }
 ],
 "metadata": {
  "kernelspec": {
   "display_name": "Python 3 (ipykernel)",
   "language": "python",
   "name": "python3"
  },
  "language_info": {
   "codemirror_mode": {
    "name": "ipython",
    "version": 3
   },
   "file_extension": ".py",
   "mimetype": "text/x-python",
   "name": "python",
   "nbconvert_exporter": "python",
   "pygments_lexer": "ipython3",
   "version": "3.9.12"
  }
 },
 "nbformat": 4,
 "nbformat_minor": 5
}
