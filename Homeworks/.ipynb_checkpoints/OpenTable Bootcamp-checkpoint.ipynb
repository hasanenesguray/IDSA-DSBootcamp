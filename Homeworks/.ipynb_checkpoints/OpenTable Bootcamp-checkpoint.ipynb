{
 "cells": [
  {
   "cell_type": "code",
   "execution_count": 1,
   "id": "18b8f7ce",
   "metadata": {},
   "outputs": [
    {
     "name": "stdout",
     "output_type": "stream",
     "text": [
      "Requirement already satisfied: selenium in /Users/hasanenesguray/opt/anaconda3/lib/python3.9/site-packages (4.6.0)\n",
      "Requirement already satisfied: trio-websocket~=0.9 in /Users/hasanenesguray/opt/anaconda3/lib/python3.9/site-packages (from selenium) (0.9.2)\n",
      "Requirement already satisfied: trio~=0.17 in /Users/hasanenesguray/opt/anaconda3/lib/python3.9/site-packages (from selenium) (0.22.0)\n",
      "Requirement already satisfied: certifi>=2021.10.8 in /Users/hasanenesguray/opt/anaconda3/lib/python3.9/site-packages (from selenium) (2022.6.15)\n",
      "Requirement already satisfied: urllib3[socks]~=1.26 in /Users/hasanenesguray/opt/anaconda3/lib/python3.9/site-packages (from selenium) (1.26.11)\n",
      "Requirement already satisfied: attrs>=19.2.0 in /Users/hasanenesguray/opt/anaconda3/lib/python3.9/site-packages (from trio~=0.17->selenium) (22.1.0)\n",
      "Requirement already satisfied: async-generator>=1.9 in /Users/hasanenesguray/opt/anaconda3/lib/python3.9/site-packages (from trio~=0.17->selenium) (1.10)\n",
      "Requirement already satisfied: idna in /Users/hasanenesguray/opt/anaconda3/lib/python3.9/site-packages (from trio~=0.17->selenium) (3.3)\n",
      "Requirement already satisfied: outcome in /Users/hasanenesguray/opt/anaconda3/lib/python3.9/site-packages (from trio~=0.17->selenium) (1.2.0)\n",
      "Requirement already satisfied: sniffio in /Users/hasanenesguray/opt/anaconda3/lib/python3.9/site-packages (from trio~=0.17->selenium) (1.2.0)\n",
      "Requirement already satisfied: exceptiongroup>=1.0.0rc9 in /Users/hasanenesguray/opt/anaconda3/lib/python3.9/site-packages (from trio~=0.17->selenium) (1.0.1)\n",
      "Requirement already satisfied: sortedcontainers in /Users/hasanenesguray/opt/anaconda3/lib/python3.9/site-packages (from trio~=0.17->selenium) (2.4.0)\n",
      "Requirement already satisfied: wsproto>=0.14 in /Users/hasanenesguray/opt/anaconda3/lib/python3.9/site-packages (from trio-websocket~=0.9->selenium) (1.2.0)\n",
      "Requirement already satisfied: PySocks!=1.5.7,<2.0,>=1.5.6 in /Users/hasanenesguray/opt/anaconda3/lib/python3.9/site-packages (from urllib3[socks]~=1.26->selenium) (1.7.1)\n",
      "Requirement already satisfied: h11<1,>=0.9.0 in /Users/hasanenesguray/opt/anaconda3/lib/python3.9/site-packages (from wsproto>=0.14->trio-websocket~=0.9->selenium) (0.12.0)\n",
      "Note: you may need to restart the kernel to use updated packages.\n"
     ]
    }
   ],
   "source": [
    "pip install selenium"
   ]
  },
  {
   "cell_type": "code",
   "execution_count": 2,
   "id": "362f4cb7",
   "metadata": {},
   "outputs": [
    {
     "name": "stdout",
     "output_type": "stream",
     "text": [
      "Requirement already satisfied: webdriver-manager in /Users/hasanenesguray/opt/anaconda3/lib/python3.9/site-packages (3.8.4)\n",
      "Requirement already satisfied: requests in /Users/hasanenesguray/opt/anaconda3/lib/python3.9/site-packages (from webdriver-manager) (2.28.0)\n",
      "Requirement already satisfied: python-dotenv in /Users/hasanenesguray/opt/anaconda3/lib/python3.9/site-packages (from webdriver-manager) (0.21.0)\n",
      "Requirement already satisfied: tqdm in /Users/hasanenesguray/opt/anaconda3/lib/python3.9/site-packages (from webdriver-manager) (4.64.0)\n",
      "Requirement already satisfied: certifi>=2017.4.17 in /Users/hasanenesguray/opt/anaconda3/lib/python3.9/site-packages (from requests->webdriver-manager) (2022.6.15)\n",
      "Requirement already satisfied: idna<4,>=2.5 in /Users/hasanenesguray/opt/anaconda3/lib/python3.9/site-packages (from requests->webdriver-manager) (3.3)\n",
      "Requirement already satisfied: urllib3<1.27,>=1.21.1 in /Users/hasanenesguray/opt/anaconda3/lib/python3.9/site-packages (from requests->webdriver-manager) (1.26.11)\n",
      "Requirement already satisfied: charset-normalizer~=2.0.0 in /Users/hasanenesguray/opt/anaconda3/lib/python3.9/site-packages (from requests->webdriver-manager) (2.0.12)\n",
      "Note: you may need to restart the kernel to use updated packages.\n"
     ]
    }
   ],
   "source": [
    "pip install webdriver-manager"
   ]
  },
  {
   "cell_type": "code",
   "execution_count": 241,
   "id": "db36a580",
   "metadata": {},
   "outputs": [],
   "source": [
    "from bs4 import BeautifulSoup\n",
    "import requests\n",
    "import time, os"
   ]
  },
  {
   "cell_type": "code",
   "execution_count": 242,
   "id": "6f99ddab",
   "metadata": {},
   "outputs": [],
   "source": [
    "from selenium import webdriver\n",
    "from selenium.webdriver.common.keys import Keys\n",
    "\n",
    "chromedriver = \"/Users/hasanenesguray/Desktop/chromedriver\" # path to the chromedriver executable\n"
   ]
  },
  {
   "cell_type": "code",
   "execution_count": 243,
   "id": "ad06e109",
   "metadata": {},
   "outputs": [
    {
     "name": "stderr",
     "output_type": "stream",
     "text": [
      "/var/folders/_k/_rt6thqx6mj63rxtq_q_l7j00000gn/T/ipykernel_14384/3817914240.py:1: DeprecationWarning: executable_path has been deprecated, please pass in a Service object\n",
      "  driver = webdriver.Chrome(chromedriver)\n"
     ]
    }
   ],
   "source": [
    "driver = webdriver.Chrome(chromedriver)\n",
    "driver.get('http://www.opentable.com/')\n",
    "time.sleep(1)  #pause to be sure page has loaded"
   ]
  },
  {
   "cell_type": "code",
   "execution_count": 244,
   "id": "6082ed34",
   "metadata": {},
   "outputs": [],
   "source": [
    "click_4people = driver.find_element(\"xpath\",\"//option[@value='4']\")\n",
    "click_4people.click()\n",
    "time.sleep(1)"
   ]
  },
  {
   "cell_type": "code",
   "execution_count": 245,
   "id": "83734fef",
   "metadata": {},
   "outputs": [],
   "source": [
    "from datetime import datetime, timedelta"
   ]
  },
  {
   "cell_type": "code",
   "execution_count": 246,
   "id": "19285853",
   "metadata": {},
   "outputs": [],
   "source": [
    "import calendar\n",
    "weekDays = (\"Monday\",\"Tuesday\",\"Wednesday\",\"Thursday\",\"Friday\",\"Saturday\",\"Sunday\")\n",
    "resday = datetime.today() + timedelta(days=3)\n",
    "res_date = weekDays[resday.weekday()][0:3] + \", \" + calendar.month_name[resday.month][0:3] + \" \" + str(resday.day) + \", \" + str(resday.year)\n"
   ]
  },
  {
   "cell_type": "code",
   "execution_count": 247,
   "id": "d7460aac",
   "metadata": {},
   "outputs": [],
   "source": [
    "#Expand the calendar\n",
    "date_picker = driver.find_element(\"xpath\",\"//div[@class='zgAtBiHslksiJOeO0qHP']\")\n",
    "date_picker.click()\n",
    "time.sleep(1)"
   ]
  },
  {
   "cell_type": "code",
   "execution_count": 248,
   "id": "9fa81b77",
   "metadata": {},
   "outputs": [],
   "source": [
    "#Select the date three days from now\n",
    "date_element = driver.find_element(\"xpath\",f\"//div[@aria-label='{str(res_date)}']\")\n",
    "date_element.click()\n",
    "time.sleep(1)"
   ]
  },
  {
   "cell_type": "code",
   "execution_count": 249,
   "id": "8fbc76b3",
   "metadata": {},
   "outputs": [],
   "source": [
    "click_830pm = driver.find_element(\"xpath\",\"//option[@value='2000-02-01T20:30:00']\")\n",
    "click_830pm.click()\n",
    "time.sleep(1)"
   ]
  },
  {
   "cell_type": "code",
   "execution_count": 250,
   "id": "edb246fe",
   "metadata": {},
   "outputs": [],
   "source": [
    "search_button = driver.find_element(\"xpath\",\"//button[@class='oj_Zftq0Z_Ts7usxdiLc WkATSvkvJnLhgjlINRzg n0GonOKcEH4mc03kM4Jz pREW2ZkuYncjapZLLnc3']\")\n",
    "search_button.click()\n",
    "time.sleep(1)"
   ]
  },
  {
   "cell_type": "code",
   "execution_count": 251,
   "id": "1d26180c",
   "metadata": {},
   "outputs": [],
   "source": [
    "soup = BeautifulSoup(driver.page_source)\n",
    "res_number = [int(i) for i in soup.find('h3',class_='sTB4fcAqXQyHAMaWP996 BoZ_Hzg4GGZ1XXDaNyct').text.split() if i.isdigit()][0]"
   ]
  },
  {
   "cell_type": "code",
   "execution_count": 267,
   "id": "56cbc30f",
   "metadata": {},
   "outputs": [
    {
     "ename": "NoSuchWindowException",
     "evalue": "Message: no such window: target window already closed\nfrom unknown error: web view not found\n  (Session info: chrome=107.0.5304.110)\nStacktrace:\n0   chromedriver                        0x0000000100916a88 chromedriver + 4123272\n1   chromedriver                        0x00000001008a2778 chromedriver + 3647352\n2   chromedriver                        0x0000000100564ac4 chromedriver + 248516\n3   chromedriver                        0x0000000100544304 chromedriver + 115460\n4   chromedriver                        0x00000001005bae64 chromedriver + 601700\n5   chromedriver                        0x00000001005cc744 chromedriver + 673604\n6   chromedriver                        0x000000010058eb10 chromedriver + 420624\n7   chromedriver                        0x000000010058fc30 chromedriver + 425008\n8   chromedriver                        0x00000001008e8ae4 chromedriver + 3934948\n9   chromedriver                        0x00000001008ebf24 chromedriver + 3948324\n10  chromedriver                        0x00000001008ec508 chromedriver + 3949832\n11  chromedriver                        0x00000001008f2b30 chromedriver + 3975984\n12  chromedriver                        0x00000001008ecb24 chromedriver + 3951396\n13  chromedriver                        0x00000001008c771c chromedriver + 3798812\n14  chromedriver                        0x00000001009092f0 chromedriver + 4068080\n15  chromedriver                        0x0000000100909444 chromedriver + 4068420\n16  chromedriver                        0x000000010091d450 chromedriver + 4150352\n17  libsystem_pthread.dylib             0x00000001a89b206c _pthread_start + 148\n18  libsystem_pthread.dylib             0x00000001a89ace2c thread_start + 8\n",
     "output_type": "error",
     "traceback": [
      "\u001b[0;31m---------------------------------------------------------------------------\u001b[0m",
      "\u001b[0;31mNoSuchWindowException\u001b[0m                     Traceback (most recent call last)",
      "Input \u001b[0;32mIn [267]\u001b[0m, in \u001b[0;36m<cell line: 3>\u001b[0;34m()\u001b[0m\n\u001b[1;32m      2\u001b[0m next_page \u001b[38;5;241m=\u001b[39m driver\u001b[38;5;241m.\u001b[39mfind_element(\u001b[38;5;124m\"\u001b[39m\u001b[38;5;124mxpath\u001b[39m\u001b[38;5;124m\"\u001b[39m,\u001b[38;5;124m\"\u001b[39m\u001b[38;5;124m//div[@data-test=\u001b[39m\u001b[38;5;124m'\u001b[39m\u001b[38;5;124mpagination-next\u001b[39m\u001b[38;5;124m'\u001b[39m\u001b[38;5;124m]\u001b[39m\u001b[38;5;124m\"\u001b[39m)\n\u001b[1;32m      3\u001b[0m \u001b[38;5;28;01mfor\u001b[39;00m i \u001b[38;5;129;01min\u001b[39;00m \u001b[38;5;28mrange\u001b[39m(res_number\u001b[38;5;241m/\u001b[39m\u001b[38;5;241m/\u001b[39m\u001b[38;5;241m50\u001b[39m\u001b[38;5;241m+\u001b[39m\u001b[38;5;241m1\u001b[39m):\n\u001b[0;32m----> 4\u001b[0m     \u001b[43mdriver\u001b[49m\u001b[38;5;241;43m.\u001b[39;49m\u001b[43mexecute_script\u001b[49m\u001b[43m(\u001b[49m\n\u001b[1;32m      5\u001b[0m \u001b[43m    \u001b[49m\u001b[38;5;124;43m\"\u001b[39;49m\u001b[38;5;124;43mwindow.scrollTo(0,document.documentElement.scrollHeight/11);\u001b[39;49m\u001b[38;5;124;43m\"\u001b[39;49m\u001b[43m)\u001b[49m\n\u001b[1;32m      6\u001b[0m     time\u001b[38;5;241m.\u001b[39msleep(\u001b[38;5;241m2\u001b[39m)\n\u001b[1;32m      7\u001b[0m     driver\u001b[38;5;241m.\u001b[39mexecute_script(\n\u001b[1;32m      8\u001b[0m     \u001b[38;5;124m\"\u001b[39m\u001b[38;5;124mwindow.scrollTo(document.documentElement.scrollHeight/11,document.documentElement.scrollHeight*2/11);\u001b[39m\u001b[38;5;124m\"\u001b[39m)\n",
      "File \u001b[0;32m~/opt/anaconda3/lib/python3.9/site-packages/selenium/webdriver/remote/webdriver.py:506\u001b[0m, in \u001b[0;36mWebDriver.execute_script\u001b[0;34m(self, script, *args)\u001b[0m\n\u001b[1;32m    503\u001b[0m converted_args \u001b[38;5;241m=\u001b[39m \u001b[38;5;28mlist\u001b[39m(args)\n\u001b[1;32m    504\u001b[0m command \u001b[38;5;241m=\u001b[39m Command\u001b[38;5;241m.\u001b[39mW3C_EXECUTE_SCRIPT\n\u001b[0;32m--> 506\u001b[0m \u001b[38;5;28;01mreturn\u001b[39;00m \u001b[38;5;28;43mself\u001b[39;49m\u001b[38;5;241;43m.\u001b[39;49m\u001b[43mexecute\u001b[49m\u001b[43m(\u001b[49m\u001b[43mcommand\u001b[49m\u001b[43m,\u001b[49m\u001b[43m \u001b[49m\u001b[43m{\u001b[49m\u001b[38;5;124;43m\"\u001b[39;49m\u001b[38;5;124;43mscript\u001b[39;49m\u001b[38;5;124;43m\"\u001b[39;49m\u001b[43m:\u001b[49m\u001b[43m \u001b[49m\u001b[43mscript\u001b[49m\u001b[43m,\u001b[49m\u001b[43m \u001b[49m\u001b[38;5;124;43m\"\u001b[39;49m\u001b[38;5;124;43margs\u001b[39;49m\u001b[38;5;124;43m\"\u001b[39;49m\u001b[43m:\u001b[49m\u001b[43m \u001b[49m\u001b[43mconverted_args\u001b[49m\u001b[43m}\u001b[49m\u001b[43m)\u001b[49m[\u001b[38;5;124m\"\u001b[39m\u001b[38;5;124mvalue\u001b[39m\u001b[38;5;124m\"\u001b[39m]\n",
      "File \u001b[0;32m~/opt/anaconda3/lib/python3.9/site-packages/selenium/webdriver/remote/webdriver.py:444\u001b[0m, in \u001b[0;36mWebDriver.execute\u001b[0;34m(self, driver_command, params)\u001b[0m\n\u001b[1;32m    442\u001b[0m response \u001b[38;5;241m=\u001b[39m \u001b[38;5;28mself\u001b[39m\u001b[38;5;241m.\u001b[39mcommand_executor\u001b[38;5;241m.\u001b[39mexecute(driver_command, params)\n\u001b[1;32m    443\u001b[0m \u001b[38;5;28;01mif\u001b[39;00m response:\n\u001b[0;32m--> 444\u001b[0m     \u001b[38;5;28;43mself\u001b[39;49m\u001b[38;5;241;43m.\u001b[39;49m\u001b[43merror_handler\u001b[49m\u001b[38;5;241;43m.\u001b[39;49m\u001b[43mcheck_response\u001b[49m\u001b[43m(\u001b[49m\u001b[43mresponse\u001b[49m\u001b[43m)\u001b[49m\n\u001b[1;32m    445\u001b[0m     response[\u001b[38;5;124m\"\u001b[39m\u001b[38;5;124mvalue\u001b[39m\u001b[38;5;124m\"\u001b[39m] \u001b[38;5;241m=\u001b[39m \u001b[38;5;28mself\u001b[39m\u001b[38;5;241m.\u001b[39m_unwrap_value(response\u001b[38;5;241m.\u001b[39mget(\u001b[38;5;124m\"\u001b[39m\u001b[38;5;124mvalue\u001b[39m\u001b[38;5;124m\"\u001b[39m, \u001b[38;5;28;01mNone\u001b[39;00m))\n\u001b[1;32m    446\u001b[0m     \u001b[38;5;28;01mreturn\u001b[39;00m response\n",
      "File \u001b[0;32m~/opt/anaconda3/lib/python3.9/site-packages/selenium/webdriver/remote/errorhandler.py:249\u001b[0m, in \u001b[0;36mErrorHandler.check_response\u001b[0;34m(self, response)\u001b[0m\n\u001b[1;32m    247\u001b[0m         alert_text \u001b[38;5;241m=\u001b[39m value[\u001b[38;5;124m\"\u001b[39m\u001b[38;5;124malert\u001b[39m\u001b[38;5;124m\"\u001b[39m]\u001b[38;5;241m.\u001b[39mget(\u001b[38;5;124m\"\u001b[39m\u001b[38;5;124mtext\u001b[39m\u001b[38;5;124m\"\u001b[39m)\n\u001b[1;32m    248\u001b[0m     \u001b[38;5;28;01mraise\u001b[39;00m exception_class(message, screen, stacktrace, alert_text)  \u001b[38;5;66;03m# type: ignore[call-arg]  # mypy is not smart enough here\u001b[39;00m\n\u001b[0;32m--> 249\u001b[0m \u001b[38;5;28;01mraise\u001b[39;00m exception_class(message, screen, stacktrace)\n",
      "\u001b[0;31mNoSuchWindowException\u001b[0m: Message: no such window: target window already closed\nfrom unknown error: web view not found\n  (Session info: chrome=107.0.5304.110)\nStacktrace:\n0   chromedriver                        0x0000000100916a88 chromedriver + 4123272\n1   chromedriver                        0x00000001008a2778 chromedriver + 3647352\n2   chromedriver                        0x0000000100564ac4 chromedriver + 248516\n3   chromedriver                        0x0000000100544304 chromedriver + 115460\n4   chromedriver                        0x00000001005bae64 chromedriver + 601700\n5   chromedriver                        0x00000001005cc744 chromedriver + 673604\n6   chromedriver                        0x000000010058eb10 chromedriver + 420624\n7   chromedriver                        0x000000010058fc30 chromedriver + 425008\n8   chromedriver                        0x00000001008e8ae4 chromedriver + 3934948\n9   chromedriver                        0x00000001008ebf24 chromedriver + 3948324\n10  chromedriver                        0x00000001008ec508 chromedriver + 3949832\n11  chromedriver                        0x00000001008f2b30 chromedriver + 3975984\n12  chromedriver                        0x00000001008ecb24 chromedriver + 3951396\n13  chromedriver                        0x00000001008c771c chromedriver + 3798812\n14  chromedriver                        0x00000001009092f0 chromedriver + 4068080\n15  chromedriver                        0x0000000100909444 chromedriver + 4068420\n16  chromedriver                        0x000000010091d450 chromedriver + 4150352\n17  libsystem_pthread.dylib             0x00000001a89b206c _pthread_start + 148\n18  libsystem_pthread.dylib             0x00000001a89ace2c thread_start + 8\n"
     ]
    }
   ],
   "source": [
    "restaurant_links = list()\n",
    "next_page = driver.find_element(\"xpath\",\"//div[@data-test='pagination-next']\")\n",
    "for i in range(res_number//50+1):\n",
    "    driver.execute_script(\n",
    "    \"window.scrollTo(0,document.documentElement.scrollHeight/11);\")\n",
    "    time.sleep(2)\n",
    "    driver.execute_script(\n",
    "    \"window.scrollTo(document.documentElement.scrollHeight/11,document.documentElement.scrollHeight*2/11);\")\n",
    "    time.sleep(2)\n",
    "    driver.execute_script(\n",
    "    \"window.scrollTo(document.documentElement.scrollHeight*2/11,document.documentElement.scrollHeight*3/11);\")\n",
    "    time.sleep(2)\n",
    "    driver.execute_script(\n",
    "    \"window.scrollTo(document.documentElement.scrollHeight*3/11,document.documentElement.scrollHeight*4/11);\")\n",
    "    time.sleep(2)\n",
    "    driver.execute_script(\n",
    "    \"window.scrollTo(document.documentElement.scrollHeight*4/11,document.documentElement.scrollHeight*5/11);\")\n",
    "    time.sleep(2)\n",
    "    driver.execute_script(\n",
    "    \"window.scrollTo(document.documentElement.scrollHeight*5/11,document.documentElement.scrollHeight*6/11);\")\n",
    "    time.sleep(2)\n",
    "    driver.execute_script(\n",
    "    \"window.scrollTo(document.documentElement.scrollHeight*6/11,document.documentElement.scrollHeight*7/11);\")\n",
    "    time.sleep(2)\n",
    "    driver.execute_script(\n",
    "    \"window.scrollTo(document.documentElement.scrollHeight*7/11,document.documentElement.scrollHeight*8/11);\")\n",
    "    time.sleep(2)\n",
    "    driver.execute_script(\n",
    "    \"window.scrollTo(document.documentElement.scrollHeight*8/11,document.documentElement.scrollHeight*9/11);\")\n",
    "    time.sleep(2)\n",
    "    driver.execute_script(\n",
    "    \"window.scrollTo(document.documentElement.scrollHeight*9/11,document.documentElement.scrollHeight*10/11);\")\n",
    "    time.sleep(2)\n",
    "    driver.execute_script(\n",
    "    \"window.scrollTo(document.documentElement.scrollHeight*10/11,document.documentElement.scrollHeight);\")\n",
    "    time.sleep(2)\n",
    "    soup = BeautifulSoup(driver.page_source)\n",
    "    for link in soup.find_all('a', class_='CZSRtRus5QKZeZX0z27m'):\n",
    "        restaurant_links.append(link['href'])\n",
    "    try:\n",
    "        next_page.click()\n",
    "    except:\n",
    "        pass\n",
    "    time.sleep(2)\n",
    "    "
   ]
  },
  {
   "cell_type": "code",
   "execution_count": null,
   "id": "386b2c90",
   "metadata": {},
   "outputs": [],
   "source": [
    "len(restaurant_links)"
   ]
  },
  {
   "cell_type": "code",
   "execution_count": 254,
   "id": "7d536c55",
   "metadata": {},
   "outputs": [],
   "source": [
    "restaurant_name = list()\n",
    "avg_rating = list()\n",
    "review_number = list()\n",
    "avg_price = list()\n",
    "dish_type = list()\n",
    "neighborhood = list()\n",
    "hours_of_operation = list()\n",
    "dining_style = list()\n",
    "dress_code = list()\n",
    "parking_details = list()\n",
    "executive_chef = list()\n",
    "photo_number = list()\n",
    "\n",
    "for link in restaurant_links:\n",
    "    print(link)\n",
    "    driver.get(link)\n",
    "    time.sleep(1)\n",
    "    soup = BeautifulSoup(driver.page_source)\n",
    "    time.sleep(1)\n",
    "    for name in soup.find_all('h1', class_='eM9Li2wbkQvvjxZB11sV LpNRJPWAkIFWmkz7MQXJ'):\n",
    "        restaurant_name.append(name.text)\n",
    "    time.sleep(1)\n",
    "    temp = list()\n",
    "    for rating in soup.find_all('span', class_='QBMm80naGcMZ6qlVk6OI BoZ_Hzg4GGZ1XXDaNyct'):\n",
    "        temp.append(rating.text)\n",
    "    if len(temp) == 0:\n",
    "        avg_rating.append(0)\n",
    "    else:\n",
    "        avg_rating.appen(temp[0])\n",
    "    avg_rating\n",
    "    time.sleep(1)\n",
    "    try:\n",
    "        review_number.append([int(i) for i in soup.find_all(\"div\", class_=\"eGVFHwFNmfG0mKcGjSGf BoZ_Hzg4GGZ1XXDaNyct\")[0].find_all(\"span\")[1].text.split() if i.isdigit()][0])\n",
    "    except:\n",
    "        review_number.append(0)\n",
    "    time.sleep(1)\n",
    "    avg_price.append(soup.find_all(\"div\", class_=\"eGVFHwFNmfG0mKcGjSGf BoZ_Hzg4GGZ1XXDaNyct\")[1].find_all(\"span\")[1].text)\n",
    "    time.sleep(1)\n",
    "    dish_type.append(soup.find_all(\"div\", class_=\"eGVFHwFNmfG0mKcGjSGf BoZ_Hzg4GGZ1XXDaNyct\")[2].find_all(\"span\")[1].text)\n",
    "    time.sleep(1)\n",
    "    for neig in soup.find_all('div', class_='ewHk9X7lpnWXq9W10wr5'):\n",
    "        if neig.find('span').text == \"Neighborhood\":\n",
    "            neighborhood.append(neig.find('p').text)\n",
    "            break\n",
    "    time.sleep(1)\n",
    "    for dining in soup.find_all('div', class_='ewHk9X7lpnWXq9W10wr5'):\n",
    "        if dining.find('span').text == \"Dining style\":\n",
    "            dining_style.append(dining.find('p').text)\n",
    "            break\n",
    "    time.sleep(1) \n",
    "    for dress in soup.find_all('div', class_='ewHk9X7lpnWXq9W10wr5'):\n",
    "        if dress.find('span').text == \"Dress code\":\n",
    "            dress_code.append(dress.find('p').text)\n",
    "            break\n",
    "    time.sleep(1) \n",
    "    for parking in soup.find_all('div', class_='ewHk9X7lpnWXq9W10wr5'):\n",
    "        if parking.find('span').text == \"Parking details\":\n",
    "            parking_details.append(parking.find('p').text)\n",
    "            break\n",
    "    time.sleep(1)\n",
    "    photo_number.append(soup.find_all(\"h2\", class_=\"n3VjEYZ90eGAL7bL007A AgAbOKTBfj3J6VxqeFn8\")[0].text)\n",
    "    time.sleep(1)"
   ]
  },
  {
   "cell_type": "code",
   "execution_count": null,
   "id": "16d518ea",
   "metadata": {},
   "outputs": [],
   "source": []
  },
  {
   "cell_type": "code",
   "execution_count": 255,
   "id": "605fb7a8",
   "metadata": {},
   "outputs": [
    {
     "data": {
      "text/plain": [
       "0"
      ]
     },
     "execution_count": 255,
     "metadata": {},
     "output_type": "execute_result"
    }
   ],
   "source": [
    "len(restaurant_name)"
   ]
  },
  {
   "cell_type": "code",
   "execution_count": 256,
   "id": "31125f5f",
   "metadata": {},
   "outputs": [
    {
     "data": {
      "text/plain": [
       "0"
      ]
     },
     "execution_count": 256,
     "metadata": {},
     "output_type": "execute_result"
    }
   ],
   "source": [
    "len(avg_rating)"
   ]
  },
  {
   "cell_type": "code",
   "execution_count": 257,
   "id": "b398fbfc",
   "metadata": {},
   "outputs": [
    {
     "data": {
      "text/plain": [
       "0"
      ]
     },
     "execution_count": 257,
     "metadata": {},
     "output_type": "execute_result"
    }
   ],
   "source": [
    "len(review_number)"
   ]
  },
  {
   "cell_type": "code",
   "execution_count": 258,
   "id": "ceda38c2",
   "metadata": {},
   "outputs": [
    {
     "data": {
      "text/plain": [
       "0"
      ]
     },
     "execution_count": 258,
     "metadata": {},
     "output_type": "execute_result"
    }
   ],
   "source": [
    "len(avg_price)"
   ]
  },
  {
   "cell_type": "code",
   "execution_count": 259,
   "id": "4fe65578",
   "metadata": {},
   "outputs": [
    {
     "data": {
      "text/plain": [
       "0"
      ]
     },
     "execution_count": 259,
     "metadata": {},
     "output_type": "execute_result"
    }
   ],
   "source": [
    "len(dish_type)"
   ]
  },
  {
   "cell_type": "code",
   "execution_count": 260,
   "id": "015da6c0",
   "metadata": {},
   "outputs": [
    {
     "data": {
      "text/plain": [
       "0"
      ]
     },
     "execution_count": 260,
     "metadata": {},
     "output_type": "execute_result"
    }
   ],
   "source": [
    "len(neighborhood)"
   ]
  },
  {
   "cell_type": "code",
   "execution_count": 261,
   "id": "7f97f26c",
   "metadata": {},
   "outputs": [
    {
     "data": {
      "text/plain": [
       "0"
      ]
     },
     "execution_count": 261,
     "metadata": {},
     "output_type": "execute_result"
    }
   ],
   "source": [
    "len(dining_style)"
   ]
  },
  {
   "cell_type": "code",
   "execution_count": 262,
   "id": "b5ddd3f3",
   "metadata": {},
   "outputs": [
    {
     "data": {
      "text/plain": [
       "0"
      ]
     },
     "execution_count": 262,
     "metadata": {},
     "output_type": "execute_result"
    }
   ],
   "source": [
    "len(dress_code)"
   ]
  },
  {
   "cell_type": "code",
   "execution_count": 263,
   "id": "b48d7c72",
   "metadata": {},
   "outputs": [
    {
     "data": {
      "text/plain": [
       "0"
      ]
     },
     "execution_count": 263,
     "metadata": {},
     "output_type": "execute_result"
    }
   ],
   "source": [
    "len(parking_details)"
   ]
  },
  {
   "cell_type": "code",
   "execution_count": 264,
   "id": "4a32061f",
   "metadata": {},
   "outputs": [
    {
     "data": {
      "text/plain": [
       "0"
      ]
     },
     "execution_count": 264,
     "metadata": {},
     "output_type": "execute_result"
    }
   ],
   "source": [
    "len(photo_number)"
   ]
  },
  {
   "cell_type": "code",
   "execution_count": 265,
   "id": "04c59690",
   "metadata": {},
   "outputs": [
    {
     "data": {
      "text/html": [
       "<div>\n",
       "<style scoped>\n",
       "    .dataframe tbody tr th:only-of-type {\n",
       "        vertical-align: middle;\n",
       "    }\n",
       "\n",
       "    .dataframe tbody tr th {\n",
       "        vertical-align: top;\n",
       "    }\n",
       "\n",
       "    .dataframe thead th {\n",
       "        text-align: right;\n",
       "    }\n",
       "</style>\n",
       "<table border=\"1\" class=\"dataframe\">\n",
       "  <thead>\n",
       "    <tr style=\"text-align: right;\">\n",
       "      <th></th>\n",
       "      <th>restaurant_name</th>\n",
       "      <th>avg_rating</th>\n",
       "      <th>review_number</th>\n",
       "      <th>dish_type</th>\n",
       "      <th>neighborhood</th>\n",
       "      <th>hours_of_operation</th>\n",
       "      <th>dining_style</th>\n",
       "      <th>dress_code</th>\n",
       "      <th>parking_details</th>\n",
       "      <th>executive_chef</th>\n",
       "      <th>photo_number</th>\n",
       "    </tr>\n",
       "  </thead>\n",
       "  <tbody>\n",
       "  </tbody>\n",
       "</table>\n",
       "</div>"
      ],
      "text/plain": [
       "Empty DataFrame\n",
       "Columns: [restaurant_name, avg_rating, review_number, dish_type, neighborhood, hours_of_operation, dining_style, dress_code, parking_details, executive_chef, photo_number]\n",
       "Index: []"
      ]
     },
     "execution_count": 265,
     "metadata": {},
     "output_type": "execute_result"
    }
   ],
   "source": [
    "import pandas as pd\n",
    "\n",
    "df = pd.DataFrame(list(zip(restaurant_name,avg_rating,review_number,dish_type,neighborhood,hours_of_operation,\n",
    "                          dining_style,dress_code,parking_details,executive_chef,photo_number)),\n",
    "                  columns=[\"restaurant_name\",\"avg_rating\",\"review_number\",\"dish_type\",\"neighborhood\",\"hours_of_operation\",\n",
    "                          \"dining_style\",\"dress_code\",\"parking_details\",\"executive_chef\",\"photo_number\"])\n",
    "df\n"
   ]
  },
  {
   "cell_type": "code",
   "execution_count": 266,
   "id": "7eadab6b",
   "metadata": {},
   "outputs": [],
   "source": [
    "df.to_csv(\"opentable.csv\")"
   ]
  },
  {
   "cell_type": "code",
   "execution_count": 229,
   "id": "b8254d8b",
   "metadata": {},
   "outputs": [],
   "source": [
    "driver.close()"
   ]
  },
  {
   "cell_type": "code",
   "execution_count": null,
   "id": "65535805",
   "metadata": {},
   "outputs": [],
   "source": []
  }
 ],
 "metadata": {
  "kernelspec": {
   "display_name": "Python 3 (ipykernel)",
   "language": "python",
   "name": "python3"
  },
  "language_info": {
   "codemirror_mode": {
    "name": "ipython",
    "version": 3
   },
   "file_extension": ".py",
   "mimetype": "text/x-python",
   "name": "python",
   "nbconvert_exporter": "python",
   "pygments_lexer": "ipython3",
   "version": "3.9.12"
  }
 },
 "nbformat": 4,
 "nbformat_minor": 5
}
