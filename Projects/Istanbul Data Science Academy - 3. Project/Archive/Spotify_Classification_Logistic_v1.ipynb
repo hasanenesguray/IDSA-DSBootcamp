{
 "cells": [
  {
   "cell_type": "code",
   "execution_count": 94,
   "id": "d82c0b0e",
   "metadata": {},
   "outputs": [],
   "source": [
    "import psycopg2\n",
    "import pandas as pd\n",
    "import datetime\n",
    "import numpy as np\n",
    "from sklearn.model_selection import train_test_split\n",
    "from sklearn.linear_model import LinearRegression\n",
    "from pandas import Series, DataFrame\n",
    "import matplotlib.pyplot as plt\n",
    "import seaborn as sns\n",
    "\n",
    "from sklearn.linear_model import LogisticRegression\n",
    "from sklearn.model_selection import train_test_split\n",
    "from sklearn.metrics import confusion_matrix\n",
    "from sklearn.preprocessing import StandardScaler\n",
    "from sklearn.metrics import precision_score, recall_score, precision_recall_curve, f1_score\n",
    "from sklearn.metrics import roc_auc_score, roc_curve\n",
    "from sklearn.metrics import log_loss\n",
    "from sklearn.metrics import log_loss"
   ]
  },
  {
   "cell_type": "code",
   "execution_count": 2,
   "id": "c68fb130",
   "metadata": {},
   "outputs": [],
   "source": [
    "params = params = {\n",
    "    \"host\": \"localhost\",\n",
    "    \"user\": \"postgres\",\n",
    "    \"port\": 5432\n",
    "}\n",
    "connection = psycopg2.connect(**params, dbname= \"postgres\")"
   ]
  },
  {
   "cell_type": "code",
   "execution_count": 3,
   "id": "0bec7109",
   "metadata": {},
   "outputs": [
    {
     "name": "stderr",
     "output_type": "stream",
     "text": [
      "/Users/hasanenesguray/opt/anaconda3/lib/python3.9/site-packages/pandas/io/sql.py:761: UserWarning: pandas only support SQLAlchemy connectable(engine/connection) ordatabase string URI or sqlite3 DBAPI2 connectionother DBAPI2 objects are not tested, please consider using SQLAlchemy\n",
      "  warnings.warn(\n"
     ]
    }
   ],
   "source": [
    "df = pd.read_sql(\"select * from public.spotify_log sl join public.spotify_track st on sl.track_id_clean = st.track_id;\", connection)"
   ]
  },
  {
   "cell_type": "code",
   "execution_count": 4,
   "id": "2933d487",
   "metadata": {},
   "outputs": [
    {
     "data": {
      "text/html": [
       "<div>\n",
       "<style scoped>\n",
       "    .dataframe tbody tr th:only-of-type {\n",
       "        vertical-align: middle;\n",
       "    }\n",
       "\n",
       "    .dataframe tbody tr th {\n",
       "        vertical-align: top;\n",
       "    }\n",
       "\n",
       "    .dataframe thead th {\n",
       "        text-align: right;\n",
       "    }\n",
       "</style>\n",
       "<table border=\"1\" class=\"dataframe\">\n",
       "  <thead>\n",
       "    <tr style=\"text-align: right;\">\n",
       "      <th></th>\n",
       "      <th>session_id</th>\n",
       "      <th>session_position</th>\n",
       "      <th>session_length</th>\n",
       "      <th>track_id_clean</th>\n",
       "      <th>skip_1</th>\n",
       "      <th>skip_2</th>\n",
       "      <th>skip_3</th>\n",
       "      <th>not_skipped</th>\n",
       "      <th>context_switch</th>\n",
       "      <th>no_pause_before_play</th>\n",
       "      <th>...</th>\n",
       "      <th>time_signature</th>\n",
       "      <th>valence</th>\n",
       "      <th>acoustic_vector_0</th>\n",
       "      <th>acoustic_vector_1</th>\n",
       "      <th>acoustic_vector_2</th>\n",
       "      <th>acoustic_vector_3</th>\n",
       "      <th>acoustic_vector_4</th>\n",
       "      <th>acoustic_vector_5</th>\n",
       "      <th>acoustic_vector_6</th>\n",
       "      <th>acoustic_vector_7</th>\n",
       "    </tr>\n",
       "  </thead>\n",
       "  <tbody>\n",
       "    <tr>\n",
       "      <th>0</th>\n",
       "      <td>0_00006f66-33e5-4de7-a324-2d18e439fc1e</td>\n",
       "      <td>3</td>\n",
       "      <td>20</td>\n",
       "      <td>t_fc5df5ba-5396-49a7-8b29-35d0d28249e0</td>\n",
       "      <td>False</td>\n",
       "      <td>False</td>\n",
       "      <td>False</td>\n",
       "      <td>True</td>\n",
       "      <td>0</td>\n",
       "      <td>1</td>\n",
       "      <td>...</td>\n",
       "      <td>4</td>\n",
       "      <td>0.373862</td>\n",
       "      <td>-0.742541</td>\n",
       "      <td>0.375599</td>\n",
       "      <td>0.252660</td>\n",
       "      <td>-0.049007</td>\n",
       "      <td>-0.299745</td>\n",
       "      <td>0.063341</td>\n",
       "      <td>-0.486689</td>\n",
       "      <td>0.181604</td>\n",
       "    </tr>\n",
       "    <tr>\n",
       "      <th>1</th>\n",
       "      <td>0_00006f66-33e5-4de7-a324-2d18e439fc1e</td>\n",
       "      <td>10</td>\n",
       "      <td>20</td>\n",
       "      <td>t_2af4dfa0-7df3-4b7e-b7ab-353ba48237f9</td>\n",
       "      <td>True</td>\n",
       "      <td>True</td>\n",
       "      <td>True</td>\n",
       "      <td>False</td>\n",
       "      <td>0</td>\n",
       "      <td>1</td>\n",
       "      <td>...</td>\n",
       "      <td>4</td>\n",
       "      <td>0.257672</td>\n",
       "      <td>-0.647221</td>\n",
       "      <td>0.316101</td>\n",
       "      <td>0.251329</td>\n",
       "      <td>-0.041532</td>\n",
       "      <td>-0.252359</td>\n",
       "      <td>0.059971</td>\n",
       "      <td>-0.313696</td>\n",
       "      <td>0.126421</td>\n",
       "    </tr>\n",
       "    <tr>\n",
       "      <th>2</th>\n",
       "      <td>0_00006f66-33e5-4de7-a324-2d18e439fc1e</td>\n",
       "      <td>11</td>\n",
       "      <td>20</td>\n",
       "      <td>t_79570b2a-639a-4ec0-9853-71c5299ac44d</td>\n",
       "      <td>True</td>\n",
       "      <td>True</td>\n",
       "      <td>True</td>\n",
       "      <td>False</td>\n",
       "      <td>0</td>\n",
       "      <td>1</td>\n",
       "      <td>...</td>\n",
       "      <td>4</td>\n",
       "      <td>0.037998</td>\n",
       "      <td>-0.573548</td>\n",
       "      <td>0.284808</td>\n",
       "      <td>0.249904</td>\n",
       "      <td>-0.080877</td>\n",
       "      <td>-0.337629</td>\n",
       "      <td>0.116421</td>\n",
       "      <td>-0.337717</td>\n",
       "      <td>0.247187</td>\n",
       "    </tr>\n",
       "    <tr>\n",
       "      <th>3</th>\n",
       "      <td>0_00006f66-33e5-4de7-a324-2d18e439fc1e</td>\n",
       "      <td>17</td>\n",
       "      <td>20</td>\n",
       "      <td>t_bff5b6c6-6968-41be-b723-7e860b372975</td>\n",
       "      <td>False</td>\n",
       "      <td>True</td>\n",
       "      <td>True</td>\n",
       "      <td>False</td>\n",
       "      <td>0</td>\n",
       "      <td>1</td>\n",
       "      <td>...</td>\n",
       "      <td>4</td>\n",
       "      <td>0.283693</td>\n",
       "      <td>-0.837439</td>\n",
       "      <td>0.368295</td>\n",
       "      <td>0.271468</td>\n",
       "      <td>0.024429</td>\n",
       "      <td>-0.292806</td>\n",
       "      <td>0.032801</td>\n",
       "      <td>-0.485078</td>\n",
       "      <td>0.183784</td>\n",
       "    </tr>\n",
       "    <tr>\n",
       "      <th>4</th>\n",
       "      <td>0_0000a72b-09ac-412f-b452-9b9e79bded8f</td>\n",
       "      <td>2</td>\n",
       "      <td>20</td>\n",
       "      <td>t_0632570b-b4b4-4c3c-b47c-443ec9fbaa11</td>\n",
       "      <td>True</td>\n",
       "      <td>True</td>\n",
       "      <td>True</td>\n",
       "      <td>False</td>\n",
       "      <td>0</td>\n",
       "      <td>1</td>\n",
       "      <td>...</td>\n",
       "      <td>4</td>\n",
       "      <td>0.555482</td>\n",
       "      <td>0.203349</td>\n",
       "      <td>0.247835</td>\n",
       "      <td>-0.136071</td>\n",
       "      <td>-0.440866</td>\n",
       "      <td>0.680082</td>\n",
       "      <td>0.181352</td>\n",
       "      <td>-0.279335</td>\n",
       "      <td>0.001125</td>\n",
       "    </tr>\n",
       "  </tbody>\n",
       "</table>\n",
       "<p>5 rows × 51 columns</p>\n",
       "</div>"
      ],
      "text/plain": [
       "                               session_id  session_position  session_length  \\\n",
       "0  0_00006f66-33e5-4de7-a324-2d18e439fc1e                 3              20   \n",
       "1  0_00006f66-33e5-4de7-a324-2d18e439fc1e                10              20   \n",
       "2  0_00006f66-33e5-4de7-a324-2d18e439fc1e                11              20   \n",
       "3  0_00006f66-33e5-4de7-a324-2d18e439fc1e                17              20   \n",
       "4  0_0000a72b-09ac-412f-b452-9b9e79bded8f                 2              20   \n",
       "\n",
       "                           track_id_clean  skip_1  skip_2  skip_3  \\\n",
       "0  t_fc5df5ba-5396-49a7-8b29-35d0d28249e0   False   False   False   \n",
       "1  t_2af4dfa0-7df3-4b7e-b7ab-353ba48237f9    True    True    True   \n",
       "2  t_79570b2a-639a-4ec0-9853-71c5299ac44d    True    True    True   \n",
       "3  t_bff5b6c6-6968-41be-b723-7e860b372975   False    True    True   \n",
       "4  t_0632570b-b4b4-4c3c-b47c-443ec9fbaa11    True    True    True   \n",
       "\n",
       "   not_skipped  context_switch  no_pause_before_play  ...  time_signature  \\\n",
       "0         True               0                     1  ...               4   \n",
       "1        False               0                     1  ...               4   \n",
       "2        False               0                     1  ...               4   \n",
       "3        False               0                     1  ...               4   \n",
       "4        False               0                     1  ...               4   \n",
       "\n",
       "    valence  acoustic_vector_0  acoustic_vector_1  acoustic_vector_2  \\\n",
       "0  0.373862          -0.742541           0.375599           0.252660   \n",
       "1  0.257672          -0.647221           0.316101           0.251329   \n",
       "2  0.037998          -0.573548           0.284808           0.249904   \n",
       "3  0.283693          -0.837439           0.368295           0.271468   \n",
       "4  0.555482           0.203349           0.247835          -0.136071   \n",
       "\n",
       "   acoustic_vector_3 acoustic_vector_4  acoustic_vector_5 acoustic_vector_6  \\\n",
       "0          -0.049007         -0.299745           0.063341         -0.486689   \n",
       "1          -0.041532         -0.252359           0.059971         -0.313696   \n",
       "2          -0.080877         -0.337629           0.116421         -0.337717   \n",
       "3           0.024429         -0.292806           0.032801         -0.485078   \n",
       "4          -0.440866          0.680082           0.181352         -0.279335   \n",
       "\n",
       "  acoustic_vector_7  \n",
       "0          0.181604  \n",
       "1          0.126421  \n",
       "2          0.247187  \n",
       "3          0.183784  \n",
       "4          0.001125  \n",
       "\n",
       "[5 rows x 51 columns]"
      ]
     },
     "execution_count": 4,
     "metadata": {},
     "output_type": "execute_result"
    }
   ],
   "source": [
    "df.head()"
   ]
  },
  {
   "cell_type": "code",
   "execution_count": 5,
   "id": "d1c8a3bf",
   "metadata": {},
   "outputs": [
    {
     "name": "stdout",
     "output_type": "stream",
     "text": [
      "<class 'pandas.core.frame.DataFrame'>\n",
      "RangeIndex: 167880 entries, 0 to 167879\n",
      "Data columns (total 51 columns):\n",
      " #   Column                           Non-Null Count   Dtype  \n",
      "---  ------                           --------------   -----  \n",
      " 0   session_id                       167880 non-null  object \n",
      " 1   session_position                 167880 non-null  int64  \n",
      " 2   session_length                   167880 non-null  int64  \n",
      " 3   track_id_clean                   167880 non-null  object \n",
      " 4   skip_1                           167880 non-null  bool   \n",
      " 5   skip_2                           167880 non-null  bool   \n",
      " 6   skip_3                           167880 non-null  bool   \n",
      " 7   not_skipped                      167880 non-null  bool   \n",
      " 8   context_switch                   167880 non-null  int64  \n",
      " 9   no_pause_before_play             167880 non-null  int64  \n",
      " 10  short_pause_before_play          167880 non-null  int64  \n",
      " 11  long_pause_before_play           167880 non-null  int64  \n",
      " 12  hist_user_behavior_n_seekfwd     167880 non-null  int64  \n",
      " 13  hist_user_behavior_n_seekback    167880 non-null  int64  \n",
      " 14  hist_user_behavior_is_shuffle    167880 non-null  bool   \n",
      " 15  hour_of_day                      167880 non-null  int64  \n",
      " 16  date                             167880 non-null  object \n",
      " 17  premium                          167880 non-null  bool   \n",
      " 18  context_type                     167880 non-null  object \n",
      " 19  hist_user_behavior_reason_start  167880 non-null  object \n",
      " 20  hist_user_behavior_reason_end    167880 non-null  object \n",
      " 21  track_id                         167880 non-null  object \n",
      " 22  duration                         167880 non-null  float64\n",
      " 23  release_year                     167880 non-null  int64  \n",
      " 24  us_popularity_estimate           167880 non-null  float64\n",
      " 25  acousticness                     167880 non-null  float64\n",
      " 26  beat_strength                    167880 non-null  float64\n",
      " 27  bounciness                       167880 non-null  float64\n",
      " 28  danceability                     167880 non-null  float64\n",
      " 29  dyn_range_mean                   167880 non-null  float64\n",
      " 30  energy                           167880 non-null  float64\n",
      " 31  flatness                         167880 non-null  float64\n",
      " 32  instrumentalness                 167880 non-null  float64\n",
      " 33  key                              167880 non-null  int64  \n",
      " 34  liveness                         167880 non-null  float64\n",
      " 35  loudness                         167880 non-null  float64\n",
      " 36  mechanism                        167880 non-null  float64\n",
      " 37  mode                             167880 non-null  object \n",
      " 38  organism                         167880 non-null  float64\n",
      " 39  speechiness                      167880 non-null  float64\n",
      " 40  tempo                            167880 non-null  float64\n",
      " 41  time_signature                   167880 non-null  int64  \n",
      " 42  valence                          167880 non-null  float64\n",
      " 43  acoustic_vector_0                167880 non-null  float64\n",
      " 44  acoustic_vector_1                167880 non-null  float64\n",
      " 45  acoustic_vector_2                167880 non-null  float64\n",
      " 46  acoustic_vector_3                167880 non-null  float64\n",
      " 47  acoustic_vector_4                167880 non-null  float64\n",
      " 48  acoustic_vector_5                167880 non-null  float64\n",
      " 49  acoustic_vector_6                167880 non-null  float64\n",
      " 50  acoustic_vector_7                167880 non-null  float64\n",
      "dtypes: bool(6), float64(25), int64(12), object(8)\n",
      "memory usage: 58.6+ MB\n"
     ]
    }
   ],
   "source": [
    "df.info()"
   ]
  },
  {
   "cell_type": "code",
   "execution_count": 6,
   "id": "5ca64838",
   "metadata": {},
   "outputs": [
    {
     "data": {
      "text/plain": [
       "array(['2018-07-15', '2018-07-14', '2018-07-13', '2018-07-12',\n",
       "       '2018-06-05', '2018-07-11', '2018-07-16', '2018-07-10',\n",
       "       '2018-07-04', '2018-07-05', '2018-07-07', '2018-07-06',\n",
       "       '2018-05-12', '2018-07-09', '2018-06-29', '2018-06-30',\n",
       "       '2018-06-19', '2018-05-18'], dtype=object)"
      ]
     },
     "execution_count": 6,
     "metadata": {},
     "output_type": "execute_result"
    }
   ],
   "source": [
    "df.date.unique()"
   ]
  },
  {
   "cell_type": "code",
   "execution_count": 7,
   "id": "77661e6b",
   "metadata": {},
   "outputs": [
    {
     "data": {
      "text/html": [
       "<div>\n",
       "<style scoped>\n",
       "    .dataframe tbody tr th:only-of-type {\n",
       "        vertical-align: middle;\n",
       "    }\n",
       "\n",
       "    .dataframe tbody tr th {\n",
       "        vertical-align: top;\n",
       "    }\n",
       "\n",
       "    .dataframe thead th {\n",
       "        text-align: right;\n",
       "    }\n",
       "</style>\n",
       "<table border=\"1\" class=\"dataframe\">\n",
       "  <thead>\n",
       "    <tr style=\"text-align: right;\">\n",
       "      <th></th>\n",
       "      <th>session_id</th>\n",
       "      <th>session_position</th>\n",
       "      <th>session_length</th>\n",
       "      <th>track_id_clean</th>\n",
       "      <th>skip_1</th>\n",
       "      <th>skip_2</th>\n",
       "      <th>skip_3</th>\n",
       "      <th>not_skipped</th>\n",
       "      <th>context_switch</th>\n",
       "      <th>no_pause_before_play</th>\n",
       "      <th>...</th>\n",
       "      <th>valence</th>\n",
       "      <th>acoustic_vector_0</th>\n",
       "      <th>acoustic_vector_1</th>\n",
       "      <th>acoustic_vector_2</th>\n",
       "      <th>acoustic_vector_3</th>\n",
       "      <th>acoustic_vector_4</th>\n",
       "      <th>acoustic_vector_5</th>\n",
       "      <th>acoustic_vector_6</th>\n",
       "      <th>acoustic_vector_7</th>\n",
       "      <th>weekday</th>\n",
       "    </tr>\n",
       "  </thead>\n",
       "  <tbody>\n",
       "    <tr>\n",
       "      <th>0</th>\n",
       "      <td>0_00006f66-33e5-4de7-a324-2d18e439fc1e</td>\n",
       "      <td>3</td>\n",
       "      <td>20</td>\n",
       "      <td>t_fc5df5ba-5396-49a7-8b29-35d0d28249e0</td>\n",
       "      <td>False</td>\n",
       "      <td>False</td>\n",
       "      <td>False</td>\n",
       "      <td>True</td>\n",
       "      <td>0</td>\n",
       "      <td>1</td>\n",
       "      <td>...</td>\n",
       "      <td>0.373862</td>\n",
       "      <td>-0.742541</td>\n",
       "      <td>0.375599</td>\n",
       "      <td>0.252660</td>\n",
       "      <td>-0.049007</td>\n",
       "      <td>-0.299745</td>\n",
       "      <td>0.063341</td>\n",
       "      <td>-0.486689</td>\n",
       "      <td>0.181604</td>\n",
       "      <td>Sunday</td>\n",
       "    </tr>\n",
       "    <tr>\n",
       "      <th>1</th>\n",
       "      <td>0_00006f66-33e5-4de7-a324-2d18e439fc1e</td>\n",
       "      <td>10</td>\n",
       "      <td>20</td>\n",
       "      <td>t_2af4dfa0-7df3-4b7e-b7ab-353ba48237f9</td>\n",
       "      <td>True</td>\n",
       "      <td>True</td>\n",
       "      <td>True</td>\n",
       "      <td>False</td>\n",
       "      <td>0</td>\n",
       "      <td>1</td>\n",
       "      <td>...</td>\n",
       "      <td>0.257672</td>\n",
       "      <td>-0.647221</td>\n",
       "      <td>0.316101</td>\n",
       "      <td>0.251329</td>\n",
       "      <td>-0.041532</td>\n",
       "      <td>-0.252359</td>\n",
       "      <td>0.059971</td>\n",
       "      <td>-0.313696</td>\n",
       "      <td>0.126421</td>\n",
       "      <td>Sunday</td>\n",
       "    </tr>\n",
       "    <tr>\n",
       "      <th>2</th>\n",
       "      <td>0_00006f66-33e5-4de7-a324-2d18e439fc1e</td>\n",
       "      <td>11</td>\n",
       "      <td>20</td>\n",
       "      <td>t_79570b2a-639a-4ec0-9853-71c5299ac44d</td>\n",
       "      <td>True</td>\n",
       "      <td>True</td>\n",
       "      <td>True</td>\n",
       "      <td>False</td>\n",
       "      <td>0</td>\n",
       "      <td>1</td>\n",
       "      <td>...</td>\n",
       "      <td>0.037998</td>\n",
       "      <td>-0.573548</td>\n",
       "      <td>0.284808</td>\n",
       "      <td>0.249904</td>\n",
       "      <td>-0.080877</td>\n",
       "      <td>-0.337629</td>\n",
       "      <td>0.116421</td>\n",
       "      <td>-0.337717</td>\n",
       "      <td>0.247187</td>\n",
       "      <td>Sunday</td>\n",
       "    </tr>\n",
       "    <tr>\n",
       "      <th>3</th>\n",
       "      <td>0_00006f66-33e5-4de7-a324-2d18e439fc1e</td>\n",
       "      <td>17</td>\n",
       "      <td>20</td>\n",
       "      <td>t_bff5b6c6-6968-41be-b723-7e860b372975</td>\n",
       "      <td>False</td>\n",
       "      <td>True</td>\n",
       "      <td>True</td>\n",
       "      <td>False</td>\n",
       "      <td>0</td>\n",
       "      <td>1</td>\n",
       "      <td>...</td>\n",
       "      <td>0.283693</td>\n",
       "      <td>-0.837439</td>\n",
       "      <td>0.368295</td>\n",
       "      <td>0.271468</td>\n",
       "      <td>0.024429</td>\n",
       "      <td>-0.292806</td>\n",
       "      <td>0.032801</td>\n",
       "      <td>-0.485078</td>\n",
       "      <td>0.183784</td>\n",
       "      <td>Sunday</td>\n",
       "    </tr>\n",
       "    <tr>\n",
       "      <th>4</th>\n",
       "      <td>0_0000a72b-09ac-412f-b452-9b9e79bded8f</td>\n",
       "      <td>2</td>\n",
       "      <td>20</td>\n",
       "      <td>t_0632570b-b4b4-4c3c-b47c-443ec9fbaa11</td>\n",
       "      <td>True</td>\n",
       "      <td>True</td>\n",
       "      <td>True</td>\n",
       "      <td>False</td>\n",
       "      <td>0</td>\n",
       "      <td>1</td>\n",
       "      <td>...</td>\n",
       "      <td>0.555482</td>\n",
       "      <td>0.203349</td>\n",
       "      <td>0.247835</td>\n",
       "      <td>-0.136071</td>\n",
       "      <td>-0.440866</td>\n",
       "      <td>0.680082</td>\n",
       "      <td>0.181352</td>\n",
       "      <td>-0.279335</td>\n",
       "      <td>0.001125</td>\n",
       "      <td>Sunday</td>\n",
       "    </tr>\n",
       "  </tbody>\n",
       "</table>\n",
       "<p>5 rows × 52 columns</p>\n",
       "</div>"
      ],
      "text/plain": [
       "                               session_id  session_position  session_length  \\\n",
       "0  0_00006f66-33e5-4de7-a324-2d18e439fc1e                 3              20   \n",
       "1  0_00006f66-33e5-4de7-a324-2d18e439fc1e                10              20   \n",
       "2  0_00006f66-33e5-4de7-a324-2d18e439fc1e                11              20   \n",
       "3  0_00006f66-33e5-4de7-a324-2d18e439fc1e                17              20   \n",
       "4  0_0000a72b-09ac-412f-b452-9b9e79bded8f                 2              20   \n",
       "\n",
       "                           track_id_clean  skip_1  skip_2  skip_3  \\\n",
       "0  t_fc5df5ba-5396-49a7-8b29-35d0d28249e0   False   False   False   \n",
       "1  t_2af4dfa0-7df3-4b7e-b7ab-353ba48237f9    True    True    True   \n",
       "2  t_79570b2a-639a-4ec0-9853-71c5299ac44d    True    True    True   \n",
       "3  t_bff5b6c6-6968-41be-b723-7e860b372975   False    True    True   \n",
       "4  t_0632570b-b4b4-4c3c-b47c-443ec9fbaa11    True    True    True   \n",
       "\n",
       "   not_skipped  context_switch  no_pause_before_play  ...   valence  \\\n",
       "0         True               0                     1  ...  0.373862   \n",
       "1        False               0                     1  ...  0.257672   \n",
       "2        False               0                     1  ...  0.037998   \n",
       "3        False               0                     1  ...  0.283693   \n",
       "4        False               0                     1  ...  0.555482   \n",
       "\n",
       "   acoustic_vector_0  acoustic_vector_1  acoustic_vector_2  acoustic_vector_3  \\\n",
       "0          -0.742541           0.375599           0.252660          -0.049007   \n",
       "1          -0.647221           0.316101           0.251329          -0.041532   \n",
       "2          -0.573548           0.284808           0.249904          -0.080877   \n",
       "3          -0.837439           0.368295           0.271468           0.024429   \n",
       "4           0.203349           0.247835          -0.136071          -0.440866   \n",
       "\n",
       "   acoustic_vector_4 acoustic_vector_5  acoustic_vector_6 acoustic_vector_7  \\\n",
       "0          -0.299745          0.063341          -0.486689          0.181604   \n",
       "1          -0.252359          0.059971          -0.313696          0.126421   \n",
       "2          -0.337629          0.116421          -0.337717          0.247187   \n",
       "3          -0.292806          0.032801          -0.485078          0.183784   \n",
       "4           0.680082          0.181352          -0.279335          0.001125   \n",
       "\n",
       "  weekday  \n",
       "0  Sunday  \n",
       "1  Sunday  \n",
       "2  Sunday  \n",
       "3  Sunday  \n",
       "4  Sunday  \n",
       "\n",
       "[5 rows x 52 columns]"
      ]
     },
     "execution_count": 7,
     "metadata": {},
     "output_type": "execute_result"
    }
   ],
   "source": [
    "def weekday_converter(date):\n",
    "    format = '%Y-%m-%d'\n",
    "    datetime_date = datetime.datetime.strptime(date,format)\n",
    "    weekdays_list = [\"Monday\",\"Tuesday\",\"Wednesday\",\"Thursday\",\"Friday\",\"Saturday\",\"Sunday\"]\n",
    "    return weekdays_list[datetime_date.weekday()]\n",
    "\n",
    "df = df.assign(weekday=df.date.apply(weekday_converter))\n",
    "df.head()"
   ]
  },
  {
   "cell_type": "code",
   "execution_count": 8,
   "id": "d3e03301",
   "metadata": {},
   "outputs": [
    {
     "data": {
      "text/html": [
       "<div>\n",
       "<style scoped>\n",
       "    .dataframe tbody tr th:only-of-type {\n",
       "        vertical-align: middle;\n",
       "    }\n",
       "\n",
       "    .dataframe tbody tr th {\n",
       "        vertical-align: top;\n",
       "    }\n",
       "\n",
       "    .dataframe thead th {\n",
       "        text-align: right;\n",
       "    }\n",
       "</style>\n",
       "<table border=\"1\" class=\"dataframe\">\n",
       "  <thead>\n",
       "    <tr style=\"text-align: right;\">\n",
       "      <th></th>\n",
       "      <th>release_year</th>\n",
       "      <th>track_age</th>\n",
       "    </tr>\n",
       "  </thead>\n",
       "  <tbody>\n",
       "    <tr>\n",
       "      <th>0</th>\n",
       "      <td>2018</td>\n",
       "      <td>4</td>\n",
       "    </tr>\n",
       "    <tr>\n",
       "      <th>1</th>\n",
       "      <td>2018</td>\n",
       "      <td>4</td>\n",
       "    </tr>\n",
       "    <tr>\n",
       "      <th>2</th>\n",
       "      <td>2018</td>\n",
       "      <td>4</td>\n",
       "    </tr>\n",
       "    <tr>\n",
       "      <th>3</th>\n",
       "      <td>2018</td>\n",
       "      <td>4</td>\n",
       "    </tr>\n",
       "    <tr>\n",
       "      <th>4</th>\n",
       "      <td>1974</td>\n",
       "      <td>48</td>\n",
       "    </tr>\n",
       "    <tr>\n",
       "      <th>...</th>\n",
       "      <td>...</td>\n",
       "      <td>...</td>\n",
       "    </tr>\n",
       "    <tr>\n",
       "      <th>167875</th>\n",
       "      <td>2015</td>\n",
       "      <td>7</td>\n",
       "    </tr>\n",
       "    <tr>\n",
       "      <th>167876</th>\n",
       "      <td>2018</td>\n",
       "      <td>4</td>\n",
       "    </tr>\n",
       "    <tr>\n",
       "      <th>167877</th>\n",
       "      <td>2018</td>\n",
       "      <td>4</td>\n",
       "    </tr>\n",
       "    <tr>\n",
       "      <th>167878</th>\n",
       "      <td>2018</td>\n",
       "      <td>4</td>\n",
       "    </tr>\n",
       "    <tr>\n",
       "      <th>167879</th>\n",
       "      <td>2018</td>\n",
       "      <td>4</td>\n",
       "    </tr>\n",
       "  </tbody>\n",
       "</table>\n",
       "<p>167880 rows × 2 columns</p>\n",
       "</div>"
      ],
      "text/plain": [
       "        release_year  track_age\n",
       "0               2018          4\n",
       "1               2018          4\n",
       "2               2018          4\n",
       "3               2018          4\n",
       "4               1974         48\n",
       "...              ...        ...\n",
       "167875          2015          7\n",
       "167876          2018          4\n",
       "167877          2018          4\n",
       "167878          2018          4\n",
       "167879          2018          4\n",
       "\n",
       "[167880 rows x 2 columns]"
      ]
     },
     "execution_count": 8,
     "metadata": {},
     "output_type": "execute_result"
    }
   ],
   "source": [
    "def track_age_calculator(year):\n",
    "    return 2022-year\n",
    "\n",
    "df = df.assign(track_age=df.release_year.apply(track_age_calculator))\n",
    "df[['release_year','track_age']]"
   ]
  },
  {
   "cell_type": "code",
   "execution_count": 9,
   "id": "8019e286",
   "metadata": {},
   "outputs": [
    {
     "name": "stdout",
     "output_type": "stream",
     "text": [
      "<class 'pandas.core.frame.DataFrame'>\n",
      "RangeIndex: 167880 entries, 0 to 167879\n",
      "Data columns (total 53 columns):\n",
      " #   Column                           Non-Null Count   Dtype  \n",
      "---  ------                           --------------   -----  \n",
      " 0   session_id                       167880 non-null  object \n",
      " 1   session_position                 167880 non-null  int64  \n",
      " 2   session_length                   167880 non-null  int64  \n",
      " 3   track_id_clean                   167880 non-null  object \n",
      " 4   skip_1                           167880 non-null  bool   \n",
      " 5   skip_2                           167880 non-null  bool   \n",
      " 6   skip_3                           167880 non-null  bool   \n",
      " 7   not_skipped                      167880 non-null  bool   \n",
      " 8   context_switch                   167880 non-null  int64  \n",
      " 9   no_pause_before_play             167880 non-null  int64  \n",
      " 10  short_pause_before_play          167880 non-null  int64  \n",
      " 11  long_pause_before_play           167880 non-null  int64  \n",
      " 12  hist_user_behavior_n_seekfwd     167880 non-null  int64  \n",
      " 13  hist_user_behavior_n_seekback    167880 non-null  int64  \n",
      " 14  hist_user_behavior_is_shuffle    167880 non-null  bool   \n",
      " 15  hour_of_day                      167880 non-null  int64  \n",
      " 16  date                             167880 non-null  object \n",
      " 17  premium                          167880 non-null  bool   \n",
      " 18  context_type                     167880 non-null  object \n",
      " 19  hist_user_behavior_reason_start  167880 non-null  object \n",
      " 20  hist_user_behavior_reason_end    167880 non-null  object \n",
      " 21  track_id                         167880 non-null  object \n",
      " 22  duration                         167880 non-null  float64\n",
      " 23  release_year                     167880 non-null  int64  \n",
      " 24  us_popularity_estimate           167880 non-null  float64\n",
      " 25  acousticness                     167880 non-null  float64\n",
      " 26  beat_strength                    167880 non-null  float64\n",
      " 27  bounciness                       167880 non-null  float64\n",
      " 28  danceability                     167880 non-null  float64\n",
      " 29  dyn_range_mean                   167880 non-null  float64\n",
      " 30  energy                           167880 non-null  float64\n",
      " 31  flatness                         167880 non-null  float64\n",
      " 32  instrumentalness                 167880 non-null  float64\n",
      " 33  key                              167880 non-null  int64  \n",
      " 34  liveness                         167880 non-null  float64\n",
      " 35  loudness                         167880 non-null  float64\n",
      " 36  mechanism                        167880 non-null  float64\n",
      " 37  mode                             167880 non-null  object \n",
      " 38  organism                         167880 non-null  float64\n",
      " 39  speechiness                      167880 non-null  float64\n",
      " 40  tempo                            167880 non-null  float64\n",
      " 41  time_signature                   167880 non-null  int64  \n",
      " 42  valence                          167880 non-null  float64\n",
      " 43  acoustic_vector_0                167880 non-null  float64\n",
      " 44  acoustic_vector_1                167880 non-null  float64\n",
      " 45  acoustic_vector_2                167880 non-null  float64\n",
      " 46  acoustic_vector_3                167880 non-null  float64\n",
      " 47  acoustic_vector_4                167880 non-null  float64\n",
      " 48  acoustic_vector_5                167880 non-null  float64\n",
      " 49  acoustic_vector_6                167880 non-null  float64\n",
      " 50  acoustic_vector_7                167880 non-null  float64\n",
      " 51  weekday                          167880 non-null  object \n",
      " 52  track_age                        167880 non-null  int64  \n",
      "dtypes: bool(6), float64(25), int64(13), object(9)\n",
      "memory usage: 61.2+ MB\n"
     ]
    }
   ],
   "source": [
    "df.info()"
   ]
  },
  {
   "cell_type": "code",
   "execution_count": 10,
   "id": "1b03e49c",
   "metadata": {},
   "outputs": [],
   "source": [
    "df.drop('session_id', inplace=True, axis=1)\n",
    "df.drop('track_id_clean', inplace=True, axis=1)\n",
    "df.drop('skip_1', inplace=True, axis=1)\n",
    "df.drop('skip_3', inplace=True, axis=1)\n",
    "df.drop('not_skipped', inplace=True, axis=1)\n",
    "df.drop('date', inplace=True, axis=1)\n",
    "df.drop('track_id', inplace=True, axis=1)"
   ]
  },
  {
   "cell_type": "code",
   "execution_count": 12,
   "id": "9ae86de7",
   "metadata": {},
   "outputs": [],
   "source": [
    "df = pd.get_dummies(df, columns=['context_type', 'hist_user_behavior_reason_start', 'hist_user_behavior_reason_end',\n",
    "                                      'weekday','mode'], drop_first=True)"
   ]
  },
  {
   "cell_type": "code",
   "execution_count": 13,
   "id": "634ae65b",
   "metadata": {},
   "outputs": [
    {
     "name": "stdout",
     "output_type": "stream",
     "text": [
      "<class 'pandas.core.frame.DataFrame'>\n",
      "RangeIndex: 167880 entries, 0 to 167879\n",
      "Data columns (total 67 columns):\n",
      " #   Column                                      Non-Null Count   Dtype  \n",
      "---  ------                                      --------------   -----  \n",
      " 0   session_position                            167880 non-null  int64  \n",
      " 1   session_length                              167880 non-null  int64  \n",
      " 2   skip_2                                      167880 non-null  bool   \n",
      " 3   context_switch                              167880 non-null  int64  \n",
      " 4   no_pause_before_play                        167880 non-null  int64  \n",
      " 5   short_pause_before_play                     167880 non-null  int64  \n",
      " 6   long_pause_before_play                      167880 non-null  int64  \n",
      " 7   hist_user_behavior_n_seekfwd                167880 non-null  int64  \n",
      " 8   hist_user_behavior_n_seekback               167880 non-null  int64  \n",
      " 9   hist_user_behavior_is_shuffle               167880 non-null  bool   \n",
      " 10  hour_of_day                                 167880 non-null  int64  \n",
      " 11  premium                                     167880 non-null  bool   \n",
      " 12  duration                                    167880 non-null  float64\n",
      " 13  release_year                                167880 non-null  int64  \n",
      " 14  us_popularity_estimate                      167880 non-null  float64\n",
      " 15  acousticness                                167880 non-null  float64\n",
      " 16  beat_strength                               167880 non-null  float64\n",
      " 17  bounciness                                  167880 non-null  float64\n",
      " 18  danceability                                167880 non-null  float64\n",
      " 19  dyn_range_mean                              167880 non-null  float64\n",
      " 20  energy                                      167880 non-null  float64\n",
      " 21  flatness                                    167880 non-null  float64\n",
      " 22  instrumentalness                            167880 non-null  float64\n",
      " 23  key                                         167880 non-null  int64  \n",
      " 24  liveness                                    167880 non-null  float64\n",
      " 25  loudness                                    167880 non-null  float64\n",
      " 26  mechanism                                   167880 non-null  float64\n",
      " 27  organism                                    167880 non-null  float64\n",
      " 28  speechiness                                 167880 non-null  float64\n",
      " 29  tempo                                       167880 non-null  float64\n",
      " 30  time_signature                              167880 non-null  int64  \n",
      " 31  valence                                     167880 non-null  float64\n",
      " 32  acoustic_vector_0                           167880 non-null  float64\n",
      " 33  acoustic_vector_1                           167880 non-null  float64\n",
      " 34  acoustic_vector_2                           167880 non-null  float64\n",
      " 35  acoustic_vector_3                           167880 non-null  float64\n",
      " 36  acoustic_vector_4                           167880 non-null  float64\n",
      " 37  acoustic_vector_5                           167880 non-null  float64\n",
      " 38  acoustic_vector_6                           167880 non-null  float64\n",
      " 39  acoustic_vector_7                           167880 non-null  float64\n",
      " 40  track_age                                   167880 non-null  int64  \n",
      " 41  context_type_charts                         167880 non-null  uint8  \n",
      " 42  context_type_editorial_playlist             167880 non-null  uint8  \n",
      " 43  context_type_personalized_playlist          167880 non-null  uint8  \n",
      " 44  context_type_radio                          167880 non-null  uint8  \n",
      " 45  context_type_user_collection                167880 non-null  uint8  \n",
      " 46  hist_user_behavior_reason_start_backbtn     167880 non-null  uint8  \n",
      " 47  hist_user_behavior_reason_start_clickrow    167880 non-null  uint8  \n",
      " 48  hist_user_behavior_reason_start_endplay     167880 non-null  uint8  \n",
      " 49  hist_user_behavior_reason_start_fwdbtn      167880 non-null  uint8  \n",
      " 50  hist_user_behavior_reason_start_playbtn     167880 non-null  uint8  \n",
      " 51  hist_user_behavior_reason_start_remote      167880 non-null  uint8  \n",
      " 52  hist_user_behavior_reason_start_trackdone   167880 non-null  uint8  \n",
      " 53  hist_user_behavior_reason_start_trackerror  167880 non-null  uint8  \n",
      " 54  hist_user_behavior_reason_end_clickrow      167880 non-null  uint8  \n",
      " 55  hist_user_behavior_reason_end_endplay       167880 non-null  uint8  \n",
      " 56  hist_user_behavior_reason_end_fwdbtn        167880 non-null  uint8  \n",
      " 57  hist_user_behavior_reason_end_logout        167880 non-null  uint8  \n",
      " 58  hist_user_behavior_reason_end_remote        167880 non-null  uint8  \n",
      " 59  hist_user_behavior_reason_end_trackdone     167880 non-null  uint8  \n",
      " 60  weekday_Monday                              167880 non-null  uint8  \n",
      " 61  weekday_Saturday                            167880 non-null  uint8  \n",
      " 62  weekday_Sunday                              167880 non-null  uint8  \n",
      " 63  weekday_Thursday                            167880 non-null  uint8  \n",
      " 64  weekday_Tuesday                             167880 non-null  uint8  \n",
      " 65  weekday_Wednesday                           167880 non-null  uint8  \n",
      " 66  mode_minor                                  167880 non-null  uint8  \n",
      "dtypes: bool(3), float64(25), int64(13), uint8(26)\n",
      "memory usage: 53.3 MB\n"
     ]
    }
   ],
   "source": [
    "df.info()"
   ]
  },
  {
   "cell_type": "code",
   "execution_count": 14,
   "id": "1bea11c2",
   "metadata": {},
   "outputs": [],
   "source": [
    "df[\"skip_2\"] = df[\"skip_2\"].astype(int)\n",
    "df[\"hist_user_behavior_is_shuffle\"] = df[\"hist_user_behavior_is_shuffle\"].astype(int)\n",
    "df[\"premium\"] = df[\"premium\"].astype(int)"
   ]
  },
  {
   "cell_type": "code",
   "execution_count": 15,
   "id": "6ebce21f",
   "metadata": {},
   "outputs": [
    {
     "data": {
      "text/plain": [
       "1    0.517179\n",
       "0    0.482821\n",
       "Name: skip_2, dtype: float64"
      ]
     },
     "execution_count": 15,
     "metadata": {},
     "output_type": "execute_result"
    }
   ],
   "source": [
    "target_count = df.skip_2.value_counts(normalize=True)\n",
    "target_count"
   ]
  },
  {
   "cell_type": "code",
   "execution_count": 16,
   "id": "3d3732aa",
   "metadata": {},
   "outputs": [
    {
     "name": "stdout",
     "output_type": "stream",
     "text": [
      "<class 'pandas.core.frame.DataFrame'>\n",
      "RangeIndex: 167880 entries, 0 to 167879\n",
      "Data columns (total 67 columns):\n",
      " #   Column                                      Non-Null Count   Dtype  \n",
      "---  ------                                      --------------   -----  \n",
      " 0   skip_2                                      167880 non-null  int64  \n",
      " 1   session_position                            167880 non-null  int64  \n",
      " 2   session_length                              167880 non-null  int64  \n",
      " 3   context_switch                              167880 non-null  int64  \n",
      " 4   no_pause_before_play                        167880 non-null  int64  \n",
      " 5   short_pause_before_play                     167880 non-null  int64  \n",
      " 6   long_pause_before_play                      167880 non-null  int64  \n",
      " 7   hist_user_behavior_n_seekfwd                167880 non-null  int64  \n",
      " 8   hist_user_behavior_n_seekback               167880 non-null  int64  \n",
      " 9   hist_user_behavior_is_shuffle               167880 non-null  int64  \n",
      " 10  hour_of_day                                 167880 non-null  int64  \n",
      " 11  premium                                     167880 non-null  int64  \n",
      " 12  duration                                    167880 non-null  float64\n",
      " 13  release_year                                167880 non-null  int64  \n",
      " 14  us_popularity_estimate                      167880 non-null  float64\n",
      " 15  acousticness                                167880 non-null  float64\n",
      " 16  beat_strength                               167880 non-null  float64\n",
      " 17  bounciness                                  167880 non-null  float64\n",
      " 18  danceability                                167880 non-null  float64\n",
      " 19  dyn_range_mean                              167880 non-null  float64\n",
      " 20  energy                                      167880 non-null  float64\n",
      " 21  flatness                                    167880 non-null  float64\n",
      " 22  instrumentalness                            167880 non-null  float64\n",
      " 23  key                                         167880 non-null  int64  \n",
      " 24  liveness                                    167880 non-null  float64\n",
      " 25  loudness                                    167880 non-null  float64\n",
      " 26  mechanism                                   167880 non-null  float64\n",
      " 27  organism                                    167880 non-null  float64\n",
      " 28  speechiness                                 167880 non-null  float64\n",
      " 29  tempo                                       167880 non-null  float64\n",
      " 30  time_signature                              167880 non-null  int64  \n",
      " 31  valence                                     167880 non-null  float64\n",
      " 32  acoustic_vector_0                           167880 non-null  float64\n",
      " 33  acoustic_vector_1                           167880 non-null  float64\n",
      " 34  acoustic_vector_2                           167880 non-null  float64\n",
      " 35  acoustic_vector_3                           167880 non-null  float64\n",
      " 36  acoustic_vector_4                           167880 non-null  float64\n",
      " 37  acoustic_vector_5                           167880 non-null  float64\n",
      " 38  acoustic_vector_6                           167880 non-null  float64\n",
      " 39  acoustic_vector_7                           167880 non-null  float64\n",
      " 40  track_age                                   167880 non-null  int64  \n",
      " 41  context_type_charts                         167880 non-null  uint8  \n",
      " 42  context_type_editorial_playlist             167880 non-null  uint8  \n",
      " 43  context_type_personalized_playlist          167880 non-null  uint8  \n",
      " 44  context_type_radio                          167880 non-null  uint8  \n",
      " 45  context_type_user_collection                167880 non-null  uint8  \n",
      " 46  hist_user_behavior_reason_start_backbtn     167880 non-null  uint8  \n",
      " 47  hist_user_behavior_reason_start_clickrow    167880 non-null  uint8  \n",
      " 48  hist_user_behavior_reason_start_endplay     167880 non-null  uint8  \n",
      " 49  hist_user_behavior_reason_start_fwdbtn      167880 non-null  uint8  \n",
      " 50  hist_user_behavior_reason_start_playbtn     167880 non-null  uint8  \n",
      " 51  hist_user_behavior_reason_start_remote      167880 non-null  uint8  \n",
      " 52  hist_user_behavior_reason_start_trackdone   167880 non-null  uint8  \n",
      " 53  hist_user_behavior_reason_start_trackerror  167880 non-null  uint8  \n",
      " 54  hist_user_behavior_reason_end_clickrow      167880 non-null  uint8  \n",
      " 55  hist_user_behavior_reason_end_endplay       167880 non-null  uint8  \n",
      " 56  hist_user_behavior_reason_end_fwdbtn        167880 non-null  uint8  \n",
      " 57  hist_user_behavior_reason_end_logout        167880 non-null  uint8  \n",
      " 58  hist_user_behavior_reason_end_remote        167880 non-null  uint8  \n",
      " 59  hist_user_behavior_reason_end_trackdone     167880 non-null  uint8  \n",
      " 60  weekday_Monday                              167880 non-null  uint8  \n",
      " 61  weekday_Saturday                            167880 non-null  uint8  \n",
      " 62  weekday_Sunday                              167880 non-null  uint8  \n",
      " 63  weekday_Thursday                            167880 non-null  uint8  \n",
      " 64  weekday_Tuesday                             167880 non-null  uint8  \n",
      " 65  weekday_Wednesday                           167880 non-null  uint8  \n",
      " 66  mode_minor                                  167880 non-null  uint8  \n",
      "dtypes: float64(25), int64(16), uint8(26)\n",
      "memory usage: 56.7 MB\n"
     ]
    }
   ],
   "source": [
    "columns = df.columns.tolist()\n",
    "columns = [columns[2]] + columns[0:2] + columns[3:]\n",
    "df = df[columns]\n",
    "df.info()"
   ]
  },
  {
   "cell_type": "code",
   "execution_count": 57,
   "id": "2e4be5d6",
   "metadata": {},
   "outputs": [
    {
     "name": "stdout",
     "output_type": "stream",
     "text": [
      "LogReg Test Score:  87.33%\n"
     ]
    }
   ],
   "source": [
    "scale = StandardScaler()\n",
    "\n",
    "X_train, X_test, y_train, y_test = train_test_split(df.iloc[:, 1:], df.iloc[:, 0], \n",
    "                                                    test_size = 0.25, random_state=42)\n",
    "\n",
    "X_train_transformed = scale.fit_transform(X_train)\n",
    "X_test_transformed = scale.transform(X_test)\n",
    "\n",
    "logreg = LogisticRegression(solver='liblinear')\n",
    "logreg.fit(X_train_transformed, y_train)\n",
    "print('LogReg Test Score: {:6.2f}%'.format(100*logreg.score(X_test_transformed, y_test)))"
   ]
  },
  {
   "cell_type": "code",
   "execution_count": 58,
   "id": "cf4704b8",
   "metadata": {},
   "outputs": [],
   "source": [
    "def make_confusion_matrix(model, threshold=0.5): # Default threshold value\n",
    "    y_predict = (model.predict_proba(X_test_transformed)[:, 1] >= threshold)\n",
    "    fraud_confusion = confusion_matrix(y_test, y_predict)\n",
    "    plt.figure(dpi=120)\n",
    "    sns.heatmap(fraud_confusion, cmap=plt.cm.Blues, annot=True, square=True, fmt='d',\n",
    "           xticklabels=['not skipped', 'skipped'],\n",
    "           yticklabels=['not skipped', 'skipped']);\n",
    "    plt.xlabel('Prediction')\n",
    "    plt.ylabel('Actual')"
   ]
  },
  {
   "cell_type": "code",
   "execution_count": 59,
   "id": "21ab40e2",
   "metadata": {},
   "outputs": [
    {
     "data": {
      "image/png": "[encoded data removed]",
      "text/plain": [
       "<Figure size 720x480 with 2 Axes>"
      ]
     },
     "metadata": {
      "needs_background": "light"
     },
     "output_type": "display_data"
    }
   ],
   "source": [
    "make_confusion_matrix(logreg)"
   ]
  },
  {
   "cell_type": "code",
   "execution_count": null,
   "id": "68bef16f",
   "metadata": {},
   "outputs": [],
   "source": []
  },
  {
   "cell_type": "code",
   "execution_count": 60,
   "id": "9570f70f",
   "metadata": {},
   "outputs": [
    {
     "data": {
      "application/vnd.jupyter.widget-view+json": {
       "model_id": "8c2c4e138f924f19b0914383764648b2",
       "version_major": 2,
       "version_minor": 0
      },
      "text/plain": [
       "interactive(children=(FloatSlider(value=0.5, description='threshold', max=1.0, step=0.05), Output()), _dom_cla…"
      ]
     },
     "metadata": {},
     "output_type": "display_data"
    }
   ],
   "source": [
    "# A widget to interactively change the result when we change the threshold value\n",
    "\n",
    "from ipywidgets import interactive, FloatSlider\n",
    "\n",
    "interactive(lambda threshold: make_confusion_matrix(logreg, threshold), threshold=(0.0,1.0,0.05))"
   ]
  },
  {
   "cell_type": "code",
   "execution_count": 77,
   "id": "98ea6335",
   "metadata": {},
   "outputs": [
    {
     "data": {
      "image/png": "[encoded data removed]",
      "text/plain": [
       "<Figure size 480x320 with 1 Axes>"
      ]
     },
     "metadata": {
      "needs_background": "light"
     },
     "output_type": "display_data"
    }
   ],
   "source": [
    "precision_curve, recall_curve, threshold_curve = precision_recall_curve(y_test, logreg.predict_proba(X_test_transformed)[:,1] )\n",
    "\n",
    "plt.figure(dpi=80)\n",
    "plt.plot(threshold_curve, precision_curve[1:], label='Precision')\n",
    "plt.plot(threshold_curve, recall_curve[1:], label='Recall')\n",
    "plt.legend()\n",
    "plt.xlabel('Threshold (Above this Probability, Label as Skipped)');\n",
    "plt.title('Precision and Recall Curves');"
   ]
  },
  {
   "cell_type": "code",
   "execution_count": 74,
   "id": "370b6128",
   "metadata": {},
   "outputs": [
    {
     "name": "stdout",
     "output_type": "stream",
     "text": [
      "Default Threshold: 0.5\n",
      "Precision:  0.843,   Recall:  0.927,   F1 Score:  0.883\n"
     ]
    }
   ],
   "source": [
    "y_predict = logreg.predict(X_test_transformed)\n",
    "print('Default Threshold: 0.5')\n",
    "print('Precision: {:6.3f},   Recall: {:6.3f},   F1 Score: {:6.3f}' .format(precision_score(y_test, y_predict), \n",
    "                                                     recall_score(y_test, y_predict),\n",
    "                                                    f1_score(y_test, y_predict)))"
   ]
  },
  {
   "cell_type": "code",
   "execution_count": 75,
   "id": "e09dea66",
   "metadata": {},
   "outputs": [
    {
     "name": "stdout",
     "output_type": "stream",
     "text": [
      "New Threshold: 0.4\n",
      "Precision:  0.815,   Recall:  0.971,   F1 Score:  0.886\n"
     ]
    }
   ],
   "source": [
    "# Classification based on threshold value of 0.4 to get the max F1 Score!\n",
    "new_threshold = 0.4\n",
    "y_predict_th = (logreg.predict_proba(X_test_transformed)[:,1] > new_threshold)\n",
    "print('New Threshold:', new_threshold)\n",
    "print('Precision: {:6.3f},   Recall: {:6.3f},   F1 Score: {:6.3f}'.format(precision_score(y_test, y_predict_th), \n",
    "                                                     recall_score(y_test, y_predict_th),\n",
    "                                                    f1_score(y_test, y_predict_th)))"
   ]
  },
  {
   "cell_type": "code",
   "execution_count": 71,
   "id": "2e08a42e",
   "metadata": {},
   "outputs": [
    {
     "name": "stdout",
     "output_type": "stream",
     "text": [
      "New Threshold: 0.6\n",
      "Precision:  0.871,   Recall:  0.879,   F1 Score:  0.875\n"
     ]
    }
   ],
   "source": [
    "# Classification by threshold value of 0.6, Recall value is so close to the Precision value.\n",
    "new_threshold = 0.6\n",
    "y_predict_th = (logreg.predict_proba(X_test_transformed)[:,1] > new_threshold)\n",
    "print('New Threshold:', new_threshold)\n",
    "print('Precision: {:6.3f},   Recall: {:6.3f},   F1 Score: {:6.3f}'.format(precision_score(y_test, y_predict_th), \n",
    "                                                     recall_score(y_test, y_predict_th),\n",
    "                                                    f1_score(y_test, y_predict_th)))"
   ]
  },
  {
   "cell_type": "code",
   "execution_count": 86,
   "id": "b4504646",
   "metadata": {},
   "outputs": [],
   "source": [
    "def new_make_confusion_matrix(model, threshold=0.4):\n",
    "    y_predict = (model.predict_proba(X_test_transformed)[:, 1] >= threshold)\n",
    "    fraud_confusion = confusion_matrix(y_test, y_predict)\n",
    "    plt.figure(dpi=120)\n",
    "    sns.heatmap(fraud_confusion, cmap=plt.cm.Blues, annot=True, square=True, fmt='d',\n",
    "           xticklabels=['not skipped', 'skipped'],\n",
    "           yticklabels=['not skipped', 'skipped']);\n",
    "    plt.xlabel('Prediction')\n",
    "    plt.ylabel('Actual')"
   ]
  },
  {
   "cell_type": "code",
   "execution_count": 87,
   "id": "deebdb36",
   "metadata": {},
   "outputs": [
    {
     "data": {
      "image/png": "[encoded data removed]",
      "text/plain": [
       "<Figure size 720x480 with 2 Axes>"
      ]
     },
     "metadata": {
      "needs_background": "light"
     },
     "output_type": "display_data"
    }
   ],
   "source": [
    "new_make_confusion_matrix(logreg)"
   ]
  },
  {
   "cell_type": "code",
   "execution_count": 97,
   "id": "b4bf932b",
   "metadata": {},
   "outputs": [
    {
     "name": "stdout",
     "output_type": "stream",
     "text": [
      "AUC Score= 0.943\n"
     ]
    },
    {
     "data": {
      "image/png": "[encoded data removed]",
      "text/plain": [
       "<Figure size 432x288 with 1 Axes>"
      ]
     },
     "metadata": {
      "needs_background": "light"
     },
     "output_type": "display_data"
    }
   ],
   "source": [
    "fpr, tpr, thresholds = roc_curve(y_test, logreg.predict_proba(X_test_transformed)[:,1])\n",
    "\n",
    "plt.plot(fpr, tpr, lw=2)\n",
    "plt.plot([0,1],[0,1],c='violet',ls='--')\n",
    "plt.xlim([-0.05,1.05])\n",
    "plt.ylim([-0.05,1.05])\n",
    "\n",
    "plt.xlabel('False Positive Rate(FPR)')\n",
    "plt.ylabel('True Positive Rate(TPR)')\n",
    "plt.title('ROC Curve for Skipping the Song');\n",
    "print(\"AUC Score=\", round(roc_auc_score(y_test, logreg.predict_proba(X_test_transformed)[:,1]),3))"
   ]
  },
  {
   "cell_type": "code",
   "execution_count": 96,
   "id": "7f661d64",
   "metadata": {},
   "outputs": [
    {
     "name": "stdout",
     "output_type": "stream",
     "text": [
      "Log-Loss: 0.281\n"
     ]
    }
   ],
   "source": [
    "print(\"Log-Loss: {:2.3f}\".format(log_loss(y_test, logreg.predict_proba(X_test_transformed))))"
   ]
  },
  {
   "cell_type": "code",
   "execution_count": null,
   "id": "21a26855",
   "metadata": {},
   "outputs": [],
   "source": []
  }
 ],
 "metadata": {
  "kernelspec": {
   "display_name": "Python 3 (ipykernel)",
   "language": "python",
   "name": "python3"
  },
  "language_info": {
   "codemirror_mode": {
    "name": "ipython",
    "version": 3
   },
   "file_extension": ".py",
   "mimetype": "text/x-python",
   "name": "python",
   "nbconvert_exporter": "python",
   "pygments_lexer": "ipython3",
   "version": "3.9.12"
  }
 },
 "nbformat": 4,
 "nbformat_minor": 5
}
