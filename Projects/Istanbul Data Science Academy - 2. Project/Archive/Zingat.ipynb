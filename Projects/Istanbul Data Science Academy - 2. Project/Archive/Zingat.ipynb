{
 "cells": [
  {
   "cell_type": "code",
   "execution_count": 4,
   "id": "1176b39b",
   "metadata": {},
   "outputs": [],
   "source": [
    "from bs4 import BeautifulSoup\n",
    "import requests\n",
    "import time, os"
   ]
  },
  {
   "cell_type": "code",
   "execution_count": 5,
   "id": "efd6fb90",
   "metadata": {},
   "outputs": [],
   "source": [
    "from selenium import webdriver\n",
    "from selenium.webdriver.common.keys import Keys\n",
    "\n",
    "chromedriver = \"/Users/hasanenesguray/Desktop/chromedriver\" # path to the chromedriver executable\n"
   ]
  },
  {
   "cell_type": "code",
   "execution_count": 115,
   "id": "1cf6f6ee",
   "metadata": {},
   "outputs": [
    {
     "name": "stderr",
     "output_type": "stream",
     "text": [
      "/var/folders/_k/_rt6thqx6mj63rxtq_q_l7j00000gn/T/ipykernel_22803/2807150777.py:1: DeprecationWarning: executable_path has been deprecated, please pass in a Service object\n",
      "  driver = webdriver.Chrome(chromedriver)\n"
     ]
    }
   ],
   "source": [
    "driver = webdriver.Chrome(chromedriver)\n",
    "\n",
    "driver.get('https://www.zingat.com/kadikoy-caferaga-satilik')\n",
    "time.sleep(10)  #pause to be sure page has loaded"
   ]
  },
  {
   "cell_type": "code",
   "execution_count": 67,
   "id": "33bb2333",
   "metadata": {},
   "outputs": [],
   "source": [
    "house_links = list()\n",
    "unscraped_pages = list()"
   ]
  },
  {
   "cell_type": "code",
   "execution_count": 117,
   "id": "b754d972",
   "metadata": {},
   "outputs": [
    {
     "data": {
      "text/plain": [
       "1008"
      ]
     },
     "execution_count": 117,
     "metadata": {},
     "output_type": "execute_result"
    }
   ],
   "source": [
    "48*21"
   ]
  },
  {
   "cell_type": "code",
   "execution_count": 66,
   "id": "b1a057ad",
   "metadata": {},
   "outputs": [
    {
     "data": {
      "text/plain": [
       "4"
      ]
     },
     "execution_count": 66,
     "metadata": {},
     "output_type": "execute_result"
    }
   ],
   "source": []
  },
  {
   "cell_type": "code",
   "execution_count": 118,
   "id": "378bd11a",
   "metadata": {},
   "outputs": [
    {
     "ename": "ValueError",
     "evalue": "invalid literal for int() with base 10: ''",
     "output_type": "error",
     "traceback": [
      "\u001b[0;31m---------------------------------------------------------------------------\u001b[0m",
      "\u001b[0;31mValueError\u001b[0m                                Traceback (most recent call last)",
      "Input \u001b[0;32mIn [118]\u001b[0m, in \u001b[0;36m<cell line: 2>\u001b[0;34m()\u001b[0m\n\u001b[1;32m     22\u001b[0m     \u001b[38;5;28;01mif\u001b[39;00m j\u001b[38;5;241m.\u001b[39misdigit():\n\u001b[1;32m     23\u001b[0m         house_number \u001b[38;5;241m+\u001b[39m\u001b[38;5;241m=\u001b[39m \u001b[38;5;28mstr\u001b[39m(j)\n\u001b[0;32m---> 24\u001b[0m house_number \u001b[38;5;241m=\u001b[39m \u001b[38;5;28;43mint\u001b[39;49m\u001b[43m(\u001b[49m\u001b[43mhouse_number\u001b[49m\u001b[43m)\u001b[49m\n\u001b[1;32m     26\u001b[0m \u001b[38;5;66;03m#Find the total page number\u001b[39;00m\n\u001b[1;32m     27\u001b[0m page_number \u001b[38;5;241m=\u001b[39m \u001b[38;5;28mint\u001b[39m()\n",
      "\u001b[0;31mValueError\u001b[0m: invalid literal for int() with base 10: ''"
     ]
    }
   ],
   "source": [
    "\n",
    "town_links = ['https://www.zingat.com/kadikoy-caferaga-satilik?locationId[]=550&locationId[]=558&locationId[]=555&locationId[]=544&locationId[]=556&locationId[]=554&locationId[]=551&locationId[]=553&locationId[]=559&locationId[]=552&locationId[]=549&locationId[]=550&locationId[]=550']\n",
    "for i in town_links:\n",
    "    driver.get(i)\n",
    "    time.sleep(10)#pause to be sure page has loaded\n",
    "    \n",
    "    try:\n",
    "        close_add = driver.find_element(\"xpath\",\"//span[@class='tingle-modal__closeLabel']\")\n",
    "        close_add.click()\n",
    "        time.sleep(5)\n",
    "    except:\n",
    "        pass\n",
    "    \n",
    "    #Find the total number of the houses in Kadıköy\n",
    "    number = str()\n",
    "    house_number = str()\n",
    "    soup = BeautifulSoup(driver.page_source)\n",
    "    for house in soup.find_all(\"div\",{\"class\":\"page-title\"}):\n",
    "        number = house.span.text\n",
    "\n",
    "    num = [int(x) for x in house_number.split() if x.isdigit()] \n",
    "    for j in number:\n",
    "        if j.isdigit():\n",
    "            house_number += str(j)\n",
    "    house_number = int(house_number)\n",
    "    \n",
    "    #Find the total page number\n",
    "    page_number = int()\n",
    "    if house_number%21 == 0:\n",
    "        page_number = house_number//21\n",
    "    else:\n",
    "        page_number = house_number//21+1\n",
    "       \n",
    "    for k in range(1,page_number+1):\n",
    "        try:\n",
    "            next_page = driver.find_element(\"xpath\",f\"//a[@data-page='{str(k)}']\")\n",
    "            next_page.click()\n",
    "        except:\n",
    "            pass\n",
    "        try:\n",
    "            time.sleep(10)\n",
    "            driver.execute_script(\n",
    "            \"window.scrollTo(0,document.documentElement.scrollHeight/6);\")\n",
    "            time.sleep(2)\n",
    "            driver.execute_script(\n",
    "            \"window.scrollTo(document.documentElement.scrollHeight/6,document.documentElement.scrollHeight*2/6);\")\n",
    "            time.sleep(2)\n",
    "            driver.execute_script(\n",
    "            \"window.scrollTo(document.documentElement.scrollHeight*2/6,document.documentElement.scrollHeight*3/6);\")\n",
    "            time.sleep(2)\n",
    "            driver.execute_script(\n",
    "            \"window.scrollTo(document.documentElement.scrollHeight*3/6,document.documentElement.scrollHeight*4/6);\")\n",
    "            time.sleep(2)\n",
    "            soup = BeautifulSoup(driver.page_source)\n",
    "            for link in soup.find_all('a', class_='zl-card-inner'):\n",
    "                    house_links.append(link['href'])\n",
    "            time.sleep(2)\n",
    "        except:\n",
    "            page = i+'?page='+str(k)\n",
    "            unscraped_pages.append(page)\n",
    "            driver.get(i+'?page='+str(k))\n",
    "            \n",
    "house_links"
   ]
  },
  {
   "cell_type": "code",
   "execution_count": 109,
   "id": "333cddf4",
   "metadata": {},
   "outputs": [
    {
     "data": {
      "text/plain": [
       "191"
      ]
     },
     "execution_count": 109,
     "metadata": {},
     "output_type": "execute_result"
    }
   ],
   "source": [
    "len(house_links)"
   ]
  },
  {
   "cell_type": "code",
   "execution_count": 58,
   "id": "5c58093f",
   "metadata": {},
   "outputs": [],
   "source": [
    "#Navigate to the listing\n",
    "driver.get('https://www.zingat.com/'+house_links[0])"
   ]
  },
  {
   "cell_type": "code",
   "execution_count": null,
   "id": "1779cb52",
   "metadata": {},
   "outputs": [],
   "source": [
    "soup = BeautifulSoup(driver.page_source)\n",
    "house_number = [int(i) for i in soup.find('div',class_='page-title').text.split() if i.isdigit()][0]"
   ]
  },
  {
   "cell_type": "code",
   "execution_count": 82,
   "id": "9588bb70",
   "metadata": {},
   "outputs": [
    {
     "data": {
      "text/plain": [
       "'https://www.zingat.com/kadikoy-caferaga-satilikhttps://www.zingat.com/kadikoy-caferaga-satilik'"
      ]
     },
     "execution_count": 82,
     "metadata": {},
     "output_type": "execute_result"
    }
   ],
   "source": [
    "house_number"
   ]
  },
  {
   "cell_type": "code",
   "execution_count": 110,
   "id": "998eda02",
   "metadata": {},
   "outputs": [
    {
     "data": {
      "text/plain": [
       "['https://www.zingat.com/kadikoy-rasimpasa-satilik?page=2']"
      ]
     },
     "execution_count": 110,
     "metadata": {},
     "output_type": "execute_result"
    }
   ],
   "source": [
    "unscraped_pages"
   ]
  },
  {
   "cell_type": "code",
   "execution_count": null,
   "id": "5c029f14",
   "metadata": {},
   "outputs": [],
   "source": []
  },
  {
   "cell_type": "code",
   "execution_count": 114,
   "id": "bf3d054a",
   "metadata": {},
   "outputs": [
    {
     "data": {
      "text/plain": [
       "191"
      ]
     },
     "execution_count": 114,
     "metadata": {},
     "output_type": "execute_result"
    }
   ],
   "source": [
    "len(total_house_links)"
   ]
  },
  {
   "cell_type": "code",
   "execution_count": null,
   "id": "bbfd041e",
   "metadata": {},
   "outputs": [],
   "source": []
  }
 ],
 "metadata": {
  "kernelspec": {
   "display_name": "Python 3 (ipykernel)",
   "language": "python",
   "name": "python3"
  },
  "language_info": {
   "codemirror_mode": {
    "name": "ipython",
    "version": 3
   },
   "file_extension": ".py",
   "mimetype": "text/x-python",
   "name": "python",
   "nbconvert_exporter": "python",
   "pygments_lexer": "ipython3",
   "version": "3.9.12"
  }
 },
 "nbformat": 4,
 "nbformat_minor": 5
}
