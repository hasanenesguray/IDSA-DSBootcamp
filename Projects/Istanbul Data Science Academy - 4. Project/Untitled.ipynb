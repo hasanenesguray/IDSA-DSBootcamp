{
 "cells": [
  {
   "cell_type": "code",
   "execution_count": 7,
   "id": "19ff3552",
   "metadata": {},
   "outputs": [
    {
     "name": "stdout",
     "output_type": "stream",
     "text": [
      "   battery  battery long  good  life  life phone  like  like battery  long  \\\n",
      "0        1             1     1     1           1     1             1     1   \n",
      "\n",
      "   long life  phone  phone good  \n",
      "0          1      1           1  \n"
     ]
    }
   ],
   "source": [
    "import pandas as pd\n",
    "\n",
    "review_input = 'I like it, battery long life, the phone so good.'\n",
    "\n",
    "input_df = pd.DataFrame({\n",
    "     'review': [review_input]\n",
    "})\n",
    "\n",
    "\n",
    "import re\n",
    "import string\n",
    "\n",
    "# Removing the \\n expressions from the reviews\n",
    "input_df['review'] = input_df['review'].str.replace(\"\\n\",\"\")\n",
    "# Removing the numbers from the reviews\n",
    "alphanumeric = lambda x: re.sub('\\w*\\d\\w*', ' ', x)\n",
    "# Removing the punctations from the reviews ve converting all letters to lowercase\n",
    "punc_lower = lambda x: re.sub('[%s]' % re.escape(string.punctuation), ' ', x.lower()) \n",
    "\n",
    "input_df['review'] = input_df.review.map(alphanumeric).map(punc_lower)\n",
    "from nltk.stem import SnowballStemmer\n",
    "sbs = SnowballStemmer(language='english')\n",
    "def stemmer(text):\n",
    "    text = [sbs.stem(word) for word in text.split(' ')]\n",
    "    text = \" \".join(text)\n",
    "    return text\n",
    "\n",
    "input_df.review = input_df.review.apply(stemmer)\n",
    "\n",
    "from textblob import TextBlob\n",
    "\n",
    "def correct(text):\n",
    "    text = [str(TextBlob(word).correct()) for word in text.split(' ')]\n",
    "    text = \" \".join(text)\n",
    "    return text\n",
    "\n",
    "input_df.review = input_df.review.apply(correct)\n",
    "\n",
    "X = input_df.review\n",
    "\n",
    "from sklearn.feature_extraction.text import CountVectorizer\n",
    "# Tokenizing using the 2-Way N-Gram method\n",
    "cv2 = CountVectorizer(ngram_range=(1,2), binary=True, stop_words='english')\n",
    "\n",
    "vectorized_input = cv2.fit_transform(X)\n",
    "vectorized_input_df = pd.DataFrame(vectorized_input.toarray(), columns=cv2.get_feature_names_out()).head()\n",
    "\n",
    "as_is_df = pd.read_csv('result_table.csv')\n",
    "\n",
    "column_headers = list(as_is_df.columns.values)"
   ]
  },
  {
   "cell_type": "code",
   "execution_count": 11,
   "id": "36097cf6",
   "metadata": {},
   "outputs": [
    {
     "data": {
      "text/plain": [
       "1"
      ]
     },
     "execution_count": 11,
     "metadata": {},
     "output_type": "execute_result"
    }
   ],
   "source": [
    "vectorized_input_df.iloc[0].battery"
   ]
  },
  {
   "cell_type": "code",
   "execution_count": null,
   "id": "54e1e212",
   "metadata": {},
   "outputs": [],
   "source": []
  }
 ],
 "metadata": {
  "kernelspec": {
   "display_name": "Python 3 (ipykernel)",
   "language": "python",
   "name": "python3"
  },
  "language_info": {
   "codemirror_mode": {
    "name": "ipython",
    "version": 3
   },
   "file_extension": ".py",
   "mimetype": "text/x-python",
   "name": "python",
   "nbconvert_exporter": "python",
   "pygments_lexer": "ipython3",
   "version": "3.9.12"
  }
 },
 "nbformat": 4,
 "nbformat_minor": 5
}
