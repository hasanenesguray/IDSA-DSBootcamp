{
 "cells": [
  {
   "cell_type": "code",
   "execution_count": 1,
   "id": "f5515961",
   "metadata": {},
   "outputs": [
    {
     "name": "stderr",
     "output_type": "stream",
     "text": [
      "/Users/hasanenesguray/opt/anaconda3/lib/python3.9/site-packages/scipy/__init__.py:146: UserWarning: A NumPy version >=1.16.5 and <1.23.0 is required for this version of SciPy (detected version 1.23.5\n",
      "  warnings.warn(f\"A NumPy version >={np_minversion} and <{np_maxversion}\"\n"
     ]
    }
   ],
   "source": [
    "import nltk\n",
    "import numpy as np\n",
    "import pandas as pd\n",
    "from textblob import TextBlob"
   ]
  },
  {
   "cell_type": "code",
   "execution_count": 2,
   "id": "db083d8c",
   "metadata": {},
   "outputs": [
    {
     "data": {
      "text/html": [
       "<div>\n",
       "<style scoped>\n",
       "    .dataframe tbody tr th:only-of-type {\n",
       "        vertical-align: middle;\n",
       "    }\n",
       "\n",
       "    .dataframe tbody tr th {\n",
       "        vertical-align: top;\n",
       "    }\n",
       "\n",
       "    .dataframe thead th {\n",
       "        text-align: right;\n",
       "    }\n",
       "</style>\n",
       "<table border=\"1\" class=\"dataframe\">\n",
       "  <thead>\n",
       "    <tr style=\"text-align: right;\">\n",
       "      <th></th>\n",
       "      <th>Unnamed: 0</th>\n",
       "      <th>productCode</th>\n",
       "      <th>star</th>\n",
       "      <th>review</th>\n",
       "    </tr>\n",
       "  </thead>\n",
       "  <tbody>\n",
       "    <tr>\n",
       "      <th>0</th>\n",
       "      <td>0</td>\n",
       "      <td>B09G95MCDT</td>\n",
       "      <td>4</td>\n",
       "      <td>\\nGood to have monthly payments but so quickly...</td>\n",
       "    </tr>\n",
       "    <tr>\n",
       "      <th>1</th>\n",
       "      <td>1</td>\n",
       "      <td>B09G95MCDT</td>\n",
       "      <td>5</td>\n",
       "      <td>\\nBefore we start, apologies for the long revi...</td>\n",
       "    </tr>\n",
       "    <tr>\n",
       "      <th>2</th>\n",
       "      <td>2</td>\n",
       "      <td>B09G95MCDT</td>\n",
       "      <td>5</td>\n",
       "      <td>\\nNice looking phone there seems to be a lot o...</td>\n",
       "    </tr>\n",
       "    <tr>\n",
       "      <th>3</th>\n",
       "      <td>3</td>\n",
       "      <td>B09G95MCDT</td>\n",
       "      <td>5</td>\n",
       "      <td>\\nNew product and prompt delivery!\\n</td>\n",
       "    </tr>\n",
       "    <tr>\n",
       "      <th>4</th>\n",
       "      <td>4</td>\n",
       "      <td>B09G95MCDT</td>\n",
       "      <td>4</td>\n",
       "      <td>\\nPhone is as expected from an iPhone 13. Not ...</td>\n",
       "    </tr>\n",
       "    <tr>\n",
       "      <th>...</th>\n",
       "      <td>...</td>\n",
       "      <td>...</td>\n",
       "      <td>...</td>\n",
       "      <td>...</td>\n",
       "    </tr>\n",
       "    <tr>\n",
       "      <th>13222</th>\n",
       "      <td>13222</td>\n",
       "      <td>B08L5PVZ9Y</td>\n",
       "      <td>5</td>\n",
       "      <td>\\nSo happy with this product and delivery was ...</td>\n",
       "    </tr>\n",
       "    <tr>\n",
       "      <th>13223</th>\n",
       "      <td>13223</td>\n",
       "      <td>B08L5PVZ9Y</td>\n",
       "      <td>5</td>\n",
       "      <td>\\nGood item\\n</td>\n",
       "    </tr>\n",
       "    <tr>\n",
       "      <th>13224</th>\n",
       "      <td>13224</td>\n",
       "      <td>B08L5PVZ9Y</td>\n",
       "      <td>5</td>\n",
       "      <td>\\nI bought this phone for my other half after ...</td>\n",
       "    </tr>\n",
       "    <tr>\n",
       "      <th>13225</th>\n",
       "      <td>13225</td>\n",
       "      <td>B08L5PVZ9Y</td>\n",
       "      <td>5</td>\n",
       "      <td>\\nLovely phone dose what I need it to do\\n</td>\n",
       "    </tr>\n",
       "    <tr>\n",
       "      <th>13226</th>\n",
       "      <td>13226</td>\n",
       "      <td>B08L5PVZ9Y</td>\n",
       "      <td>5</td>\n",
       "      <td>\\nPerfect phone\\n</td>\n",
       "    </tr>\n",
       "  </tbody>\n",
       "</table>\n",
       "<p>13227 rows × 4 columns</p>\n",
       "</div>"
      ],
      "text/plain": [
       "       Unnamed: 0 productCode  star  \\\n",
       "0               0  B09G95MCDT     4   \n",
       "1               1  B09G95MCDT     5   \n",
       "2               2  B09G95MCDT     5   \n",
       "3               3  B09G95MCDT     5   \n",
       "4               4  B09G95MCDT     4   \n",
       "...           ...         ...   ...   \n",
       "13222       13222  B08L5PVZ9Y     5   \n",
       "13223       13223  B08L5PVZ9Y     5   \n",
       "13224       13224  B08L5PVZ9Y     5   \n",
       "13225       13225  B08L5PVZ9Y     5   \n",
       "13226       13226  B08L5PVZ9Y     5   \n",
       "\n",
       "                                                  review  \n",
       "0      \\nGood to have monthly payments but so quickly...  \n",
       "1      \\nBefore we start, apologies for the long revi...  \n",
       "2      \\nNice looking phone there seems to be a lot o...  \n",
       "3                   \\nNew product and prompt delivery!\\n  \n",
       "4      \\nPhone is as expected from an iPhone 13. Not ...  \n",
       "...                                                  ...  \n",
       "13222  \\nSo happy with this product and delivery was ...  \n",
       "13223                                      \\nGood item\\n  \n",
       "13224  \\nI bought this phone for my other half after ...  \n",
       "13225         \\nLovely phone dose what I need it to do\\n  \n",
       "13226                                  \\nPerfect phone\\n  \n",
       "\n",
       "[13227 rows x 4 columns]"
      ]
     },
     "execution_count": 2,
     "metadata": {},
     "output_type": "execute_result"
    }
   ],
   "source": [
    "import pandas as pd\n",
    "data = pd.read_csv('amazon_final.csv')\n",
    "data"
   ]
  },
  {
   "cell_type": "code",
   "execution_count": 3,
   "id": "d5f62a8f",
   "metadata": {},
   "outputs": [
    {
     "name": "stdout",
     "output_type": "stream",
     "text": [
      "<class 'pandas.core.frame.DataFrame'>\n",
      "Int64Index: 13120 entries, 0 to 13226\n",
      "Data columns (total 4 columns):\n",
      " #   Column       Non-Null Count  Dtype \n",
      "---  ------       --------------  ----- \n",
      " 0   Unnamed: 0   13120 non-null  int64 \n",
      " 1   productCode  13120 non-null  object\n",
      " 2   star         13120 non-null  int64 \n",
      " 3   review       13120 non-null  object\n",
      "dtypes: int64(2), object(2)\n",
      "memory usage: 512.5+ KB\n"
     ]
    }
   ],
   "source": [
    "data.dropna(axis=0,inplace=True)\n",
    "data.info()"
   ]
  },
  {
   "cell_type": "code",
   "execution_count": 4,
   "id": "dcad2921",
   "metadata": {},
   "outputs": [
    {
     "data": {
      "text/plain": [
       "0        \\nGood to have monthly payments but so quickly...\n",
       "1        \\nBefore we start, apologies for the long revi...\n",
       "2        \\nNice looking phone there seems to be a lot o...\n",
       "3                     \\nNew product and prompt delivery!\\n\n",
       "4        \\nPhone is as expected from an iPhone 13. Not ...\n",
       "                               ...                        \n",
       "13222    \\nSo happy with this product and delivery was ...\n",
       "13223                                        \\nGood item\\n\n",
       "13224    \\nI bought this phone for my other half after ...\n",
       "13225           \\nLovely phone dose what I need it to do\\n\n",
       "13226                                    \\nPerfect phone\\n\n",
       "Name: review, Length: 13120, dtype: object"
      ]
     },
     "execution_count": 4,
     "metadata": {},
     "output_type": "execute_result"
    }
   ],
   "source": [
    "data.review"
   ]
  },
  {
   "cell_type": "code",
   "execution_count": 5,
   "id": "0f4b4e0c",
   "metadata": {},
   "outputs": [
    {
     "data": {
      "text/plain": [
       "5    0.661128\n",
       "1    0.131860\n",
       "4    0.105335\n",
       "3    0.058155\n",
       "2    0.043521\n",
       "Name: star, dtype: float64"
      ]
     },
     "execution_count": 5,
     "metadata": {},
     "output_type": "execute_result"
    }
   ],
   "source": [
    "data.star.value_counts(normalize=True)"
   ]
  },
  {
   "cell_type": "code",
   "execution_count": 6,
   "id": "848b393b",
   "metadata": {},
   "outputs": [
    {
     "name": "stderr",
     "output_type": "stream",
     "text": [
      "/var/folders/_k/_rt6thqx6mj63rxtq_q_l7j00000gn/T/ipykernel_20956/745778418.py:5: SettingWithCopyWarning: \n",
      "A value is trying to be set on a copy of a slice from a DataFrame.\n",
      "Try using .loc[row_indexer,col_indexer] = value instead\n",
      "\n",
      "See the caveats in the documentation: https://pandas.pydata.org/pandas-docs/stable/user_guide/indexing.html#returning-a-view-versus-a-copy\n",
      "  data['sentiment'] = data['star'].apply(lambda x: (x>=4 and 'Positive') or 'Negative')\n"
     ]
    },
    {
     "data": {
      "text/html": [
       "<div>\n",
       "<style scoped>\n",
       "    .dataframe tbody tr th:only-of-type {\n",
       "        vertical-align: middle;\n",
       "    }\n",
       "\n",
       "    .dataframe tbody tr th {\n",
       "        vertical-align: top;\n",
       "    }\n",
       "\n",
       "    .dataframe thead th {\n",
       "        text-align: right;\n",
       "    }\n",
       "</style>\n",
       "<table border=\"1\" class=\"dataframe\">\n",
       "  <thead>\n",
       "    <tr style=\"text-align: right;\">\n",
       "      <th></th>\n",
       "      <th>sentiment</th>\n",
       "      <th>star</th>\n",
       "      <th>review</th>\n",
       "    </tr>\n",
       "  </thead>\n",
       "  <tbody>\n",
       "    <tr>\n",
       "      <th>0</th>\n",
       "      <td>Positive</td>\n",
       "      <td>4</td>\n",
       "      <td>\\nGood to have monthly payments but so quickly...</td>\n",
       "    </tr>\n",
       "    <tr>\n",
       "      <th>1</th>\n",
       "      <td>Positive</td>\n",
       "      <td>5</td>\n",
       "      <td>\\nBefore we start, apologies for the long revi...</td>\n",
       "    </tr>\n",
       "    <tr>\n",
       "      <th>2</th>\n",
       "      <td>Positive</td>\n",
       "      <td>5</td>\n",
       "      <td>\\nNice looking phone there seems to be a lot o...</td>\n",
       "    </tr>\n",
       "    <tr>\n",
       "      <th>3</th>\n",
       "      <td>Positive</td>\n",
       "      <td>5</td>\n",
       "      <td>\\nNew product and prompt delivery!\\n</td>\n",
       "    </tr>\n",
       "    <tr>\n",
       "      <th>4</th>\n",
       "      <td>Positive</td>\n",
       "      <td>4</td>\n",
       "      <td>\\nPhone is as expected from an iPhone 13. Not ...</td>\n",
       "    </tr>\n",
       "    <tr>\n",
       "      <th>5</th>\n",
       "      <td>Positive</td>\n",
       "      <td>5</td>\n",
       "      <td>\\nSon's present from Santa\\n</td>\n",
       "    </tr>\n",
       "    <tr>\n",
       "      <th>6</th>\n",
       "      <td>Positive</td>\n",
       "      <td>4</td>\n",
       "      <td>\\niPhones have a quality feel to them. This on...</td>\n",
       "    </tr>\n",
       "    <tr>\n",
       "      <th>7</th>\n",
       "      <td>Positive</td>\n",
       "      <td>5</td>\n",
       "      <td>\\nMy previous phone was an iPhone X and when i...</td>\n",
       "    </tr>\n",
       "    <tr>\n",
       "      <th>8</th>\n",
       "      <td>Positive</td>\n",
       "      <td>5</td>\n",
       "      <td>\\niPhone, bought as present so can’t really wr...</td>\n",
       "    </tr>\n",
       "    <tr>\n",
       "      <th>9</th>\n",
       "      <td>Positive</td>\n",
       "      <td>5</td>\n",
       "      <td>\\nSecond one l have bought for my wife good pr...</td>\n",
       "    </tr>\n",
       "  </tbody>\n",
       "</table>\n",
       "</div>"
      ],
      "text/plain": [
       "  sentiment  star                                             review\n",
       "0  Positive     4  \\nGood to have monthly payments but so quickly...\n",
       "1  Positive     5  \\nBefore we start, apologies for the long revi...\n",
       "2  Positive     5  \\nNice looking phone there seems to be a lot o...\n",
       "3  Positive     5               \\nNew product and prompt delivery!\\n\n",
       "4  Positive     4  \\nPhone is as expected from an iPhone 13. Not ...\n",
       "5  Positive     5                       \\nSon's present from Santa\\n\n",
       "6  Positive     4  \\niPhones have a quality feel to them. This on...\n",
       "7  Positive     5  \\nMy previous phone was an iPhone X and when i...\n",
       "8  Positive     5  \\niPhone, bought as present so can’t really wr...\n",
       "9  Positive     5  \\nSecond one l have bought for my wife good pr..."
      ]
     },
     "execution_count": 6,
     "metadata": {},
     "output_type": "execute_result"
    }
   ],
   "source": [
    "# Removing the reviews given 3 stars because they indicate neither positive nor negative mood.\n",
    "data = data[data.star!=3]\n",
    "\n",
    "# 4/5 Star --> Positive, 1/2 Star --> Negative\n",
    "data['sentiment'] = data['star'].apply(lambda x: (x>=4 and 'Positive') or 'Negative')\n",
    "data = data[['sentiment','star','review']]\n",
    "data.head(10)"
   ]
  },
  {
   "cell_type": "code",
   "execution_count": 7,
   "id": "b651c4b1",
   "metadata": {},
   "outputs": [
    {
     "data": {
      "text/plain": [
       "12357"
      ]
     },
     "execution_count": 7,
     "metadata": {},
     "output_type": "execute_result"
    }
   ],
   "source": [
    "# Checking the row number after deducting the reviews with 3 stars\n",
    "len(data)"
   ]
  },
  {
   "cell_type": "code",
   "execution_count": 8,
   "id": "161787c1",
   "metadata": {},
   "outputs": [
    {
     "data": {
      "text/plain": [
       "Positive    0.81379\n",
       "Negative    0.18621\n",
       "Name: sentiment, dtype: float64"
      ]
     },
     "execution_count": 8,
     "metadata": {},
     "output_type": "execute_result"
    }
   ],
   "source": [
    "# A large part of our dataset consists of comments showing positive mood\n",
    "data.sentiment.value_counts(normalize=True)"
   ]
  },
  {
   "cell_type": "code",
   "execution_count": 9,
   "id": "ac3d58fc",
   "metadata": {},
   "outputs": [
    {
     "data": {
      "text/html": [
       "<div>\n",
       "<style scoped>\n",
       "    .dataframe tbody tr th:only-of-type {\n",
       "        vertical-align: middle;\n",
       "    }\n",
       "\n",
       "    .dataframe tbody tr th {\n",
       "        vertical-align: top;\n",
       "    }\n",
       "\n",
       "    .dataframe thead th {\n",
       "        text-align: right;\n",
       "    }\n",
       "</style>\n",
       "<table border=\"1\" class=\"dataframe\">\n",
       "  <thead>\n",
       "    <tr style=\"text-align: right;\">\n",
       "      <th></th>\n",
       "      <th>sentiment</th>\n",
       "      <th>star</th>\n",
       "      <th>review</th>\n",
       "    </tr>\n",
       "  </thead>\n",
       "  <tbody>\n",
       "    <tr>\n",
       "      <th>0</th>\n",
       "      <td>Positive</td>\n",
       "      <td>4</td>\n",
       "      <td>good to have monthly payments but so quickly o...</td>\n",
       "    </tr>\n",
       "    <tr>\n",
       "      <th>1</th>\n",
       "      <td>Positive</td>\n",
       "      <td>5</td>\n",
       "      <td>before we start  apologies for the long review...</td>\n",
       "    </tr>\n",
       "    <tr>\n",
       "      <th>2</th>\n",
       "      <td>Positive</td>\n",
       "      <td>5</td>\n",
       "      <td>nice looking phone there seems to be a lot of ...</td>\n",
       "    </tr>\n",
       "    <tr>\n",
       "      <th>3</th>\n",
       "      <td>Positive</td>\n",
       "      <td>5</td>\n",
       "      <td>new product and prompt delivery</td>\n",
       "    </tr>\n",
       "    <tr>\n",
       "      <th>4</th>\n",
       "      <td>Positive</td>\n",
       "      <td>4</td>\n",
       "      <td>phone is as expected from an iphone    not muc...</td>\n",
       "    </tr>\n",
       "    <tr>\n",
       "      <th>...</th>\n",
       "      <td>...</td>\n",
       "      <td>...</td>\n",
       "      <td>...</td>\n",
       "    </tr>\n",
       "    <tr>\n",
       "      <th>13222</th>\n",
       "      <td>Positive</td>\n",
       "      <td>5</td>\n",
       "      <td>so happy with this product and delivery was sp...</td>\n",
       "    </tr>\n",
       "    <tr>\n",
       "      <th>13223</th>\n",
       "      <td>Positive</td>\n",
       "      <td>5</td>\n",
       "      <td>good item</td>\n",
       "    </tr>\n",
       "    <tr>\n",
       "      <th>13224</th>\n",
       "      <td>Positive</td>\n",
       "      <td>5</td>\n",
       "      <td>i bought this phone for my other half after th...</td>\n",
       "    </tr>\n",
       "    <tr>\n",
       "      <th>13225</th>\n",
       "      <td>Positive</td>\n",
       "      <td>5</td>\n",
       "      <td>lovely phone dose what i need it to do</td>\n",
       "    </tr>\n",
       "    <tr>\n",
       "      <th>13226</th>\n",
       "      <td>Positive</td>\n",
       "      <td>5</td>\n",
       "      <td>perfect phone</td>\n",
       "    </tr>\n",
       "  </tbody>\n",
       "</table>\n",
       "<p>12357 rows × 3 columns</p>\n",
       "</div>"
      ],
      "text/plain": [
       "      sentiment  star                                             review\n",
       "0      Positive     4  good to have monthly payments but so quickly o...\n",
       "1      Positive     5  before we start  apologies for the long review...\n",
       "2      Positive     5  nice looking phone there seems to be a lot of ...\n",
       "3      Positive     5                   new product and prompt delivery \n",
       "4      Positive     4  phone is as expected from an iphone    not muc...\n",
       "...         ...   ...                                                ...\n",
       "13222  Positive     5  so happy with this product and delivery was sp...\n",
       "13223  Positive     5                                          good item\n",
       "13224  Positive     5  i bought this phone for my other half after th...\n",
       "13225  Positive     5             lovely phone dose what i need it to do\n",
       "13226  Positive     5                                      perfect phone\n",
       "\n",
       "[12357 rows x 3 columns]"
      ]
     },
     "execution_count": 9,
     "metadata": {},
     "output_type": "execute_result"
    }
   ],
   "source": [
    "import re\n",
    "import string\n",
    "\n",
    "# Removing the \\n expressions from the reviews\n",
    "data['review'] = data['review'].str.replace(\"\\n\",\"\")\n",
    "# Removing the numbers from the reviews\n",
    "alphanumeric = lambda x: re.sub('\\w*\\d\\w*', ' ', x)\n",
    "# Removing the punctations from the reviews ve converting all letters to lowercase\n",
    "punc_lower = lambda x: re.sub('[%s]' % re.escape(string.punctuation), ' ', x.lower()) \n",
    "\n",
    "data['review'] = data.review.map(alphanumeric).map(punc_lower)\n",
    "data"
   ]
  },
  {
   "cell_type": "code",
   "execution_count": 10,
   "id": "3748e824",
   "metadata": {},
   "outputs": [],
   "source": [
    "#Other stemmer methods can be tried\n",
    "from nltk.stem import SnowballStemmer\n",
    "from nltk.stem import LancasterStemmer\n",
    "from nltk.stem import ISRIStemmer\n",
    "from nltk.stem import PorterStemmer\n",
    "from nltk.stem import RegexpStemmer\n",
    "from nltk.stem import RSLPStemmer\n",
    "\n",
    "sbs = SnowballStemmer(language='english')"
   ]
  },
  {
   "cell_type": "code",
   "execution_count": 11,
   "id": "d776a6bd",
   "metadata": {},
   "outputs": [
    {
     "data": {
      "text/plain": [
       "0        good to have month payment but so quick out of...\n",
       "1        befor we start  apolog for the long review  bu...\n",
       "2        nice look phone there seem to be a lot of tin ...\n",
       "3                         new product and prompt deliveri \n",
       "4        phone is as expect from an iphon    not much e...\n",
       "                               ...                        \n",
       "13222    so happi with this product and deliveri was sp...\n",
       "13223                                            good item\n",
       "13224    i bought this phone for my other half after th...\n",
       "13225                 love phone dose what i need it to do\n",
       "13226                                        perfect phone\n",
       "Name: review, Length: 12357, dtype: object"
      ]
     },
     "execution_count": 11,
     "metadata": {},
     "output_type": "execute_result"
    }
   ],
   "source": [
    "def stemmer(text):\n",
    "    text = [sbs.stem(word) for word in text.split(' ')]\n",
    "    text = \" \".join(text)\n",
    "    return text\n",
    "\n",
    "data.review = data.review.apply(stemmer)\n",
    "data.review"
   ]
  },
  {
   "cell_type": "code",
   "execution_count": null,
   "id": "3264cee1",
   "metadata": {},
   "outputs": [],
   "source": [
    "from textblob import TextBlob\n",
    "\n",
    "def correct(text):\n",
    "    text = [str(TextBlob(word).correct()) for word in text.split(' ')]\n",
    "    text = \" \".join(text)\n",
    "    return text\n",
    "\n",
    "data.review = data.review.apply(correct)\n",
    "data.review"
   ]
  },
  {
   "cell_type": "code",
   "execution_count": null,
   "id": "9c54852a",
   "metadata": {},
   "outputs": [],
   "source": [
    "X = data.reviews\n",
    "y = data.sentiment"
   ]
  },
  {
   "cell_type": "code",
   "execution_count": null,
   "id": "a03c3085",
   "metadata": {},
   "outputs": [],
   "source": [
    "from sklearn.model_selection import train_test_split\n",
    "X_train, X_test, y_train, y_test = train_test_split(X, y, test_size=0.3, random_state=42)"
   ]
  },
  {
   "cell_type": "code",
   "execution_count": null,
   "id": "e10b69ad",
   "metadata": {},
   "outputs": [],
   "source": []
  }
 ],
 "metadata": {
  "kernelspec": {
   "display_name": "Python 3 (ipykernel)",
   "language": "python",
   "name": "python3"
  },
  "language_info": {
   "codemirror_mode": {
    "name": "ipython",
    "version": 3
   },
   "file_extension": ".py",
   "mimetype": "text/x-python",
   "name": "python",
   "nbconvert_exporter": "python",
   "pygments_lexer": "ipython3",
   "version": "3.9.12"
  }
 },
 "nbformat": 4,
 "nbformat_minor": 5
}
